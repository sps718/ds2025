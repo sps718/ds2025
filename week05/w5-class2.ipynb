{
 "cells": [
  {
   "cell_type": "code",
   "execution_count": null,
   "id": "63190c67",
   "metadata": {},
   "outputs": [],
   "source": [
    "!echo \"hello world\""
   ]
  },
  {
   "cell_type": "code",
   "execution_count": null,
   "id": "13dbbefa",
   "metadata": {},
   "outputs": [],
   "source": [
    "import bs4\n",
    "\n",
    "type(bs4)"
   ]
  },
  {
   "cell_type": "code",
   "execution_count": null,
   "id": "ac0b313f",
   "metadata": {},
   "outputs": [],
   "source": [
    "globals()"
   ]
  },
  {
   "cell_type": "code",
   "execution_count": null,
   "id": "eb49de7d",
   "metadata": {},
   "outputs": [],
   "source": [
    "variable = \"s\"\n",
    "\n",
    "globals()"
   ]
  },
  {
   "cell_type": "code",
   "execution_count": null,
   "id": "076a5b4e",
   "metadata": {},
   "outputs": [],
   "source": [
    "locals()"
   ]
  },
  {
   "cell_type": "code",
   "execution_count": null,
   "id": "fb135e42",
   "metadata": {},
   "outputs": [],
   "source": [
    "def func():\n",
    "    s = \"within the function\"\n",
    "    print(locals())\n",
    "\n",
    "func()"
   ]
  },
  {
   "cell_type": "code",
   "execution_count": null,
   "id": "99fab89b",
   "metadata": {},
   "outputs": [],
   "source": [
    "!pip install bs4"
   ]
  },
  {
   "cell_type": "code",
   "execution_count": null,
   "id": "0dc80fa5",
   "metadata": {},
   "outputs": [],
   "source": [
    "import requests\n",
    "\n",
    "from bs4 import BeautifulSoup"
   ]
  },
  {
   "cell_type": "code",
   "execution_count": null,
   "id": "1ba60145",
   "metadata": {},
   "outputs": [],
   "source": [
    "ycom = \"https://news.ycombinator.com/\""
   ]
  },
  {
   "cell_type": "code",
   "execution_count": null,
   "id": "0a99e280",
   "metadata": {},
   "outputs": [],
   "source": [
    "# we know we want to target multiple pages\n",
    "# but we need to get one page working first\n",
    "# and then we can attempt to deal with pagination\n",
    "\n",
    "# get method sends a request asking to get back data\n",
    "# post method sends a request containing data \n",
    "\n",
    "# 2xx - success\n",
    "# 3xx - redirection\n",
    "# 4xx - application\n",
    "# 5xx - server \n",
    "\n",
    "\n",
    "response = requests.get(ycom)\n",
    "response.text\n",
    "#response.content"
   ]
  },
  {
   "cell_type": "code",
   "execution_count": null,
   "id": "130bdc39",
   "metadata": {},
   "outputs": [],
   "source": [
    "# types of control structures\n",
    "# if statement\n",
    "# for loops\n",
    "# while loops\n",
    "# with statement \n",
    "\n",
    "\n",
    "\n",
    "\n",
    "if not response.status_code == 200:\n",
    "    print(\"error sending get request to web server\")\n",
    "else:\n",
    "    # we get here if \n",
    "    # response.status == 200\n",
    "    soup = BeautifulSoup(response.content, \"html.parser\")\n",
    "\n",
    "      \n",
    "# soup.find_all(name, attribute)\n",
    "#soup.find_all(class_=\"title\")"
   ]
  },
  {
   "cell_type": "code",
   "execution_count": null,
   "id": "299fedae",
   "metadata": {},
   "outputs": [],
   "source": [
    "# BeautifulSoup() # capital B implies Class so this creates an instance#\n",
    "#func() # this is a function call because its lowercase "
   ]
  },
  {
   "cell_type": "code",
   "execution_count": null,
   "id": "0347ab4c",
   "metadata": {},
   "outputs": [],
   "source": [
    "articles = soup.find_all(class_=\"titleline\")\n",
    "\n",
    "\n",
    "a_tags = []\n",
    "for article in articles:\n",
    "    anchor = article.find('a')\n",
    "    # print(anchor.text)\n",
    "    a_tags.append(anchor.text)\n",
    "\n",
    "a_tags"
   ]
  },
  {
   "cell_type": "code",
   "execution_count": null,
   "id": "a48e7f1b",
   "metadata": {},
   "outputs": [],
   "source": [
    "def get_titles_from_page(variable_url: str):\n",
    "    response = requests.get(variable_url)\n",
    "    \n",
    "    if not response.status_code == 200:\n",
    "        print(\"error sending get request to web server\")\n",
    "    else:\n",
    "    # we get here if \n",
    "    # response.status == 200\n",
    "        soup = BeautifulSoup(response.content, \"html.parser\")\n",
    "\n",
    "    articles = soup.find_all(class_=\"titleline\")\n",
    "    a_tags = []\n",
    "\n",
    "    for article in articles:\n",
    "        anchor = article.find('a')\n",
    "        # print(anchor.text)\n",
    "        a_tags.append(anchor.text)\n",
    "    \n",
    "    return a_tags\n",
    " \n",
    "# https://news.ycombinator.com/?p=1\n",
    "# https://news.ycombinator.com/?p=2\n",
    "# https://news.ycombinator.com/?p=3\n",
    "# https://news.ycombinator.com/?p=4\n",
    "# https://news.ycombinator.com/?p= 5\n",
    "\n",
    "URL = \"https://news.ycombinator.com/?p=\"\n",
    "\n",
    "\n",
    "\n",
    "# get_titles_from_page(URL)\n",
    "URL + \"3\""
   ]
  },
  {
   "cell_type": "code",
   "execution_count": null,
   "id": "18999179",
   "metadata": {},
   "outputs": [],
   "source": [
    "base_url = \"https://news.ycombinator.com/?p=\"\n",
    "\n",
    "all_the_titles = []\n",
    "for i in range(1,6):\n",
    "    url = base_url + str(i)\n",
    "    list_of_titles = get_titles_from_page(url)\n",
    "    all_the_titles += list_of_titles\n",
    "\n",
    "print(all_the_titles)"
   ]
  },
  {
   "cell_type": "code",
   "execution_count": null,
   "id": "858313e3",
   "metadata": {},
   "outputs": [],
   "source": [
    "len(all_the_titles)"
   ]
  },
  {
   "cell_type": "code",
   "execution_count": null,
   "id": "5e12ea5d",
   "metadata": {},
   "outputs": [],
   "source": [
    "int('34')"
   ]
  },
  {
   "cell_type": "code",
   "execution_count": null,
   "id": "da8d1ffd",
   "metadata": {},
   "outputs": [],
   "source": [
    "\"a RAndom Sstring\".upper()"
   ]
  },
  {
   "cell_type": "code",
   "execution_count": null,
   "id": "9db43d0e",
   "metadata": {},
   "outputs": [],
   "source": [
    "s = \"a RAndom Sstring\"\n",
    "\n",
    "s.lower()"
   ]
  },
  {
   "cell_type": "code",
   "execution_count": null,
   "id": "7628a320",
   "metadata": {},
   "outputs": [],
   "source": [
    "\"aRAndom@Sstring.com\".partition('@')\n",
    "\n",
    "#('a RAn' , 'd'  ,'om Sstring' )"
   ]
  },
  {
   "cell_type": "code",
   "execution_count": null,
   "id": "360b217b",
   "metadata": {},
   "outputs": [],
   "source": [
    "\"replaceable text\".replace(\"a\", \"#\")"
   ]
  },
  {
   "cell_type": "code",
   "execution_count": null,
   "id": "2a5a899d",
   "metadata": {},
   "outputs": [],
   "source": [
    "\"123456\".find('!')"
   ]
  },
  {
   "cell_type": "code",
   "execution_count": null,
   "id": "1ec3a7c7",
   "metadata": {},
   "outputs": [],
   "source": [
    "\"123456\".index('!')"
   ]
  },
  {
   "cell_type": "code",
   "execution_count": null,
   "id": "5ff6597e",
   "metadata": {},
   "outputs": [],
   "source": [
    "\"   sdfsf    \".strip()"
   ]
  },
  {
   "cell_type": "code",
   "execution_count": null,
   "id": "6f4e406c",
   "metadata": {},
   "outputs": [],
   "source": [
    "\"dunder\".endswith('__')"
   ]
  },
  {
   "cell_type": "code",
   "execution_count": null,
   "id": "232d65b1",
   "metadata": {},
   "outputs": [],
   "source": [
    "\"8\".isdecimal()"
   ]
  },
  {
   "cell_type": "code",
   "execution_count": null,
   "id": "597bde00",
   "metadata": {},
   "outputs": [],
   "source": []
  }
 ],
 "metadata": {
  "kernelspec": {
   "display_name": "ds",
   "language": "python",
   "name": "python3"
  },
  "language_info": {
   "codemirror_mode": {
    "name": "ipython",
    "version": 3
   },
   "file_extension": ".py",
   "mimetype": "text/x-python",
   "name": "python",
   "nbconvert_exporter": "python",
   "pygments_lexer": "ipython3",
   "version": "3.12.9"
  }
 },
 "nbformat": 4,
 "nbformat_minor": 5
}
