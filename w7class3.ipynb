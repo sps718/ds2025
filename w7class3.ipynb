{
 "cells": [
  {
   "cell_type": "code",
   "execution_count": 4,
   "id": "efec9556",
   "metadata": {},
   "outputs": [],
   "source": [
    "import pandas as pd\n",
    "import numpy as np\n",
    "import seaborn as sns\n",
    "import warnings\n",
    "\n",
    "from IPython.display import display\n",
    "\n",
    "import matplotlib.pyplot as plt\n",
    "warnings.filterwarnings('ignore')\n",
    "# Set visualization styles\n",
    "plt.style.use('fivethirtyeight')\n",
    "sns.set(style=\"darkgrid\")\n",
    "%matplotlib inline\n"
   ]
  },
  {
   "cell_type": "code",
   "execution_count": 5,
   "id": "02012d1d",
   "metadata": {},
   "outputs": [
    {
     "name": "stdout",
     "output_type": "stream",
     "text": [
      "Series example:\n",
      "a    1\n",
      "b    2\n",
      "c    3\n",
      "d    4\n",
      "dtype: int64\n"
     ]
    }
   ],
   "source": [
    "#---------- 1. BASICS ----------#\n",
    "\n",
    "# Creating a Series\n",
    "s = pd.Series([1, 2, 3, 4], index=['a', 'b', 'c', 'd'])\n",
    "print(\"Series example:\")\n",
    "print(s)"
   ]
  },
  {
   "cell_type": "code",
   "execution_count": 24,
   "id": "65377df7",
   "metadata": {},
   "outputs": [
    {
     "name": "stdout",
     "output_type": "stream",
     "text": [
      "\n",
      "DataFrame example:\n"
     ]
    },
    {
     "data": {
      "text/html": [
       "<div>\n",
       "<style scoped>\n",
       "    .dataframe tbody tr th:only-of-type {\n",
       "        vertical-align: middle;\n",
       "    }\n",
       "\n",
       "    .dataframe tbody tr th {\n",
       "        vertical-align: top;\n",
       "    }\n",
       "\n",
       "    .dataframe thead th {\n",
       "        text-align: right;\n",
       "    }\n",
       "</style>\n",
       "<table border=\"1\" class=\"dataframe\">\n",
       "  <thead>\n",
       "    <tr style=\"text-align: right;\">\n",
       "      <th></th>\n",
       "      <th>Name</th>\n",
       "      <th>Age</th>\n",
       "      <th>City</th>\n",
       "      <th>Salary</th>\n",
       "    </tr>\n",
       "  </thead>\n",
       "  <tbody>\n",
       "    <tr>\n",
       "      <th>0</th>\n",
       "      <td>John</td>\n",
       "      <td>28</td>\n",
       "      <td>New York</td>\n",
       "      <td>50000</td>\n",
       "    </tr>\n",
       "    <tr>\n",
       "      <th>1</th>\n",
       "      <td>Anna</td>\n",
       "      <td>34</td>\n",
       "      <td>Paris</td>\n",
       "      <td>60000</td>\n",
       "    </tr>\n",
       "    <tr>\n",
       "      <th>2</th>\n",
       "      <td>Peter</td>\n",
       "      <td>29</td>\n",
       "      <td>Berlin</td>\n",
       "      <td>55000</td>\n",
       "    </tr>\n",
       "    <tr>\n",
       "      <th>3</th>\n",
       "      <td>Linda</td>\n",
       "      <td>42</td>\n",
       "      <td>London</td>\n",
       "      <td>70000</td>\n",
       "    </tr>\n",
       "  </tbody>\n",
       "</table>\n",
       "</div>"
      ],
      "text/plain": [
       "    Name  Age      City  Salary\n",
       "0   John   28  New York   50000\n",
       "1   Anna   34     Paris   60000\n",
       "2  Peter   29    Berlin   55000\n",
       "3  Linda   42    London   70000"
      ]
     },
     "metadata": {},
     "output_type": "display_data"
    }
   ],
   "source": [
    "\n",
    "# Creating a DataFrame from a dictionary\n",
    "data = {\n",
    "    'Name': ['John', 'Anna', 'Peter', 'Linda'],\n",
    "    'Age': [28, 34, 29, 42],\n",
    "    'City': ['New York', 'Paris', 'Berlin', 'London'],\n",
    "    'Salary': [50000, 60000, 55000, 70000]\n",
    "}\n",
    "df = pd.DataFrame(data)\n",
    "print(\"\\nDataFrame example:\")\n",
    "display(df)\n"
   ]
  },
  {
   "cell_type": "code",
   "execution_count": null,
   "id": "3c56cf52",
   "metadata": {},
   "outputs": [],
   "source": [
    "from io import StringIO\n",
    "\n",
    "csvdata = \"\"\"\n",
    "product_id,product_name,category,price,in_stock\n",
    "1001,Laptop,Electronics,1200.50,True\n",
    "1002,Desk Chair,Furniture,150.75,True\n",
    "1003,Coffee Maker,Appliances,89.99,True\n",
    "1004,Wireless Mouse,Electronics,24.99,False\n",
    "1005,Bookshelf,Furniture,175.00,True\n",
    "1006,Blender,Appliances,49.95,False\n",
    "1007,Monitor,Electronics,299.99,True\n",
    "1008,Office Desk,Furniture,225.50,True\n",
    "\"\"\".strip()\n",
    "\n",
    "# Create a simulated CSV file in memory\n",
    "simulated_file = StringIO(csvdata)\n",
    "print(simulated_file.getvalue())\n",
    "\n",
    "\n",
    "# Example of reading the simulated file\n",
    "df_products = pd.read_csv(simulated_file)\n",
    "print(\"\\nSimulated CSV file loaded as DataFrame:\")\n",
    "display(df_products)\n",
    "\n",
    "# Reading data from file\n",
    "# df = pd.read_csv('data.csv')\n",
    "# df = pd.read_excel('data.xlsx')\n",
    "# df = pd.read_json('data.json')\n",
    "# df = pd.read_sql('SELECT * FROM table', connection)\n"
   ]
  },
  {
   "cell_type": "markdown",
   "id": "cda8a9e1",
   "metadata": {},
   "source": [
    "\n",
    "# 2. DATA INSPECTION "
   ]
  },
  {
   "cell_type": "code",
   "execution_count": 8,
   "id": "94f08fc4",
   "metadata": {},
   "outputs": [
    {
     "data": {
      "text/html": [
       "<div>\n",
       "<style scoped>\n",
       "    .dataframe tbody tr th:only-of-type {\n",
       "        vertical-align: middle;\n",
       "    }\n",
       "\n",
       "    .dataframe tbody tr th {\n",
       "        vertical-align: top;\n",
       "    }\n",
       "\n",
       "    .dataframe thead th {\n",
       "        text-align: right;\n",
       "    }\n",
       "</style>\n",
       "<table border=\"1\" class=\"dataframe\">\n",
       "  <thead>\n",
       "    <tr style=\"text-align: right;\">\n",
       "      <th></th>\n",
       "      <th>Name</th>\n",
       "      <th>Age</th>\n",
       "      <th>City</th>\n",
       "      <th>Salary</th>\n",
       "    </tr>\n",
       "  </thead>\n",
       "  <tbody>\n",
       "    <tr>\n",
       "      <th>0</th>\n",
       "      <td>John</td>\n",
       "      <td>28</td>\n",
       "      <td>New York</td>\n",
       "      <td>50000</td>\n",
       "    </tr>\n",
       "    <tr>\n",
       "      <th>1</th>\n",
       "      <td>Anna</td>\n",
       "      <td>34</td>\n",
       "      <td>Paris</td>\n",
       "      <td>60000</td>\n",
       "    </tr>\n",
       "    <tr>\n",
       "      <th>2</th>\n",
       "      <td>Peter</td>\n",
       "      <td>29</td>\n",
       "      <td>Berlin</td>\n",
       "      <td>55000</td>\n",
       "    </tr>\n",
       "    <tr>\n",
       "      <th>3</th>\n",
       "      <td>Linda</td>\n",
       "      <td>42</td>\n",
       "      <td>London</td>\n",
       "      <td>70000</td>\n",
       "    </tr>\n",
       "  </tbody>\n",
       "</table>\n",
       "</div>"
      ],
      "text/plain": [
       "    Name  Age      City  Salary\n",
       "0   John   28  New York   50000\n",
       "1   Anna   34     Paris   60000\n",
       "2  Peter   29    Berlin   55000\n",
       "3  Linda   42    London   70000"
      ]
     },
     "metadata": {},
     "output_type": "display_data"
    }
   ],
   "source": [
    "display(df)"
   ]
  },
  {
   "cell_type": "code",
   "execution_count": 12,
   "id": "3fc589e1",
   "metadata": {},
   "outputs": [
    {
     "name": "stdout",
     "output_type": "stream",
     "text": [
      "\n",
      "Basic DataFrame properties:\n",
      "Shape: (4, 4)\n",
      "we have 16 number of values\n"
     ]
    }
   ],
   "source": [
    "\n",
    "# Basic methods\n",
    "print(\"\\nBasic DataFrame properties:\")\n",
    "print(f\"Shape: {df.shape}\")\n",
    "\n",
    "# [4,5,6,] - list\n",
    "# (4,5,6) - tuple\n",
    "# {4,5,6} - set\n",
    "# {'key':4, 'key2': 5, 'key3': 6} - dict\n",
    "\n",
    "print(f\"we have {df.shape[0] * df.shape[1]} number of values\")\n",
    "\n"
   ]
  },
  {
   "cell_type": "code",
   "execution_count": null,
   "id": "ce2eb557",
   "metadata": {},
   "outputs": [
    {
     "name": "stdout",
     "output_type": "stream",
     "text": [
      "\n",
      "DataFrame info:\n",
      "<class 'pandas.core.frame.DataFrame'>\n",
      "RangeIndex: 4 entries, 0 to 3\n",
      "Data columns (total 4 columns):\n",
      " #   Column  Non-Null Count  Dtype \n",
      "---  ------  --------------  ----- \n",
      " 0   Name    4 non-null      object\n",
      " 1   Age     4 non-null      int64 \n",
      " 2   City    4 non-null      object\n",
      " 3   Salary  4 non-null      int64 \n",
      "dtypes: int64(2), object(2)\n",
      "memory usage: 260.0+ bytes\n"
     ]
    }
   ],
   "source": [
    "# Get information about the DataFrame\n",
    "print(\"\\nDataFrame info:\")\n",
    "df.nfo() i# this does a print behind the scenes so no need to use print/display"
   ]
  },
  {
   "cell_type": "code",
   "execution_count": 16,
   "id": "0ef6635b",
   "metadata": {},
   "outputs": [
    {
     "name": "stdout",
     "output_type": "stream",
     "text": [
      "Column names: ['Nombre', 'Edad', 'Ciudad', 'Salario']\n",
      "  Nombre  Edad    Ciudad  Salario\n",
      "0   John    28  New York    50000\n",
      "1   Anna    34     Paris    60000\n",
      "2  Peter    29    Berlin    55000\n",
      "3  Linda    42    London    70000\n",
      "\n",
      "Column names: ['Nombre', 'Edad', 'Ciudad', 'Salario']\n",
      "  Nombre  Edad    Ciudad  Salario\n",
      "0   John    28  New York    50000\n",
      "1   Anna    34     Paris    60000\n",
      "2  Peter    29    Berlin    55000\n",
      "3  Linda    42    London    70000\n",
      "  Nombre  Edad    Ciudad  Salario\n",
      "0   John    28  New York    50000\n",
      "1   Anna    34     Paris    60000\n",
      "2  Peter    29    Berlin    55000\n",
      "3  Linda    42    London    70000\n"
     ]
    }
   ],
   "source": [
    "\n",
    "print(f\"Column names: {df.columns.tolist()}\")\n",
    "print(df)\n",
    "print()\n",
    "\n",
    "df_in_espanol = df.copy() # Making a copy of the DataFrame\n",
    "df_in_espanol.columns = ['Nombre', 'Edad', 'Ciudad', 'Salario']  # Reassigning column names\n",
    "print(f\"Column names: {df_in_espanol.columns.tolist()}\")\n",
    "print(df_in_espanol)\n",
    "print(df)"
   ]
  },
  {
   "cell_type": "code",
   "execution_count": 17,
   "id": "1f36cf26",
   "metadata": {},
   "outputs": [
    {
     "name": "stdout",
     "output_type": "stream",
     "text": [
      "Row names: [0, 1, 2, 3]\n",
      "  Nombre  Edad    Ciudad  Salario\n",
      "0   John    28  New York    50000\n",
      "1   Anna    34     Paris    60000\n",
      "2  Peter    29    Berlin    55000\n",
      "3  Linda    42    London    70000\n",
      "\n",
      "       Nombre  Edad    Ciudad  Salario\n",
      "uno      John    28  New York    50000\n",
      "dos      Anna    34     Paris    60000\n",
      "tres    Peter    29    Berlin    55000\n",
      "cuatro  Linda    42    London    70000\n"
     ]
    }
   ],
   "source": [
    "print(f\"Row names: {df.index.tolist()}\")\n",
    "print(df)\n",
    "print()\n",
    "\n",
    "df_in_espanol.index = ['uno', 'dos', 'tres', 'cuatro']  # Reassigning row names\n",
    "print(df_in_espanol)"
   ]
  },
  {
   "cell_type": "code",
   "execution_count": 18,
   "id": "aa6c365c",
   "metadata": {},
   "outputs": [
    {
     "name": "stdout",
     "output_type": "stream",
     "text": [
      "Data types:\n",
      "Nombre     object\n",
      "Edad        int64\n",
      "Ciudad     object\n",
      "Salario     int64\n",
      "dtype: object\n"
     ]
    }
   ],
   "source": [
    "print(f\"Data types:\\n{df.dtypes}\")\n"
   ]
  },
  {
   "cell_type": "code",
   "execution_count": 20,
   "id": "5ebfca28",
   "metadata": {},
   "outputs": [
    {
     "name": "stdout",
     "output_type": "stream",
     "text": [
      "\n",
      "First 2 rows:\n",
      "  Nombre  Edad    Ciudad  Salario\n",
      "0   John    28  New York    50000\n",
      "1   Anna    34     Paris    60000\n",
      "\n",
      "Last 2 rows:\n",
      "  Nombre  Edad  Ciudad  Salario\n",
      "2  Peter    29  Berlin    55000\n",
      "3  Linda    42  London    70000\n"
     ]
    }
   ],
   "source": [
    "print(\"\\nFirst 2 rows:\")\n",
    "print(df.head(2))\n",
    "print(\"\\nLast 2 rows:\")\n",
    "print(df.tail(2))"
   ]
  },
  {
   "cell_type": "code",
   "execution_count": 21,
   "id": "7a959755",
   "metadata": {},
   "outputs": [
    {
     "data": {
      "text/html": [
       "<div>\n",
       "<style scoped>\n",
       "    .dataframe tbody tr th:only-of-type {\n",
       "        vertical-align: middle;\n",
       "    }\n",
       "\n",
       "    .dataframe tbody tr th {\n",
       "        vertical-align: top;\n",
       "    }\n",
       "\n",
       "    .dataframe thead th {\n",
       "        text-align: right;\n",
       "    }\n",
       "</style>\n",
       "<table border=\"1\" class=\"dataframe\">\n",
       "  <thead>\n",
       "    <tr style=\"text-align: right;\">\n",
       "      <th></th>\n",
       "      <th>Nombre</th>\n",
       "      <th>Edad</th>\n",
       "      <th>Ciudad</th>\n",
       "      <th>Salario</th>\n",
       "    </tr>\n",
       "  </thead>\n",
       "  <tbody>\n",
       "    <tr>\n",
       "      <th>0</th>\n",
       "      <td>John</td>\n",
       "      <td>28</td>\n",
       "      <td>New York</td>\n",
       "      <td>50000</td>\n",
       "    </tr>\n",
       "    <tr>\n",
       "      <th>1</th>\n",
       "      <td>Anna</td>\n",
       "      <td>34</td>\n",
       "      <td>Paris</td>\n",
       "      <td>60000</td>\n",
       "    </tr>\n",
       "    <tr>\n",
       "      <th>2</th>\n",
       "      <td>Peter</td>\n",
       "      <td>29</td>\n",
       "      <td>Berlin</td>\n",
       "      <td>55000</td>\n",
       "    </tr>\n",
       "    <tr>\n",
       "      <th>3</th>\n",
       "      <td>Linda</td>\n",
       "      <td>42</td>\n",
       "      <td>London</td>\n",
       "      <td>70000</td>\n",
       "    </tr>\n",
       "  </tbody>\n",
       "</table>\n",
       "</div>"
      ],
      "text/plain": [
       "  Nombre  Edad    Ciudad  Salario\n",
       "0   John    28  New York    50000\n",
       "1   Anna    34     Paris    60000\n",
       "2  Peter    29    Berlin    55000\n",
       "3  Linda    42    London    70000"
      ]
     },
     "metadata": {},
     "output_type": "display_data"
    },
    {
     "name": "stdout",
     "output_type": "stream",
     "text": [
      "\n",
      "Summary statistics:\n"
     ]
    },
    {
     "data": {
      "text/html": [
       "<div>\n",
       "<style scoped>\n",
       "    .dataframe tbody tr th:only-of-type {\n",
       "        vertical-align: middle;\n",
       "    }\n",
       "\n",
       "    .dataframe tbody tr th {\n",
       "        vertical-align: top;\n",
       "    }\n",
       "\n",
       "    .dataframe thead th {\n",
       "        text-align: right;\n",
       "    }\n",
       "</style>\n",
       "<table border=\"1\" class=\"dataframe\">\n",
       "  <thead>\n",
       "    <tr style=\"text-align: right;\">\n",
       "      <th></th>\n",
       "      <th>Edad</th>\n",
       "      <th>Salario</th>\n",
       "    </tr>\n",
       "  </thead>\n",
       "  <tbody>\n",
       "    <tr>\n",
       "      <th>count</th>\n",
       "      <td>4.000000</td>\n",
       "      <td>4.000000</td>\n",
       "    </tr>\n",
       "    <tr>\n",
       "      <th>mean</th>\n",
       "      <td>33.250000</td>\n",
       "      <td>58750.000000</td>\n",
       "    </tr>\n",
       "    <tr>\n",
       "      <th>std</th>\n",
       "      <td>6.396614</td>\n",
       "      <td>8539.125638</td>\n",
       "    </tr>\n",
       "    <tr>\n",
       "      <th>min</th>\n",
       "      <td>28.000000</td>\n",
       "      <td>50000.000000</td>\n",
       "    </tr>\n",
       "    <tr>\n",
       "      <th>25%</th>\n",
       "      <td>28.750000</td>\n",
       "      <td>53750.000000</td>\n",
       "    </tr>\n",
       "    <tr>\n",
       "      <th>50%</th>\n",
       "      <td>31.500000</td>\n",
       "      <td>57500.000000</td>\n",
       "    </tr>\n",
       "    <tr>\n",
       "      <th>75%</th>\n",
       "      <td>36.000000</td>\n",
       "      <td>62500.000000</td>\n",
       "    </tr>\n",
       "    <tr>\n",
       "      <th>max</th>\n",
       "      <td>42.000000</td>\n",
       "      <td>70000.000000</td>\n",
       "    </tr>\n",
       "  </tbody>\n",
       "</table>\n",
       "</div>"
      ],
      "text/plain": [
       "            Edad       Salario\n",
       "count   4.000000      4.000000\n",
       "mean   33.250000  58750.000000\n",
       "std     6.396614   8539.125638\n",
       "min    28.000000  50000.000000\n",
       "25%    28.750000  53750.000000\n",
       "50%    31.500000  57500.000000\n",
       "75%    36.000000  62500.000000\n",
       "max    42.000000  70000.000000"
      ]
     },
     "metadata": {},
     "output_type": "display_data"
    }
   ],
   "source": [
    "\n",
    "# Summary statistics\n",
    "display(df)\n",
    "print(\"\\nSummary statistics:\")\n",
    "display(df.describe())\n"
   ]
  },
  {
   "cell_type": "code",
   "execution_count": 25,
   "id": "87679311",
   "metadata": {},
   "outputs": [
    {
     "name": "stdout",
     "output_type": "stream",
     "text": [
      "\n",
      "Summary statistics for specific column:\n"
     ]
    },
    {
     "data": {
      "text/plain": [
       "count     4.000000\n",
       "mean     33.250000\n",
       "std       6.396614\n",
       "min      28.000000\n",
       "25%      28.750000\n",
       "50%      31.500000\n",
       "75%      36.000000\n",
       "max      42.000000\n",
       "Name: Age, dtype: float64"
      ]
     },
     "metadata": {},
     "output_type": "display_data"
    },
    {
     "name": "stdout",
     "output_type": "stream",
     "text": [
      "\n",
      "Summary statistics for specific columnS:\n"
     ]
    },
    {
     "data": {
      "text/html": [
       "<div>\n",
       "<style scoped>\n",
       "    .dataframe tbody tr th:only-of-type {\n",
       "        vertical-align: middle;\n",
       "    }\n",
       "\n",
       "    .dataframe tbody tr th {\n",
       "        vertical-align: top;\n",
       "    }\n",
       "\n",
       "    .dataframe thead th {\n",
       "        text-align: right;\n",
       "    }\n",
       "</style>\n",
       "<table border=\"1\" class=\"dataframe\">\n",
       "  <thead>\n",
       "    <tr style=\"text-align: right;\">\n",
       "      <th></th>\n",
       "      <th>Age</th>\n",
       "      <th>Salary</th>\n",
       "    </tr>\n",
       "  </thead>\n",
       "  <tbody>\n",
       "    <tr>\n",
       "      <th>count</th>\n",
       "      <td>4.000000</td>\n",
       "      <td>4.000000</td>\n",
       "    </tr>\n",
       "    <tr>\n",
       "      <th>mean</th>\n",
       "      <td>33.250000</td>\n",
       "      <td>58750.000000</td>\n",
       "    </tr>\n",
       "    <tr>\n",
       "      <th>std</th>\n",
       "      <td>6.396614</td>\n",
       "      <td>8539.125638</td>\n",
       "    </tr>\n",
       "    <tr>\n",
       "      <th>min</th>\n",
       "      <td>28.000000</td>\n",
       "      <td>50000.000000</td>\n",
       "    </tr>\n",
       "    <tr>\n",
       "      <th>25%</th>\n",
       "      <td>28.750000</td>\n",
       "      <td>53750.000000</td>\n",
       "    </tr>\n",
       "    <tr>\n",
       "      <th>50%</th>\n",
       "      <td>31.500000</td>\n",
       "      <td>57500.000000</td>\n",
       "    </tr>\n",
       "    <tr>\n",
       "      <th>75%</th>\n",
       "      <td>36.000000</td>\n",
       "      <td>62500.000000</td>\n",
       "    </tr>\n",
       "    <tr>\n",
       "      <th>max</th>\n",
       "      <td>42.000000</td>\n",
       "      <td>70000.000000</td>\n",
       "    </tr>\n",
       "  </tbody>\n",
       "</table>\n",
       "</div>"
      ],
      "text/plain": [
       "             Age        Salary\n",
       "count   4.000000      4.000000\n",
       "mean   33.250000  58750.000000\n",
       "std     6.396614   8539.125638\n",
       "min    28.000000  50000.000000\n",
       "25%    28.750000  53750.000000\n",
       "50%    31.500000  57500.000000\n",
       "75%    36.000000  62500.000000\n",
       "max    42.000000  70000.000000"
      ]
     },
     "metadata": {},
     "output_type": "display_data"
    },
    {
     "name": "stdout",
     "output_type": "stream",
     "text": [
      "\n",
      "Summary statistics for specific columnS with custom names:\n"
     ]
    },
    {
     "data": {
      "text/html": [
       "<div>\n",
       "<style scoped>\n",
       "    .dataframe tbody tr th:only-of-type {\n",
       "        vertical-align: middle;\n",
       "    }\n",
       "\n",
       "    .dataframe tbody tr th {\n",
       "        vertical-align: top;\n",
       "    }\n",
       "\n",
       "    .dataframe thead th {\n",
       "        text-align: right;\n",
       "    }\n",
       "</style>\n",
       "<table border=\"1\" class=\"dataframe\">\n",
       "  <thead>\n",
       "    <tr style=\"text-align: right;\">\n",
       "      <th></th>\n",
       "      <th>Edad</th>\n",
       "      <th>Salario</th>\n",
       "    </tr>\n",
       "  </thead>\n",
       "  <tbody>\n",
       "    <tr>\n",
       "      <th>count</th>\n",
       "      <td>4.000000</td>\n",
       "      <td>4.000000</td>\n",
       "    </tr>\n",
       "    <tr>\n",
       "      <th>mean</th>\n",
       "      <td>33.250000</td>\n",
       "      <td>58750.000000</td>\n",
       "    </tr>\n",
       "    <tr>\n",
       "      <th>std</th>\n",
       "      <td>6.396614</td>\n",
       "      <td>8539.125638</td>\n",
       "    </tr>\n",
       "    <tr>\n",
       "      <th>min</th>\n",
       "      <td>28.000000</td>\n",
       "      <td>50000.000000</td>\n",
       "    </tr>\n",
       "    <tr>\n",
       "      <th>25%</th>\n",
       "      <td>28.750000</td>\n",
       "      <td>53750.000000</td>\n",
       "    </tr>\n",
       "    <tr>\n",
       "      <th>50%</th>\n",
       "      <td>31.500000</td>\n",
       "      <td>57500.000000</td>\n",
       "    </tr>\n",
       "    <tr>\n",
       "      <th>75%</th>\n",
       "      <td>36.000000</td>\n",
       "      <td>62500.000000</td>\n",
       "    </tr>\n",
       "    <tr>\n",
       "      <th>max</th>\n",
       "      <td>42.000000</td>\n",
       "      <td>70000.000000</td>\n",
       "    </tr>\n",
       "  </tbody>\n",
       "</table>\n",
       "</div>"
      ],
      "text/plain": [
       "            Edad       Salario\n",
       "count   4.000000      4.000000\n",
       "mean   33.250000  58750.000000\n",
       "std     6.396614   8539.125638\n",
       "min    28.000000  50000.000000\n",
       "25%    28.750000  53750.000000\n",
       "50%    31.500000  57500.000000\n",
       "75%    36.000000  62500.000000\n",
       "max    42.000000  70000.000000"
      ]
     },
     "metadata": {},
     "output_type": "display_data"
    },
    {
     "name": "stdout",
     "output_type": "stream",
     "text": [
      "\n",
      "Summary statistics for cities New York and Paris:\n"
     ]
    },
    {
     "data": {
      "text/html": [
       "<div>\n",
       "<style scoped>\n",
       "    .dataframe tbody tr th:only-of-type {\n",
       "        vertical-align: middle;\n",
       "    }\n",
       "\n",
       "    .dataframe tbody tr th {\n",
       "        vertical-align: top;\n",
       "    }\n",
       "\n",
       "    .dataframe thead th {\n",
       "        text-align: right;\n",
       "    }\n",
       "</style>\n",
       "<table border=\"1\" class=\"dataframe\">\n",
       "  <thead>\n",
       "    <tr style=\"text-align: right;\">\n",
       "      <th></th>\n",
       "      <th>Age</th>\n",
       "      <th>Salary</th>\n",
       "    </tr>\n",
       "  </thead>\n",
       "  <tbody>\n",
       "    <tr>\n",
       "      <th>count</th>\n",
       "      <td>2.000000</td>\n",
       "      <td>2.000000</td>\n",
       "    </tr>\n",
       "    <tr>\n",
       "      <th>mean</th>\n",
       "      <td>31.000000</td>\n",
       "      <td>55000.000000</td>\n",
       "    </tr>\n",
       "    <tr>\n",
       "      <th>std</th>\n",
       "      <td>4.242641</td>\n",
       "      <td>7071.067812</td>\n",
       "    </tr>\n",
       "    <tr>\n",
       "      <th>min</th>\n",
       "      <td>28.000000</td>\n",
       "      <td>50000.000000</td>\n",
       "    </tr>\n",
       "    <tr>\n",
       "      <th>25%</th>\n",
       "      <td>29.500000</td>\n",
       "      <td>52500.000000</td>\n",
       "    </tr>\n",
       "    <tr>\n",
       "      <th>50%</th>\n",
       "      <td>31.000000</td>\n",
       "      <td>55000.000000</td>\n",
       "    </tr>\n",
       "    <tr>\n",
       "      <th>75%</th>\n",
       "      <td>32.500000</td>\n",
       "      <td>57500.000000</td>\n",
       "    </tr>\n",
       "    <tr>\n",
       "      <th>max</th>\n",
       "      <td>34.000000</td>\n",
       "      <td>60000.000000</td>\n",
       "    </tr>\n",
       "  </tbody>\n",
       "</table>\n",
       "</div>"
      ],
      "text/plain": [
       "             Age        Salary\n",
       "count   2.000000      2.000000\n",
       "mean   31.000000  55000.000000\n",
       "std     4.242641   7071.067812\n",
       "min    28.000000  50000.000000\n",
       "25%    29.500000  52500.000000\n",
       "50%    31.000000  55000.000000\n",
       "75%    32.500000  57500.000000\n",
       "max    34.000000  60000.000000"
      ]
     },
     "metadata": {},
     "output_type": "display_data"
    }
   ],
   "source": [
    "print(\"\\nSummary statistics for specific column:\")\n",
    "display(df[\"Age\"].describe())\n",
    "print(\"\\nSummary statistics for specific columnS:\")\n",
    "display(df[[\"Age\", \"Salary\"]].describe())\n",
    "print(\"\\nSummary statistics for specific columnS with custom names:\")\n",
    "df_renamed = df[[\"Age\", \"Salary\"]].rename(columns={\"Age\": \"Edad\", \"Salary\": \"Salario\"})\n",
    "display(df_renamed.describe())\n",
    "print(\"\\nSummary statistics for cities New York and Paris:\")\n",
    "display(df[df[\"City\"].isin([\"New York\", \"Paris\"])].describe())"
   ]
  },
  {
   "cell_type": "code",
   "execution_count": 26,
   "id": "0a6142f0",
   "metadata": {},
   "outputs": [
    {
     "name": "stdout",
     "output_type": "stream",
     "text": [
      "\n",
      "DataFrame info:\n",
      "<class 'pandas.core.frame.DataFrame'>\n",
      "RangeIndex: 4 entries, 0 to 3\n",
      "Data columns (total 4 columns):\n",
      " #   Column  Non-Null Count  Dtype \n",
      "---  ------  --------------  ----- \n",
      " 0   Name    4 non-null      object\n",
      " 1   Age     4 non-null      int64 \n",
      " 2   City    4 non-null      object\n",
      " 3   Salary  4 non-null      int64 \n",
      "dtypes: int64(2), object(2)\n",
      "memory usage: 260.0+ bytes\n"
     ]
    }
   ],
   "source": [
    "\n",
    "# Info method\n",
    "print(\"\\nDataFrame info:\")\n",
    "df.info() # this does a print behind the scenes so no need to use print/display\n"
   ]
  },
  {
   "cell_type": "markdown",
   "id": "4a0c47ab",
   "metadata": {},
   "source": [
    "\n",
    "# 3. DATA SELECTION\n"
   ]
  },
  {
   "cell_type": "code",
   "execution_count": 27,
   "id": "441216e3",
   "metadata": {},
   "outputs": [
    {
     "name": "stdout",
     "output_type": "stream",
     "text": [
      "\n",
      "Selecting a column:\n",
      "<class 'pandas.core.series.Series'>\n",
      "0     John\n",
      "1     Anna\n",
      "2    Peter\n",
      "3    Linda\n",
      "Name: Name, dtype: object\n"
     ]
    }
   ],
   "source": [
    "\n",
    "# Column selection\n",
    "print(\"\\nSelecting a column:\")\n",
    "print(type(df['Name']))  # Series\n",
    "print(df['Name'])\n"
   ]
  },
  {
   "cell_type": "code",
   "execution_count": null,
   "id": "3bef1b03",
   "metadata": {},
   "outputs": [],
   "source": [
    "\n",
    "# Multiple columns\n",
    "print(\"\\nSelecting multiple columns:\")\n",
    "print(type(df[['Name', 'Age']]))  # DataFrame\n",
    "display(df[['Name']])\n"
   ]
  },
  {
   "cell_type": "code",
   "execution_count": 37,
   "id": "ccb0abbe",
   "metadata": {},
   "outputs": [
    {
     "name": "stdout",
     "output_type": "stream",
     "text": [
      "\n",
      "Selecting rows with iloc:\n"
     ]
    },
    {
     "data": {
      "text/html": [
       "<div>\n",
       "<style scoped>\n",
       "    .dataframe tbody tr th:only-of-type {\n",
       "        vertical-align: middle;\n",
       "    }\n",
       "\n",
       "    .dataframe tbody tr th {\n",
       "        vertical-align: top;\n",
       "    }\n",
       "\n",
       "    .dataframe thead th {\n",
       "        text-align: right;\n",
       "    }\n",
       "</style>\n",
       "<table border=\"1\" class=\"dataframe\">\n",
       "  <thead>\n",
       "    <tr style=\"text-align: right;\">\n",
       "      <th></th>\n",
       "      <th>Name</th>\n",
       "      <th>Age</th>\n",
       "      <th>City</th>\n",
       "      <th>Salary</th>\n",
       "    </tr>\n",
       "  </thead>\n",
       "  <tbody>\n",
       "    <tr>\n",
       "      <th>0</th>\n",
       "      <td>John</td>\n",
       "      <td>28</td>\n",
       "      <td>New York</td>\n",
       "      <td>50000</td>\n",
       "    </tr>\n",
       "    <tr>\n",
       "      <th>1</th>\n",
       "      <td>Anna</td>\n",
       "      <td>34</td>\n",
       "      <td>Paris</td>\n",
       "      <td>60000</td>\n",
       "    </tr>\n",
       "  </tbody>\n",
       "</table>\n",
       "</div>"
      ],
      "text/plain": [
       "   Name  Age      City  Salary\n",
       "0  John   28  New York   50000\n",
       "1  Anna   34     Paris   60000"
      ]
     },
     "metadata": {},
     "output_type": "display_data"
    }
   ],
   "source": [
    "\n",
    "# Row selection with iloc (integer-based)\n",
    "# iloc is used for integer-location based indexing\n",
    "# this means you can select rows and columns \n",
    "# by their integer index positions\n",
    "# note: iloc is zero-based and exclusive of the last index\n",
    "# iloc[0:2] selects rows 0 and 1\n",
    "print(\"\\nSelecting rows with iloc:\")\n",
    "display(df.iloc[0:2])  # First two rows\n"
   ]
  },
  {
   "cell_type": "code",
   "execution_count": 36,
   "id": "8a7bbb1a",
   "metadata": {},
   "outputs": [
    {
     "name": "stdout",
     "output_type": "stream",
     "text": [
      "\n",
      "Selecting rows with loc:\n"
     ]
    },
    {
     "data": {
      "text/html": [
       "<div>\n",
       "<style scoped>\n",
       "    .dataframe tbody tr th:only-of-type {\n",
       "        vertical-align: middle;\n",
       "    }\n",
       "\n",
       "    .dataframe tbody tr th {\n",
       "        vertical-align: top;\n",
       "    }\n",
       "\n",
       "    .dataframe thead th {\n",
       "        text-align: right;\n",
       "    }\n",
       "</style>\n",
       "<table border=\"1\" class=\"dataframe\">\n",
       "  <thead>\n",
       "    <tr style=\"text-align: right;\">\n",
       "      <th></th>\n",
       "      <th>Age</th>\n",
       "      <th>City</th>\n",
       "    </tr>\n",
       "  </thead>\n",
       "  <tbody>\n",
       "    <tr>\n",
       "      <th>0</th>\n",
       "      <td>28</td>\n",
       "      <td>New York</td>\n",
       "    </tr>\n",
       "    <tr>\n",
       "      <th>1</th>\n",
       "      <td>34</td>\n",
       "      <td>Paris</td>\n",
       "    </tr>\n",
       "    <tr>\n",
       "      <th>2</th>\n",
       "      <td>29</td>\n",
       "      <td>Berlin</td>\n",
       "    </tr>\n",
       "  </tbody>\n",
       "</table>\n",
       "</div>"
      ],
      "text/plain": [
       "   Age      City\n",
       "0   28  New York\n",
       "1   34     Paris\n",
       "2   29    Berlin"
      ]
     },
     "metadata": {},
     "output_type": "display_data"
    }
   ],
   "source": [
    "\n",
    "# Row selection with loc (label-based)\n",
    "# loc is used for label-based indexing\n",
    "# this means you can select rows and columns\n",
    "# by their labels\n",
    "# Note: loc includes the last index in the range\n",
    "# so df.loc[0:2] will include rows with index 0, 1, and 2\n",
    "print(\"\\nSelecting rows with loc:\")\n",
    "display(df.loc[0:2, [\"Age\", \"City\"]])  # Rows with index 0, 1, 2\n"
   ]
  },
  {
   "cell_type": "code",
   "execution_count": null,
   "id": "87474833",
   "metadata": {},
   "outputs": [],
   "source": [
    "\n",
    "# Conditional selection\n",
    "print(\"\\nConditional selection:\")\n",
    "display(df[df['Age'] > 30])\n"
   ]
  },
  {
   "cell_type": "code",
   "execution_count": null,
   "id": "57ed1e32",
   "metadata": {},
   "outputs": [],
   "source": [
    "\n",
    "# Conditional selection with multiple conditions\n",
    "print(\"\\nConditional selection with multiple conditions:\")\n",
    "# Using & for AND, | for OR\n",
    "display(df[(df['Age'] > 30) & (df['City'] == 'Paris')])\n",
    "# Note: & is used for AND, | is used for OR, ~ is used for NOT\n",
    "display(df[(df['Age'] > 30) | (df['City'] == 'Paris')])\n",
    "# Conditional selection with negation\n",
    "display(df[~(df['Age'] > 30)])  \n"
   ]
  },
  {
   "cell_type": "code",
   "execution_count": null,
   "id": "baf5498c",
   "metadata": {},
   "outputs": [],
   "source": [
    "\n",
    "# Conditional selection with isin\n",
    "print(\"\\nConditional selection with isin:\")\n",
    "display(df[df['City'].isin(['New York', 'Berlin'])])\n",
    "display(df[~df['City'].isin(['New York', 'Berlin'])])  # Not in the list\n"
   ]
  },
  {
   "cell_type": "code",
   "execution_count": null,
   "id": "60993306",
   "metadata": {},
   "outputs": [],
   "source": [
    "\n",
    "# Conditional selection with between\n",
    "print(\"\\nConditional selection with between:\")\n",
    "display(df[df['Age'].between(30, 40)])  # Age between 30 and 40\n",
    "display(df[~df['Age'].between(30, 40)])  # Not between 30 and 40\n"
   ]
  },
  {
   "cell_type": "code",
   "execution_count": null,
   "id": "25c47348",
   "metadata": {},
   "outputs": [],
   "source": [
    "\n",
    "# Conditional selection with query\n",
    "# this allows you to use and or instead of & and |\n",
    "# and also allows you to use != instead of ~\n",
    "# Note: query is a bit slower than the above methods\n",
    "print(\"\\nConditional selection with query:\")\n",
    "print(df.query('Age > 30 & City == \"Paris\"'))\n",
    "print(df.query('Age > 30 | City == \"Paris\"'))\n",
    "print(df.query('Age > 30 and City == \"Paris\"'))  # Logical AND\n",
    "print(df.query('Age > 30 or City == \"Paris\"'))  # Logical OR\n",
    "print(df.query('Age > 30 and City != \"Paris\"'))  # Logical AND with NOT\n"
   ]
  },
  {
   "cell_type": "markdown",
   "id": "3cc4a94f",
   "metadata": {},
   "source": [
    "\n",
    "# 4. DATA CLEANING\n"
   ]
  },
  {
   "cell_type": "code",
   "execution_count": null,
   "id": "5613257c",
   "metadata": {},
   "outputs": [],
   "source": [
    "\n",
    "# Create a dataframe with missing values\n",
    "df_missing = pd.DataFrame({\n",
    "    'A': [1, 2, np.nan, 4],\n",
    "    'B': [5, np.nan, np.nan, 8],\n",
    "    'C': [9, 10, 11, 12]\n",
    "})\n"
   ]
  },
  {
   "cell_type": "code",
   "execution_count": null,
   "id": "b6958feb",
   "metadata": {},
   "outputs": [],
   "source": [
    "\n",
    "print(\"\\nDataFrame with missing values:\")\n",
    "display(df_missing)\n"
   ]
  },
  {
   "cell_type": "code",
   "execution_count": null,
   "id": "88e92a1e",
   "metadata": {},
   "outputs": [],
   "source": [
    "\n",
    "# Check for missing values\n",
    "print(\"\\nMissing value check:\")\n",
    "print(df_missing.isnull().sum())\n"
   ]
  },
  {
   "cell_type": "code",
   "execution_count": null,
   "id": "46c04de7",
   "metadata": {},
   "outputs": [],
   "source": [
    "\n",
    "# Fill missing values\n",
    "print(\"\\nFilling missing values:\")\n",
    "print(df_missing.fillna(0))  # Fill with 0\n",
    "print(\"\\nForward fill:\")\n",
    "print(df_missing.ffill())  # Forward fill\n",
    "print(\"\\nBackward fill:\")\n",
    "print(df_missing.bfill())  # Backward fill\n"
   ]
  },
  {
   "cell_type": "code",
   "execution_count": null,
   "id": "f38a7fdc",
   "metadata": {},
   "outputs": [],
   "source": [
    "\n",
    "# Drop missing values\n",
    "print(\"\\nDropping rows with any missing values:\")\n",
    "print(df_missing.dropna())\n",
    "print(\"\\nDropping columns with any missing values:\")\n",
    "print(df_missing.dropna(axis=1))\n"
   ]
  },
  {
   "cell_type": "code",
   "execution_count": null,
   "id": "25658a13",
   "metadata": {},
   "outputs": [],
   "source": [
    "\n",
    "# Removing duplicates\n",
    "df_dup = pd.DataFrame({\n",
    "    'A': [1, 1, 2, 3],\n",
    "    'B': [5, 5, 7, 8]\n",
    "})\n",
    "print(\"\\nDataFrame with duplicates:\")\n",
    "display(df_dup)\n",
    "print(\"\\nAfter removing duplicates:\")\n",
    "display(df_dup.drop_duplicates())\n"
   ]
  },
  {
   "cell_type": "markdown",
   "id": "7f1ce45c",
   "metadata": {},
   "source": [
    "\n",
    "# 5. DATA MANIPULATION\n"
   ]
  },
  {
   "cell_type": "code",
   "execution_count": null,
   "id": "63ffcfd8",
   "metadata": {},
   "outputs": [],
   "source": [
    "\n",
    "data = {\n",
    "    'Name': ['John', 'Anna', 'Peter', 'Linda'],\n",
    "    'Age': [28, 34, 29, 42],\n",
    "    'City': ['New York', 'Paris', 'Berlin', 'London'],\n",
    "    'Salary': [50000, 60000, 55000, 70000]\n",
    "}\n",
    "df = pd.DataFrame(data)\n",
    "display(df)"
   ]
  },
  {
   "cell_type": "code",
   "execution_count": null,
   "id": "9c2105e2",
   "metadata": {},
   "outputs": [],
   "source": [
    "\n",
    "# Add a new column\n",
    "df['Income_Category'] = ['Medium', 'High', 'Medium', 'High']\n",
    "print(\"\\nAdding a new column:\")\n",
    "display(df)\n"
   ]
  },
  {
   "cell_type": "code",
   "execution_count": null,
   "id": "85ac4476",
   "metadata": {},
   "outputs": [],
   "source": [
    "# Adding a new column using a function\n",
    "def categorize_income(income):\n",
    "    if income < 60000:\n",
    "        return 'Medium'\n",
    "    elif income < 70000:\n",
    "        return 'High'\n",
    "    else:\n",
    "        return 'Very High'\n",
    "    \n",
    "df['Income_Category'] = df['Salary'].apply(categorize_income)\n",
    "print(\"\\nAdding a new column using a function:\")\n",
    "display(df)"
   ]
  },
  {
   "cell_type": "code",
   "execution_count": null,
   "id": "49a85129",
   "metadata": {},
   "outputs": [],
   "source": [
    "\n",
    "# Sorting\n",
    "print(\"\\nSorting by Age (ascending):\")\n",
    "display(df.sort_values('Age'))\n"
   ]
  },
  {
   "cell_type": "code",
   "execution_count": null,
   "id": "0a1c8a00",
   "metadata": {},
   "outputs": [],
   "source": [
    "print(\"\\nSorting by Age (descending):\")\n",
    "display(df.sort_values('Age', ascending=False))\n"
   ]
  },
  {
   "cell_type": "code",
   "execution_count": null,
   "id": "5d0e969c",
   "metadata": {},
   "outputs": [],
   "source": [
    "print(\"\\nSorting by multiple columns:\")\n",
    "display(df.sort_values(['Income_Category', 'Age']))\n"
   ]
  },
  {
   "cell_type": "code",
   "execution_count": null,
   "id": "2f0b4fbb",
   "metadata": {},
   "outputs": [],
   "source": [
    "\n",
    "# Grouping and aggregation\n",
    "print(\"\\nGrouping by Income Category (mean):\")\n",
    "display(df.groupby('Income_Category')[['Age', 'Salary']].mean())\n"
   ]
  },
  {
   "cell_type": "code",
   "execution_count": null,
   "id": "4813ecba",
   "metadata": {},
   "outputs": [],
   "source": [
    "print(\"\\nGrouping with multiple aggregations:\")\n",
    "display(df.groupby('Income_Category').agg({\n",
    "    'Age': 'mean',\n",
    "    'Salary': ['min', 'max', 'mean']\n",
    "}))\n"
   ]
  },
  {
   "cell_type": "code",
   "execution_count": null,
   "id": "6f36f78c",
   "metadata": {},
   "outputs": [],
   "source": [
    "\n",
    "# Pivot tables\n",
    "print(\"\\nPivot table example:\")\n",
    "pivot = pd.pivot_table(df, values='Salary', index='Income_Category', \n",
    "                      columns='City', aggfunc='mean')\n",
    "display(pivot)\n"
   ]
  },
  {
   "cell_type": "code",
   "execution_count": null,
   "id": "9ecd75a1",
   "metadata": {},
   "outputs": [],
   "source": [
    "# Pivot table with multiple values\n",
    "print(\"\\nPivot table with multiple values:\")\n",
    "pivot_multi = pd.pivot_table(df, values=['Age', 'Salary'], index='Income_Category', \n",
    "                              columns='City', aggfunc='mean')\n",
    "display(pivot_multi)"
   ]
  },
  {
   "cell_type": "markdown",
   "id": "7069bce8",
   "metadata": {},
   "source": [
    "\n",
    "# 6. DATA ANALYSIS\n"
   ]
  },
  {
   "cell_type": "code",
   "execution_count": null,
   "id": "d662d188",
   "metadata": {},
   "outputs": [],
   "source": [
    "\n",
    "# Apply functions\n",
    "print(\"\\nApplying a function to a column:\")\n",
    "display(df['Age'].apply(lambda x: 'Young' if x < 30 else 'Older'))\n"
   ]
  },
  {
   "cell_type": "code",
   "execution_count": null,
   "id": "d6d97357",
   "metadata": {},
   "outputs": [],
   "source": [
    "\n",
    "# Create sample time series data\n",
    "dates = pd.date_range('20210101', periods=6)\n",
    "ts_df = pd.DataFrame(np.random.randn(6, 4), index=dates, columns=['A', 'B', 'C', 'D'])\n",
    "print(\"\\nTime series data:\")\n",
    "display(ts_df)\n"
   ]
  },
  {
   "cell_type": "code",
   "execution_count": null,
   "id": "a116d600",
   "metadata": {},
   "outputs": [],
   "source": [
    "\n",
    "# Resampling\n",
    "# Resampling (daily to weekly) - this will take the mean of the values in each week\n",
    "# this is useful for downsampling\n",
    "print(\"\\nResampling (daily to weekly):\")\n",
    "print(ts_df.resample('W').mean())\n"
   ]
  },
  {
   "cell_type": "code",
   "execution_count": null,
   "id": "a8e79090",
   "metadata": {},
   "outputs": [],
   "source": [
    "\n",
    "# Rolling statistics\n",
    "print(\"\\nRolling mean (window=2):\")\n",
    "display(ts_df.rolling(2).mean())\n"
   ]
  },
  {
   "cell_type": "code",
   "execution_count": 178,
   "id": "14b17f4c",
   "metadata": {},
   "outputs": [
    {
     "data": {
      "text/html": [
       "<div>\n",
       "<style scoped>\n",
       "    .dataframe tbody tr th:only-of-type {\n",
       "        vertical-align: middle;\n",
       "    }\n",
       "\n",
       "    .dataframe tbody tr th {\n",
       "        vertical-align: top;\n",
       "    }\n",
       "\n",
       "    .dataframe thead th {\n",
       "        text-align: right;\n",
       "    }\n",
       "</style>\n",
       "<table border=\"1\" class=\"dataframe\">\n",
       "  <thead>\n",
       "    <tr style=\"text-align: right;\">\n",
       "      <th></th>\n",
       "      <th>product_id</th>\n",
       "      <th>product_name</th>\n",
       "      <th>category</th>\n",
       "      <th>price</th>\n",
       "      <th>in_stock</th>\n",
       "    </tr>\n",
       "  </thead>\n",
       "  <tbody>\n",
       "    <tr>\n",
       "      <th>0</th>\n",
       "      <td>1001</td>\n",
       "      <td>Laptop</td>\n",
       "      <td>Electronics</td>\n",
       "      <td>1200.50</td>\n",
       "      <td>True</td>\n",
       "    </tr>\n",
       "    <tr>\n",
       "      <th>1</th>\n",
       "      <td>1002</td>\n",
       "      <td>Desk Chair</td>\n",
       "      <td>Furniture</td>\n",
       "      <td>150.75</td>\n",
       "      <td>True</td>\n",
       "    </tr>\n",
       "    <tr>\n",
       "      <th>2</th>\n",
       "      <td>1003</td>\n",
       "      <td>Coffee Maker</td>\n",
       "      <td>Appliances</td>\n",
       "      <td>89.99</td>\n",
       "      <td>True</td>\n",
       "    </tr>\n",
       "    <tr>\n",
       "      <th>3</th>\n",
       "      <td>1004</td>\n",
       "      <td>Wireless Mouse</td>\n",
       "      <td>Electronics</td>\n",
       "      <td>24.99</td>\n",
       "      <td>False</td>\n",
       "    </tr>\n",
       "    <tr>\n",
       "      <th>4</th>\n",
       "      <td>1005</td>\n",
       "      <td>Bookshelf</td>\n",
       "      <td>Furniture</td>\n",
       "      <td>175.00</td>\n",
       "      <td>True</td>\n",
       "    </tr>\n",
       "  </tbody>\n",
       "</table>\n",
       "</div>"
      ],
      "text/plain": [
       "   product_id    product_name     category    price  in_stock\n",
       "0        1001          Laptop  Electronics  1200.50      True\n",
       "1        1002      Desk Chair    Furniture   150.75      True\n",
       "2        1003    Coffee Maker   Appliances    89.99      True\n",
       "3        1004  Wireless Mouse  Electronics    24.99     False\n",
       "4        1005       Bookshelf    Furniture   175.00      True"
      ]
     },
     "metadata": {},
     "output_type": "display_data"
    },
    {
     "name": "stdout",
     "output_type": "stream",
     "text": [
      "Total number of products: 5\n",
      "Total number of categories: 3\n",
      "Total number of products in stock: 4\n",
      "Total number of products out of stock: 1\n"
     ]
    }
   ],
   "source": [
    "display(df_products.head())\n",
    "print(f\"Total number of products: {len(df_products)}\")\n",
    "print(f\"Total number of categories: {df_products['category'].nunique()}\")\n",
    "print(f\"Total number of products in stock: {df_products['in_stock'].sum()}\")\n",
    "print(f\"Total number of products out of stock: {len(df_products) - df_products['in_stock'].sum()}\")\n"
   ]
  },
  {
   "cell_type": "code",
   "execution_count": 181,
   "id": "6b427aac",
   "metadata": {},
   "outputs": [
    {
     "data": {
      "text/html": [
       "<div>\n",
       "<style scoped>\n",
       "    .dataframe tbody tr th:only-of-type {\n",
       "        vertical-align: middle;\n",
       "    }\n",
       "\n",
       "    .dataframe tbody tr th {\n",
       "        vertical-align: top;\n",
       "    }\n",
       "\n",
       "    .dataframe thead th {\n",
       "        text-align: right;\n",
       "    }\n",
       "</style>\n",
       "<table border=\"1\" class=\"dataframe\">\n",
       "  <thead>\n",
       "    <tr style=\"text-align: right;\">\n",
       "      <th></th>\n",
       "      <th>product_id</th>\n",
       "      <th>product_name</th>\n",
       "      <th>category</th>\n",
       "      <th>price</th>\n",
       "      <th>in_stock</th>\n",
       "    </tr>\n",
       "  </thead>\n",
       "  <tbody>\n",
       "    <tr>\n",
       "      <th>0</th>\n",
       "      <td>1001</td>\n",
       "      <td>Laptop</td>\n",
       "      <td>Electronics</td>\n",
       "      <td>1200.50</td>\n",
       "      <td>True</td>\n",
       "    </tr>\n",
       "    <tr>\n",
       "      <th>1</th>\n",
       "      <td>1002</td>\n",
       "      <td>Desk Chair</td>\n",
       "      <td>Furniture</td>\n",
       "      <td>150.75</td>\n",
       "      <td>True</td>\n",
       "    </tr>\n",
       "    <tr>\n",
       "      <th>2</th>\n",
       "      <td>1003</td>\n",
       "      <td>Coffee Maker</td>\n",
       "      <td>Appliances</td>\n",
       "      <td>89.99</td>\n",
       "      <td>True</td>\n",
       "    </tr>\n",
       "    <tr>\n",
       "      <th>3</th>\n",
       "      <td>1004</td>\n",
       "      <td>Wireless Mouse</td>\n",
       "      <td>Electronics</td>\n",
       "      <td>24.99</td>\n",
       "      <td>False</td>\n",
       "    </tr>\n",
       "    <tr>\n",
       "      <th>4</th>\n",
       "      <td>1005</td>\n",
       "      <td>Bookshelf</td>\n",
       "      <td>Furniture</td>\n",
       "      <td>175.00</td>\n",
       "      <td>True</td>\n",
       "    </tr>\n",
       "  </tbody>\n",
       "</table>\n",
       "</div>"
      ],
      "text/plain": [
       "   product_id    product_name     category    price  in_stock\n",
       "0        1001          Laptop  Electronics  1200.50      True\n",
       "1        1002      Desk Chair    Furniture   150.75      True\n",
       "2        1003    Coffee Maker   Appliances    89.99      True\n",
       "3        1004  Wireless Mouse  Electronics    24.99     False\n",
       "4        1005       Bookshelf    Furniture   175.00      True"
      ]
     },
     "metadata": {},
     "output_type": "display_data"
    }
   ],
   "source": [
    "# Display the original DataFrame\n",
    "display(df_products)\n"
   ]
  },
  {
   "cell_type": "code",
   "execution_count": 184,
   "id": "1b263526",
   "metadata": {},
   "outputs": [
    {
     "name": "stdout",
     "output_type": "stream",
     "text": [
      "Grouped result (without reset_index):\n",
      "category\n",
      "Appliances     1\n",
      "Electronics    2\n",
      "Furniture      2\n",
      "Name: product_id, dtype: int64\n",
      "<class 'pandas.core.series.Series'>\n"
     ]
    }
   ],
   "source": [
    "\n",
    "# Group by 'category' and count how many products are in each category\n",
    "grouped = df_products.groupby('category')['product_id'].count()\n",
    "print(\"Grouped result (without reset_index):\")\n",
    "print(grouped)\n",
    "print(type(grouped))  # This is a Series"
   ]
  },
  {
   "cell_type": "code",
   "execution_count": 185,
   "id": "28244da7",
   "metadata": {},
   "outputs": [
    {
     "name": "stdout",
     "output_type": "stream",
     "text": [
      "\n",
      "❌ Error: Cannot use 'product_id' as a column here because it's now a Series:\n",
      "'product_id'\n"
     ]
    }
   ],
   "source": [
    "\n",
    "# Try to filter categories with at least 2 products\n",
    "# meaning we want to filter the Series 'grouped' \n",
    "# This will raise an error because 'product_id' is now a Series\n",
    "try:\n",
    "    filtered = grouped[grouped['product_id'] >= 2]\n",
    "except Exception as e:\n",
    "    print(\"\\n❌ Error: Cannot use 'product_id' as a column here because it's now a Series:\")\n",
    "    print(e)\n"
   ]
  },
  {
   "cell_type": "code",
   "execution_count": null,
   "id": "b31494b0",
   "metadata": {},
   "outputs": [
    {
     "name": "stdout",
     "output_type": "stream",
     "text": [
      "\n",
      "Grouped result (with reset_index):\n",
      "      category  product_id\n",
      "0   Appliances           1\n",
      "1  Electronics           2\n",
      "2    Furniture           2\n"
     ]
    }
   ],
   "source": [
    "\n",
    "# Now fix it with reset_index()\n",
    "# reset_index() will convert the Series back to a DataFrame\n",
    "# and make 'category' a column again\n",
    "# This will allow us to filter the DataFrame\n",
    "grouped_fixed = grouped.reset_index()\n",
    "print(\"\\nGrouped result (with reset_index):\")\n",
    "print(grouped_fixed)\n"
   ]
  },
  {
   "cell_type": "code",
   "execution_count": 187,
   "id": "84b8801b",
   "metadata": {},
   "outputs": [
    {
     "name": "stdout",
     "output_type": "stream",
     "text": [
      "\n",
      "✅ Filtered result (with reset_index):\n",
      "      category  product_id\n",
      "1  Electronics           2\n",
      "2    Furniture           2\n"
     ]
    }
   ],
   "source": [
    "\n",
    "# Filtering works now\n",
    "filtered_fixed = grouped_fixed[grouped_fixed['product_id'] >= 2]\n",
    "print(\"\\n✅ Filtered result (with reset_index):\")\n",
    "print(filtered_fixed)"
   ]
  },
  {
   "cell_type": "markdown",
   "id": "27afc5fe",
   "metadata": {},
   "source": [
    "\n",
    "# 7. VISUALIZATION"
   ]
  },
  {
   "cell_type": "code",
   "execution_count": null,
   "id": "ffd67cb9",
   "metadata": {},
   "outputs": [],
   "source": [
    "\n",
    "# Basic plotting\n",
    "display(df_products.head(10))\n",
    "\n",
    "print(\"\\nCreating some visualizations...\")\n",
    "plt.figure(figsize=(12, 5))\n",
    "# Example: Visualize average product price by category using the products dataset\n",
    "df_products.groupby('category')['price'].mean().plot(kind='bar', title='Average Product Price by Category')\n",
    "plt.ylabel('Average Price')\n",
    "plt.xlabel('Category')\n",
    "plt.tight_layout()\n",
    "plt.show()\n"
   ]
  },
  {
   "cell_type": "code",
   "execution_count": null,
   "id": "d92befb3",
   "metadata": {},
   "outputs": [],
   "source": [
    "\n",
    "# Sample data for visualization\n",
    "np.random.seed(42)\n",
    "data = {\n",
    "    'Category': ['A', 'B', 'A', 'B', 'A', 'B', 'A', 'B'] * 5,\n",
    "    'Value1': np.random.normal(0, 1, 40),\n",
    "    'Value2': np.random.normal(5, 1, 40),\n",
    "    'Date': pd.date_range('2021-01-01', periods=40)\n",
    "}\n",
    "\n",
    "viz_df = pd.DataFrame(data=data)\n",
    "display(viz_df.head(10))"
   ]
  },
  {
   "cell_type": "code",
   "execution_count": null,
   "id": "2663af61",
   "metadata": {},
   "outputs": [],
   "source": [
    "\n",
    "# Example: Visualize average Value2 by Category as a bar plot (subplot 1)\n",
    "plt.figure(figsize=(12, 5))\n",
    "\n",
    "# subplot 1 of 2\n",
    "# Visualize average Value2 by Category as a bar plot (subplot 1)\n",
    "plt.subplot(1, 2, 1)\n",
    "# Group by 'Category' and calculate the mean of 'Value2'\n",
    "# Plot the average Value2 for each category\n",
    "# Use a different color for each category\n",
    "viz_df.groupby('Category')['Value2'].mean().plot(kind='bar', color=['#1f77b4', '#ff7f0e'])\n",
    "plt.title('Average Value2 by Category')\n",
    "plt.ylabel('Average Value2')\n",
    "plt.xlabel('Category')\n",
    "\n",
    "# subplot 2 of 2\n",
    "# Visualize Value2 over time as a line plot (subplot 2)\n",
    "plt.subplot(1, 2, 2)\n",
    "# Plot Value2 over time\n",
    "viz_df.plot(x='Date', y='Value2', ax=plt.gca(), legend=False, title='Value2 Over Time')\n",
    "plt.ylabel('Value2')\n",
    "plt.xlabel('Date')\n",
    "\n",
    "plt.tight_layout()\n",
    "plt.show()\n"
   ]
  },
  {
   "cell_type": "code",
   "execution_count": null,
   "id": "2b61ac34",
   "metadata": {},
   "outputs": [],
   "source": [
    "\n",
    "# Seaborn plots\n",
    "plt.figure(figsize=(14, 6))\n",
    "\n",
    "plt.subplot(1, 2, 1)\n",
    "sns.boxplot(x='Category', y='Value1', data=viz_df)\n",
    "plt.title('Box Plot by Category')\n",
    "\n",
    "plt.subplot(1, 2, 2)\n",
    "sns.histplot(data=viz_df, x='Value2', kde=True)\n",
    "plt.title('Value Distribution')\n",
    "plt.tight_layout()\n",
    "plt.show()\n"
   ]
  },
  {
   "cell_type": "code",
   "execution_count": null,
   "id": "d151d885",
   "metadata": {},
   "outputs": [],
   "source": [
    "\n",
    "# This is a scatter plot with a regression line\n",
    "plt.figure(figsize=(7, 5))\n",
    "# Scatter plot of Value1 vs Value2 by Category\n",
    "sns.scatterplot(data=viz_df, x='Value1', y='Value2', hue='Category')\n",
    "plt.title('Scatter Plot by Category')\n",
    "# Add a regression line to the scatter plot\n",
    "# Note: scatter=False means we don't want to plot the scatter points again\n",
    "# this is useful if you want to plot the regression line only\n",
    "sns.regplot(data=viz_df, x='Value1', y='Value2', scatter=False, ax=plt.gca())\n",
    "plt.show()\n"
   ]
  },
  {
   "cell_type": "code",
   "execution_count": null,
   "id": "bc306ca9",
   "metadata": {},
   "outputs": [],
   "source": [
    "\n",
    "# Example dashboard layout using matplotlib\n",
    "# Create a figure with subplots for different visualizations\n",
    "# This is a simple dashboard layout with 4 subplots\n",
    "# Note: You can adjust the number of rows and columns as needed\n",
    "fig, axs = plt.subplots(2, 2, figsize=(14, 10))\n",
    "\n",
    "# Set the title for the entire figure\n",
    "fig.suptitle('Sample Dashboard', fontsize=16)\n",
    "# Create different visualizations in each subplot\n",
    "# 1. Distribution plot of Value1 setting ax to axs[0, 0] which is the first subplot\n",
    "sns.histplot(viz_df['Value1'], ax=axs[0, 0], kde=True)\n",
    "# now we set the title for this subplot\n",
    "axs[0, 0].set_title('Distribution')\n",
    "# 2. Time series plot of Value2 setting ax to axs[0, 1] which is the second subplot\n",
    "# this is a time series plot of Value2 over time\n",
    "viz_df.plot(x='Date', y='Value2', ax=axs[0, 1], title='Time Series')\n",
    "# 3. Bar plot of average Value1 by Category setting ax to axs[1, 0] which is the third subplot\n",
    "# this is a bar plot of average Value1 by Category\n",
    "# this is useful for comparing the average Value1 for each category\n",
    "viz_df.groupby('Category')['Value1'].mean().plot(\n",
    "    kind='bar', ax=axs[1, 0], title='Category Comparison'\n",
    ")\n",
    "corr = viz_df[['Value1', 'Value2']].corr()\n",
    "# 4. Correlation heatmap setting ax to axs[1, 1] which is the fourth subplot\n",
    "# this is a heatmap of the correlation between Value1 and Value2\n",
    "# this is useful for visualizing the correlation between two variables \n",
    "sns.heatmap(corr, annot=True, cmap='viridis', ax=axs[1, 1])\n",
    "axs[1, 1].set_title('Correlation')\n",
    "plt.tight_layout()\n",
    "plt.show()"
   ]
  },
  {
   "cell_type": "code",
   "execution_count": null,
   "id": "140b5259",
   "metadata": {},
   "outputs": [],
   "source": []
  }
 ],
 "metadata": {
  "kernelspec": {
   "display_name": "ds",
   "language": "python",
   "name": "python3"
  },
  "language_info": {
   "codemirror_mode": {
    "name": "ipython",
    "version": 3
   },
   "file_extension": ".py",
   "mimetype": "text/x-python",
   "name": "python",
   "nbconvert_exporter": "python",
   "pygments_lexer": "ipython3",
   "version": "3.12.9"
  }
 },
 "nbformat": 4,
 "nbformat_minor": 5
}
