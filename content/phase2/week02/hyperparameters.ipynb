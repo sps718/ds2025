{
 "cells": [
  {
   "cell_type": "markdown",
   "id": "44bbd883",
   "metadata": {},
   "source": [
    "# Hyperparameters Code-Along\n",
    "\n",
    "Implement the code-blocks below in order to implement RandomSearchCV. We will be using the `diabetes` toy dataset which we can directly load from sklearn."
   ]
  },
  {
   "cell_type": "code",
   "execution_count": 8,
   "id": "9226015c",
   "metadata": {},
   "outputs": [],
   "source": [
    "# toy diabetes dataset\n",
    "from sklearn.datasets import load_diabetes\n",
    "\n",
    "# regressor models\n",
    "from sklearn.linear_model import Lasso\n",
    "\n",
    "# accuracy metrics\n",
    "from sklearn.metrics import mean_squared_error, r2_score\n",
    "\n",
    "# train/test/CV split\n",
    "from sklearn.model_selection import train_test_split\n",
    "from sklearn.model_selection import GridSearchCV, RandomizedSearchCV\n",
    "\n",
    "import pandas as pd\n",
    "import numpy as np\n",
    "\n",
    "import matplotlib.pyplot as plt\n",
    "import seaborn as sns\n",
    "\n",
    "# time to time your model\n",
    "import time"
   ]
  },
  {
   "cell_type": "code",
   "execution_count": null,
   "id": "bc01c493",
   "metadata": {},
   "outputs": [
    {
     "name": "stdout",
     "output_type": "stream",
     "text": [
      "Shape of X_train (353, 10)\n",
      "Shape of X_test (89, 10)\n",
      "Shape of y_train (353,)\n",
      "Shape of y_test (89,)\n"
     ]
    }
   ],
   "source": [
    "# load dataset\n",
    "X, y = load_diabetes(return_X_y=True, as_frame=True)\n",
    "\n",
    "# TODO: split your dataset and create a testing set with 20% of your data\n",
    "X_train, X_test, y_train, y_test = train_test_split(..., ..., test_size=..., random_state=42)\n",
    "\n",
    "print(f\"Shape of X_train {X_train.shape}\")\n",
    "print(f\"Shape of X_test {X_test.shape}\")\n",
    "print(f\"Shape of y_train {y_train.shape}\")\n",
    "print(f\"Shape of y_test {y_test.shape}\")"
   ]
  },
  {
   "cell_type": "code",
   "execution_count": null,
   "id": "a09dc648",
   "metadata": {},
   "outputs": [
    {
     "name": "stdout",
     "output_type": "stream",
     "text": [
      "Test MSE (Basic LASSO, alpha=1.0): 3403.58\n"
     ]
    }
   ],
   "source": [
    "# TODO: train a Lasso model on your X_train and y_train\n",
    "lasso = ...\n",
    "\n",
    "lasso.fit(X_train, y_train)"
   ]
  },
  {
   "cell_type": "code",
   "execution_count": null,
   "id": "b0489a51",
   "metadata": {},
   "outputs": [],
   "source": [
    "# Predict on your test set\n",
    "y_test_pred = lasso.predict(X_test)\n",
    "mse_test = mean_squared_error(y_test, y_test_pred)\n",
    "\n",
    "print(f\"Test MSE (Basic LASSO, alpha=1.0): {mse_test:.2f}\")"
   ]
  },
  {
   "cell_type": "code",
   "execution_count": null,
   "id": "53678306",
   "metadata": {},
   "outputs": [
    {
     "name": "stdout",
     "output_type": "stream",
     "text": [
      "GridSearchCV - Best alpha: 0.1109090909090909\n",
      "GridSearchCV - Test MSE: 2798.16\n",
      "GridSearchCV - Time elapsed: 2.23 seconds\n"
     ]
    }
   ],
   "source": [
    "# tune with gridsearchcv and time\n",
    "alpha_grid = {'alpha': np.linspace(0.01, 10, 100)}\n",
    "\n",
    "lasso_model = Lasso()\n",
    "\n",
    "# start the timer\n",
    "start_time = time.time()\n",
    "\n",
    "grid_search = GridSearchCV(estimator=lasso_model, param_grid=alpha_grid, cv=5)\n",
    "grid_search.fit(X_train, y_train)\n",
    "\n",
    "# end the timer after we're done fitting\n",
    "end_time = time.time()\n",
    "# calculate elapsed time\n",
    "elapsed_time_grid = end_time - start_time\n",
    "\n",
    "# Extract the best model from grid search\n",
    "best_alpha_grid = grid_search.best_params_['alpha']\n",
    "y_test_pred_grid = grid_search.best_estimator_.predict(X_test)\n",
    "mse_test_grid = mean_squared_error(y_test, y_test_pred_grid)\n",
    "\n",
    "print(f\"GridSearchCV - Best alpha: {best_alpha_grid}\")\n",
    "print(f\"GridSearchCV - Test MSE: {mse_test_grid:.2f}\")\n",
    "print(f\"GridSearchCV - Time elapsed: {elapsed_time_grid:.2f} seconds\")\n"
   ]
  },
  {
   "cell_type": "code",
   "execution_count": null,
   "id": "248624be",
   "metadata": {},
   "outputs": [
    {
     "name": "stdout",
     "output_type": "stream",
     "text": [
      "RandomizedSearchCV - Best alpha: 0.21181818181818182\n",
      "RandomizedSearchCV - Test MSE: 2824.82\n",
      "RandomizedSearchCV - Time elapsed: 0.33 seconds\n"
     ]
    }
   ],
   "source": [
    "# tune with randomsearchcv\n",
    "alpha_grid = {'alpha': np.linspace(0.01, 10, 100)}\n",
    "\n",
    "lasso_model = Lasso()\n",
    "\n",
    "# start the timer\n",
    "start_time = time.time()\n",
    "\n",
    "grid_search = RandomizedSearchCV(estimator=lasso_model, param_distributions=alpha_grid, cv=5)\n",
    "grid_search.fit(X_train, y_train)\n",
    "\n",
    "# end the timer after we're done fitting\n",
    "end_time = time.time()\n",
    "# calculate elapsed time\n",
    "elapsed_time_grid = end_time - start_time\n",
    "\n",
    "# Extract the best model from random search\n",
    "best_alpha_grid = grid_search.best_params_['alpha']\n",
    "y_test_pred_grid = grid_search.best_estimator_.predict(X_test)\n",
    "mse_test_grid = mean_squared_error(y_test, y_test_pred_grid)\n",
    "\n",
    "print(f\"RandomizedSearchCV - Best alpha: {best_alpha_grid}\")\n",
    "print(f\"RandomizedSearchCV - Test MSE: {mse_test_grid:.2f}\")\n",
    "print(f\"RandomizedSearchCV - Time elapsed: {elapsed_time_grid:.2f} seconds\")\n"
   ]
  },
  {
   "cell_type": "markdown",
   "id": "2ca93631",
   "metadata": {},
   "source": [
    "# Challenge\n",
    "\n",
    "Create codeblocks below to generate and hypertune a Ridge regression model using both `GridSearchCV` and `RandomizedSearchCV` on your dataset. \n",
    "\n",
    "After creating your model, evaluate its' MSE and R^2. Calculate the models residual plot to evaluate the validity of your predictions. \n",
    "\n",
    "Answer the analytical questions listed below as well.\n",
    "\n",
    "Utilize the code written above, as well as the [Ridge sklearn documentation](https://scikit-learn.org/stable/modules/generated/sklearn.linear_model.Ridge.html) to inform your answers!"
   ]
  },
  {
   "cell_type": "code",
   "execution_count": null,
   "id": "d25e5c75",
   "metadata": {},
   "outputs": [],
   "source": [
    "# TODO: Implement your Ridge regression model and tune it using RandomizedSearchCV\n",
    "..."
   ]
  },
  {
   "cell_type": "markdown",
   "id": "01ec6328",
   "metadata": {},
   "source": [
    "## Writeup\n",
    "\n",
    "Answer the analytical questions below using the metrics you've calculated.\n",
    "\n",
    "1) It appears that `GridSearchCV` often finds better hyperparameters than `RandomizedSearchCV`. Why might we tolerate this loss in accuracy when dealing with large datasets and still prefer to use `RandomizedSearchCV`? \n",
    "\n",
    "...\n",
    "\n",
    "2) Is there any difference between the MSE of ridge regression trained with RandomizedSearchCV vs lasso trained with RandomizedSearchCV? If so, which model performs best (i.e. which model has the lowest MSE)? Which metrics lead you to this conclusion?  \n",
    "\n",
    "...\n"
   ]
  }
 ],
 "metadata": {
  "kernelspec": {
   "display_name": "ds",
   "language": "python",
   "name": "python3"
  },
  "language_info": {
   "codemirror_mode": {
    "name": "ipython",
    "version": 3
   },
   "file_extension": ".py",
   "mimetype": "text/x-python",
   "name": "python",
   "nbconvert_exporter": "python",
   "pygments_lexer": "ipython3",
   "version": "3.12.9"
  }
 },
 "nbformat": 4,
 "nbformat_minor": 5
}
