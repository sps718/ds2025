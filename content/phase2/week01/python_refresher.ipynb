{
 "cells": [
  {
   "cell_type": "markdown",
   "id": "18e3d79e",
   "metadata": {},
   "source": [
    "# Phase 2 Python Refresher\n",
    "\n",
    "### Agenda\n",
    "- 1. Basic Arithmetic & Variables\n",
    "- 2. Control Flow: Conditionals & Loops\n",
    "- 3. Data Structures: Lists, Tuples, Sets, Dicts\n",
    "- 4. Pandas Review\n"
   ]
  },
  {
   "cell_type": "markdown",
   "id": "ecbe052f",
   "metadata": {},
   "source": [
    "## 1. Basic Arithmetic & Variables\n",
    "In this section, we'll calculate simple expressions and assign them to variables."
   ]
  },
  {
   "cell_type": "markdown",
   "id": "53484683",
   "metadata": {},
   "source": [
    "Set each number to a variable, set the variables to sum and then print sum"
   ]
  },
  {
   "cell_type": "code",
   "execution_count": null,
   "id": "ca6bc158",
   "metadata": {},
   "outputs": [
    {
     "name": "stdout",
     "output_type": "stream",
     "text": [
      "1729\n"
     ]
    }
   ],
   "source": [
    "# Calculate 1700 + 29 and print the result\n",
    "num1 = 1700\n",
    "num2 = 29\n",
    "ans = num1 + num2\n",
    "print(ans)"
   ]
  },
  {
   "cell_type": "code",
   "execution_count": null,
   "id": "6cde2238",
   "metadata": {},
   "outputs": [],
   "source": [
    "nums = []\n",
    "\n",
    "nums.append(1700)\n",
    "nums.append(29)"
   ]
  },
  {
   "cell_type": "markdown",
   "id": "83ddd008",
   "metadata": {},
   "source": [
    "**Bonus Exercise 1:** Change the values of `num1` and `num2` to two numbers of your choice, compute their sum, product, and difference, and print each result."
   ]
  },
  {
   "cell_type": "markdown",
   "id": "6f8da960",
   "metadata": {},
   "source": [
    "## 2. Control Flow: Conditionals & Loops\n",
    "Count how many 'o' and 'e' letters appear in the sentence \"hello world\"."
   ]
  },
  {
   "cell_type": "code",
   "execution_count": 16,
   "id": "b09a22c0",
   "metadata": {},
   "outputs": [
    {
     "name": "stdout",
     "output_type": "stream",
     "text": [
      "the number of o's and e's are: 3\n"
     ]
    }
   ],
   "source": [
    "sentence = \"hello world\"\n",
    "count = 0\n",
    "\n",
    "for letter in sentence:\n",
    "    # if letter in ['o', 'e']:\n",
    "    if letter == 'o' or letter == 'e':\n",
    "        count += 1\n",
    "    \n",
    "print(f\"the number of o's and e's are: {count}\")\n",
    "\n"
   ]
  },
  {
   "cell_type": "markdown",
   "id": "f5078760",
   "metadata": {},
   "source": [
    "**Bonus Exercise 2:** Modify the loop to count vowels (`a, e, i, o, u`) in a sentence of your choice."
   ]
  },
  {
   "cell_type": "markdown",
   "id": "a9a6a562",
   "metadata": {},
   "source": [
    "## 3. Data Structures\n",
    "Find the smallest value in a list of closing stock prices."
   ]
  },
  {
   "cell_type": "code",
   "execution_count": null,
   "id": "e1cd0dd3",
   "metadata": {},
   "outputs": [],
   "source": [
    "values = [24, 23, 22, 21, 20]\n",
    "smallest = values[0] # 20\n",
    "for number in values:\n",
    "    if number < smallest:\n",
    "        smallest = number"
   ]
  },
  {
   "cell_type": "markdown",
   "id": "53200124",
   "metadata": {},
   "source": [
    "**Bonus Exercise 3:** Create a list of at least 10 numbers and write a loop to find both the smallest and largest values without using built-in `min` or `max`."
   ]
  },
  {
   "cell_type": "markdown",
   "id": "912ea8fa",
   "metadata": {},
   "source": [
    "## 4. Pandas Review\n",
    "Explore a sample DataFrame: head(), describe(), isna(), and basic indexing."
   ]
  },
  {
   "cell_type": "code",
   "execution_count": 17,
   "id": "4dc1158d",
   "metadata": {},
   "outputs": [],
   "source": [
    "import pandas as pd\n",
    "\n",
    "data = {\n",
    "    'A': [1, 2, None, 4, 5],\n",
    "    'B': ['x', 'y', 'z', None, 'w'],\n",
    "    'C': [10.5, 20.3, 30.1, 40.2, None]\n",
    "}\n",
    "\n",
    "# Create a sample DataFrame"
   ]
  },
  {
   "cell_type": "markdown",
   "id": "31d5fc25",
   "metadata": {},
   "source": [
    "**Bonus Exercise 4:** Load your own CSV (or use this sample) and practice:\n",
    "- Selecting rows where A > 2\n",
    "- Using `.loc` and `.iloc`\n",
    "- Chaining methods (e.g., `df.dropna().sort_values('C')`)"
   ]
  },
  {
   "cell_type": "code",
   "execution_count": null,
   "id": "220a286a",
   "metadata": {},
   "outputs": [],
   "source": []
  },
  {
   "cell_type": "markdown",
   "id": "65cab1ac",
   "metadata": {},
   "source": [
    "## Python & Pandas Practice Prompt\n",
    "\n",
    "1. **Create a variable that stores a list of eight numbers of your choice and display the list.**\n",
    "\n",
    "2. **Without using the built-in `min` or `max` functions, determine and print both the smallest and largest numbers in your list.**\n",
    "\n",
    "3. **Choose any sentence and count how many vowels (`a, e, i, o, u`) appear in it, regardless of case. Print the total number of vowels.**\n",
    "\n",
    "4. **Using pandas, create a DataFrame with two columns: `\"Name\"` and `\"Score\"`, and at least five rows (include at least one missing value in either column).  \n",
    "   Display the DataFrame, then display only the rows where `\"Score\"` is greater than 50.  \n",
    "   Finally, remove any rows with missing values and show the DataFrame sorted by `\"Score\"` in descending order.**"
   ]
  },
  {
   "cell_type": "markdown",
   "id": "88ab9fa3",
   "metadata": {},
   "source": []
  }
 ],
 "metadata": {
  "kernelspec": {
   "display_name": "ds",
   "language": "python",
   "name": "python3"
  },
  "language_info": {
   "codemirror_mode": {
    "name": "ipython",
    "version": 3
   },
   "file_extension": ".py",
   "mimetype": "text/x-python",
   "name": "python",
   "nbconvert_exporter": "python",
   "pygments_lexer": "ipython3",
   "version": "3.12.9"
  }
 },
 "nbformat": 4,
 "nbformat_minor": 5
}
