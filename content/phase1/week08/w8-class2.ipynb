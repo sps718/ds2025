{
 "cells": [
  {
   "cell_type": "markdown",
   "id": "11f4be25",
   "metadata": {},
   "source": [
    "### Exercise 1\n",
    "\n",
    "#### Create a function that outputs a list of all the even numbers from 1 to 500 that are also divisible by 3, 5 AND 7.\n"
   ]
  },
  {
   "cell_type": "code",
   "execution_count": null,
   "id": "774da29a",
   "metadata": {},
   "outputs": [
    {
     "name": "stdout",
     "output_type": "stream",
     "text": [
      "0\n",
      "2\n",
      "4\n",
      "6\n",
      "8\n",
      "None\n"
     ]
    }
   ],
   "source": [
    "\n",
    "from hashlib import sha256\n",
    "\n",
    "def exercise_1():\n",
    "    for num in range(0, 10, 2):\n",
    "        print(num)\n",
    "\n",
    "print(exercise_1()) # []\n",
    "\n",
    "\n",
    "\n",
    "try:\n",
    "    assert(sha256(str(exercise_1()).encode('utf-8')).hexdigest() == \"b7e8451a417e44cd5335477fdb1d333005a24471781ff5e74f937996f933e50f\" )\n",
    "    print(\"solution is correct\")\n",
    "except AssertionError:\n",
    "    print(\"solution is incorrect\")\n",
    "\n"
   ]
  },
  {
   "cell_type": "markdown",
   "id": "d94dc07b",
   "metadata": {},
   "source": [
    "\n",
    "### Exercise 2\n",
    "\n",
    "#### Create a function that takes two arguments (both arguments being lists) and uses them to create a dictionary. The first argument should be used for the keys and the second argument should be used as the values. Each element should match up (meaning the first element of the first argument/list should be the key while the first element of the second argument/list should be the value). If either list is missing an element that the other has, skip it.\n",
    "\n",
    "Examples\n",
    "```\n",
    "ex2([],[]) -> {}\n",
    "ex2(['a', 'b', 'c'], [1,2,3]) -> {'a':1, 'b':2, 'c':3}\n",
    "```\n",
    "\n"
   ]
  },
  {
   "cell_type": "code",
   "execution_count": 1,
   "id": "9899cd6c",
   "metadata": {},
   "outputs": [
    {
     "name": "stdout",
     "output_type": "stream",
     "text": [
      "solution is correct\n"
     ]
    }
   ],
   "source": [
    "\n",
    "# assume both lists are of the same length\n",
    "def exercise_2(lst1, lst2):\n",
    "    result = {}\n",
    "    length = len(lst1)\n",
    "    \n",
    "    for i in range(0, length):\n",
    "        result[lst1[i]] =  lst2[i]\n",
    "    \n",
    "    return result\n",
    "\n",
    "\n",
    "try:\n",
    "    assert(exercise_2([],[]) == {})\n",
    "    assert(exercise_2(['a', 'b', 'c'],[1,2,3]) == {'a': 1, 'b': 2, 'c': 3})\n",
    "    assert(exercise_2(['x'], [42]) == {'x': 42})\n",
    "    assert(exercise_2([1,2,3], [4,5,6]) == {1: 4, 2: 5, 3: 6})\n",
    "    assert(exercise_2(['key1', 'key2'], ['val1', 'val2']) == {'key1': 'val1', 'key2': 'val2'})\n",
    "    assert(exercise_2([1,2,3], [3,4,5]) == {1: 3, 2: 4, 3: 5})\n",
    "    print(\"solution is correct\")\n",
    "except AssertionError:\n",
    "    print(\"solution is incorrect\")"
   ]
  },
  {
   "cell_type": "code",
   "execution_count": null,
   "id": "565ffac9",
   "metadata": {},
   "outputs": [],
   "source": []
  }
 ],
 "metadata": {
  "kernelspec": {
   "display_name": "ds",
   "language": "python",
   "name": "python3"
  },
  "language_info": {
   "codemirror_mode": {
    "name": "ipython",
    "version": 3
   },
   "file_extension": ".py",
   "mimetype": "text/x-python",
   "name": "python",
   "nbconvert_exporter": "python",
   "pygments_lexer": "ipython3",
   "version": "3.12.9"
  }
 },
 "nbformat": 4,
 "nbformat_minor": 5
}
