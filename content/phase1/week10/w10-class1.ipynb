{
 "cells": [
  {
   "cell_type": "code",
   "execution_count": 11,
   "id": "66c2db67",
   "metadata": {},
   "outputs": [],
   "source": [
    "import sqlite3\n",
    "import pandas as pd"
   ]
  },
  {
   "cell_type": "markdown",
   "id": "85e87731",
   "metadata": {
    "vscode": {
     "languageId": "sql"
    }
   },
   "source": [
    "```sql\n",
    "CREATE TABLE students (\n",
    "    student_id INTEGER PRIMARY KEY AUTOINCREMENT,\n",
    "    name TEXT,\n",
    "    grade TEXT,\n",
    "    email TEXT,\n",
    ");\n",
    "```\n",
    "```sql\n",
    "CREATE TABLE courses (\n",
    "    course_id INTEGER PRIMARY KEY AUTOINCREMENT,\n",
    "    course_name TEXT,\n",
    "    credits INTEGER\n",
    ");\n",
    "```\n",
    "```sql\n",
    "CREATE TABLE enrollments (\n",
    "    enrollment_id INTEGER PRIMARY KEY AUTOINCREMENT,\n",
    "    student_id INTEGER,\n",
    "    course_id INTEGER,\n",
    "    semester TEXT,\n",
    "    grade TEXT,\n",
    "    FOREIGN KEY (student_id) REFERENCES students(student_id),\n",
    "    FOREIGN KEY (course_id) REFERENCES courses(course_id)\n",
    ");\n",
    "```\n"
   ]
  },
  {
   "cell_type": "code",
   "execution_count": 12,
   "id": "c6292b05",
   "metadata": {},
   "outputs": [
    {
     "name": "stdout",
     "output_type": "stream",
     "text": [
      "Tables in database: ['students', 'courses', 'enrollments']\n"
     ]
    }
   ],
   "source": [
    "\n",
    "# Connect to SQLite database (in-memory for demo)\n",
    "# sql.db\n",
    "conn = sqlite3.connect(\":memory:\")\n",
    "cursor = conn.cursor()\n",
    "\n",
    "# Create tables\n",
    "cursor.execute(\"\"\"\n",
    "CREATE TABLE students (\n",
    "    student_id INTEGER PRIMARY KEY AUTOINCREMENT,\n",
    "    name TEXT,\n",
    "    grade TEXT,\n",
    "    email TEXT\n",
    ")\n",
    "\"\"\")\n",
    "cursor.execute(\"\"\"\n",
    "CREATE TABLE courses (\n",
    "    course_id INTEGER PRIMARY KEY AUTOINCREMENT,\n",
    "    course_name TEXT,\n",
    "    credits INTEGER\n",
    ")\n",
    "\"\"\")\n",
    "cursor.execute(\"\"\"\n",
    "CREATE TABLE enrollments (\n",
    "    enrollment_id INTEGER PRIMARY KEY AUTOINCREMENT,\n",
    "    student_id INTEGER,\n",
    "    course_id INTEGER,\n",
    "    semester TEXT,\n",
    "    grade TEXT,\n",
    "    FOREIGN KEY (student_id) REFERENCES students(student_id),\n",
    "    FOREIGN KEY (course_id) REFERENCES courses(course_id)\n",
    ")\n",
    "\"\"\")\n",
    "\n",
    "# Show all tables in the database\n",
    "cursor.execute(\"SELECT name FROM sqlite_master WHERE type='table' and name NOT LIKE 'sqlite_%'\")\n",
    "\n",
    "tables = cursor.fetchall()\n",
    "print(\"Tables in database:\", [t[0] for t in tables])"
   ]
  },
  {
   "cell_type": "markdown",
   "id": "b8d61439",
   "metadata": {},
   "source": [
    "```sql\n",
    "INSERT INTO students (name, grade, email) VALUES ('Alice', 'A', 'alice@email.com');\n",
    "INSERT INTO students (name, grade, email) VALUES ('Bob', 'B', 'bob@email.com');\n",
    "INSERT INTO courses (course_name, credits) VALUES ('Mathematics', 3);\n",
    "INSERT INTO courses (course_name, credits) VALUES ('History', 2);\n",
    "INSERT INTO enrollments (student_id, course_id, semester, grade) VALUES (1, 1, 'Fall2023', 'A');\n",
    "INSERT INTO enrollments (student_id, course_id, semester, grade) VALUES (2, 2, 'Spring2024', 'B');\n",
    "```\n"
   ]
  },
  {
   "cell_type": "code",
   "execution_count": 13,
   "id": "840c34b5",
   "metadata": {},
   "outputs": [
    {
     "name": "stdout",
     "output_type": "stream",
     "text": [
      "Table: students\n"
     ]
    },
    {
     "data": {
      "text/html": [
       "<div>\n",
       "<style scoped>\n",
       "    .dataframe tbody tr th:only-of-type {\n",
       "        vertical-align: middle;\n",
       "    }\n",
       "\n",
       "    .dataframe tbody tr th {\n",
       "        vertical-align: top;\n",
       "    }\n",
       "\n",
       "    .dataframe thead th {\n",
       "        text-align: right;\n",
       "    }\n",
       "</style>\n",
       "<table border=\"1\" class=\"dataframe\">\n",
       "  <thead>\n",
       "    <tr style=\"text-align: right;\">\n",
       "      <th></th>\n",
       "      <th>student_id</th>\n",
       "      <th>name</th>\n",
       "      <th>grade</th>\n",
       "      <th>email</th>\n",
       "    </tr>\n",
       "  </thead>\n",
       "  <tbody>\n",
       "    <tr>\n",
       "      <th>0</th>\n",
       "      <td>1</td>\n",
       "      <td>Alice</td>\n",
       "      <td>A</td>\n",
       "      <td>alice@email.com</td>\n",
       "    </tr>\n",
       "    <tr>\n",
       "      <th>1</th>\n",
       "      <td>2</td>\n",
       "      <td>Bob</td>\n",
       "      <td>B</td>\n",
       "      <td>bob@email.com</td>\n",
       "    </tr>\n",
       "  </tbody>\n",
       "</table>\n",
       "</div>"
      ],
      "text/plain": [
       "   student_id   name grade            email\n",
       "0           1  Alice     A  alice@email.com\n",
       "1           2    Bob     B    bob@email.com"
      ]
     },
     "metadata": {},
     "output_type": "display_data"
    },
    {
     "name": "stdout",
     "output_type": "stream",
     "text": [
      "Table: courses\n"
     ]
    },
    {
     "data": {
      "text/html": [
       "<div>\n",
       "<style scoped>\n",
       "    .dataframe tbody tr th:only-of-type {\n",
       "        vertical-align: middle;\n",
       "    }\n",
       "\n",
       "    .dataframe tbody tr th {\n",
       "        vertical-align: top;\n",
       "    }\n",
       "\n",
       "    .dataframe thead th {\n",
       "        text-align: right;\n",
       "    }\n",
       "</style>\n",
       "<table border=\"1\" class=\"dataframe\">\n",
       "  <thead>\n",
       "    <tr style=\"text-align: right;\">\n",
       "      <th></th>\n",
       "      <th>course_id</th>\n",
       "      <th>course_name</th>\n",
       "      <th>credits</th>\n",
       "    </tr>\n",
       "  </thead>\n",
       "  <tbody>\n",
       "    <tr>\n",
       "      <th>0</th>\n",
       "      <td>1</td>\n",
       "      <td>Mathematics</td>\n",
       "      <td>3</td>\n",
       "    </tr>\n",
       "    <tr>\n",
       "      <th>1</th>\n",
       "      <td>2</td>\n",
       "      <td>History</td>\n",
       "      <td>2</td>\n",
       "    </tr>\n",
       "  </tbody>\n",
       "</table>\n",
       "</div>"
      ],
      "text/plain": [
       "   course_id  course_name  credits\n",
       "0          1  Mathematics        3\n",
       "1          2      History        2"
      ]
     },
     "metadata": {},
     "output_type": "display_data"
    },
    {
     "name": "stdout",
     "output_type": "stream",
     "text": [
      "Table: enrollments\n"
     ]
    },
    {
     "data": {
      "text/html": [
       "<div>\n",
       "<style scoped>\n",
       "    .dataframe tbody tr th:only-of-type {\n",
       "        vertical-align: middle;\n",
       "    }\n",
       "\n",
       "    .dataframe tbody tr th {\n",
       "        vertical-align: top;\n",
       "    }\n",
       "\n",
       "    .dataframe thead th {\n",
       "        text-align: right;\n",
       "    }\n",
       "</style>\n",
       "<table border=\"1\" class=\"dataframe\">\n",
       "  <thead>\n",
       "    <tr style=\"text-align: right;\">\n",
       "      <th></th>\n",
       "      <th>enrollment_id</th>\n",
       "      <th>student_id</th>\n",
       "      <th>course_id</th>\n",
       "      <th>semester</th>\n",
       "      <th>grade</th>\n",
       "    </tr>\n",
       "  </thead>\n",
       "  <tbody>\n",
       "    <tr>\n",
       "      <th>0</th>\n",
       "      <td>1</td>\n",
       "      <td>1</td>\n",
       "      <td>1</td>\n",
       "      <td>Fall2023</td>\n",
       "      <td>A</td>\n",
       "    </tr>\n",
       "    <tr>\n",
       "      <th>1</th>\n",
       "      <td>2</td>\n",
       "      <td>2</td>\n",
       "      <td>2</td>\n",
       "      <td>Spring2024</td>\n",
       "      <td>B</td>\n",
       "    </tr>\n",
       "  </tbody>\n",
       "</table>\n",
       "</div>"
      ],
      "text/plain": [
       "   enrollment_id  student_id  course_id    semester grade\n",
       "0              1           1          1    Fall2023     A\n",
       "1              2           2          2  Spring2024     B"
      ]
     },
     "metadata": {},
     "output_type": "display_data"
    }
   ],
   "source": [
    "# Insert data\n",
    "cursor.execute(\"INSERT INTO students (name, grade, email) VALUES ('Alice', 'A', 'alice@email.com')\")\n",
    "cursor.execute(\"INSERT INTO students (name, grade, email) VALUES ('Bob', 'B', 'bob@email.com')\")\n",
    "cursor.execute(\"INSERT INTO courses (course_name, credits) VALUES ('Mathematics', 3)\")\n",
    "cursor.execute(\"INSERT INTO courses (course_name, credits) VALUES ('History', 2)\")\n",
    "cursor.execute(\"INSERT INTO enrollments (student_id, course_id, semester, grade) VALUES (1, 1, 'Fall2023', 'A')\")\n",
    "cursor.execute(\"INSERT INTO enrollments (student_id, course_id, semester, grade) VALUES (2, 2, 'Spring2024', 'B')\")\n",
    "conn.commit()\n",
    "\n",
    "\n",
    "# Show all tables after insert\n",
    "for table_name in [t[0] for t in tables]:\n",
    "    df = pd.read_sql_query(f\"SELECT * FROM {table_name}\", conn)\n",
    "    print(f\"Table: {table_name}\")\n",
    "    display(df)"
   ]
  },
  {
   "cell_type": "markdown",
   "id": "23bbfd94",
   "metadata": {},
   "source": [
    "```sql\n",
    "\n",
    "SELECT * FROM students;\n",
    "\n",
    "SELECT name, grade FROM students WHERE grade = 'A';\n",
    "\n",
    "SELECT * FROM students WHERE grade <> 'C' ORDER BY name DESC;\n",
    "\n",
    "SELECT grade, COUNT(*) as num_students FROM students GROUP BY grade;\n",
    "```\n"
   ]
  },
  {
   "cell_type": "code",
   "execution_count": 14,
   "id": "3135b0da",
   "metadata": {},
   "outputs": [
    {
     "data": {
      "text/html": [
       "<div>\n",
       "<style scoped>\n",
       "    .dataframe tbody tr th:only-of-type {\n",
       "        vertical-align: middle;\n",
       "    }\n",
       "\n",
       "    .dataframe tbody tr th {\n",
       "        vertical-align: top;\n",
       "    }\n",
       "\n",
       "    .dataframe thead th {\n",
       "        text-align: right;\n",
       "    }\n",
       "</style>\n",
       "<table border=\"1\" class=\"dataframe\">\n",
       "  <thead>\n",
       "    <tr style=\"text-align: right;\">\n",
       "      <th></th>\n",
       "      <th>student_id</th>\n",
       "      <th>name</th>\n",
       "      <th>grade</th>\n",
       "      <th>email</th>\n",
       "    </tr>\n",
       "  </thead>\n",
       "  <tbody>\n",
       "    <tr>\n",
       "      <th>0</th>\n",
       "      <td>1</td>\n",
       "      <td>Alice</td>\n",
       "      <td>A</td>\n",
       "      <td>alice@email.com</td>\n",
       "    </tr>\n",
       "    <tr>\n",
       "      <th>1</th>\n",
       "      <td>2</td>\n",
       "      <td>Bob</td>\n",
       "      <td>B</td>\n",
       "      <td>bob@email.com</td>\n",
       "    </tr>\n",
       "  </tbody>\n",
       "</table>\n",
       "</div>"
      ],
      "text/plain": [
       "   student_id   name grade            email\n",
       "0           1  Alice     A  alice@email.com\n",
       "1           2    Bob     B    bob@email.com"
      ]
     },
     "metadata": {},
     "output_type": "display_data"
    },
    {
     "data": {
      "text/html": [
       "<div>\n",
       "<style scoped>\n",
       "    .dataframe tbody tr th:only-of-type {\n",
       "        vertical-align: middle;\n",
       "    }\n",
       "\n",
       "    .dataframe tbody tr th {\n",
       "        vertical-align: top;\n",
       "    }\n",
       "\n",
       "    .dataframe thead th {\n",
       "        text-align: right;\n",
       "    }\n",
       "</style>\n",
       "<table border=\"1\" class=\"dataframe\">\n",
       "  <thead>\n",
       "    <tr style=\"text-align: right;\">\n",
       "      <th></th>\n",
       "      <th>name</th>\n",
       "      <th>grade</th>\n",
       "    </tr>\n",
       "  </thead>\n",
       "  <tbody>\n",
       "    <tr>\n",
       "      <th>0</th>\n",
       "      <td>Alice</td>\n",
       "      <td>A</td>\n",
       "    </tr>\n",
       "  </tbody>\n",
       "</table>\n",
       "</div>"
      ],
      "text/plain": [
       "    name grade\n",
       "0  Alice     A"
      ]
     },
     "metadata": {},
     "output_type": "display_data"
    },
    {
     "data": {
      "text/html": [
       "<div>\n",
       "<style scoped>\n",
       "    .dataframe tbody tr th:only-of-type {\n",
       "        vertical-align: middle;\n",
       "    }\n",
       "\n",
       "    .dataframe tbody tr th {\n",
       "        vertical-align: top;\n",
       "    }\n",
       "\n",
       "    .dataframe thead th {\n",
       "        text-align: right;\n",
       "    }\n",
       "</style>\n",
       "<table border=\"1\" class=\"dataframe\">\n",
       "  <thead>\n",
       "    <tr style=\"text-align: right;\">\n",
       "      <th></th>\n",
       "      <th>student_id</th>\n",
       "      <th>name</th>\n",
       "      <th>grade</th>\n",
       "      <th>email</th>\n",
       "    </tr>\n",
       "  </thead>\n",
       "  <tbody>\n",
       "    <tr>\n",
       "      <th>0</th>\n",
       "      <td>2</td>\n",
       "      <td>Bob</td>\n",
       "      <td>B</td>\n",
       "      <td>bob@email.com</td>\n",
       "    </tr>\n",
       "    <tr>\n",
       "      <th>1</th>\n",
       "      <td>1</td>\n",
       "      <td>Alice</td>\n",
       "      <td>A</td>\n",
       "      <td>alice@email.com</td>\n",
       "    </tr>\n",
       "  </tbody>\n",
       "</table>\n",
       "</div>"
      ],
      "text/plain": [
       "   student_id   name grade            email\n",
       "0           2    Bob     B    bob@email.com\n",
       "1           1  Alice     A  alice@email.com"
      ]
     },
     "metadata": {},
     "output_type": "display_data"
    },
    {
     "data": {
      "text/html": [
       "<div>\n",
       "<style scoped>\n",
       "    .dataframe tbody tr th:only-of-type {\n",
       "        vertical-align: middle;\n",
       "    }\n",
       "\n",
       "    .dataframe tbody tr th {\n",
       "        vertical-align: top;\n",
       "    }\n",
       "\n",
       "    .dataframe thead th {\n",
       "        text-align: right;\n",
       "    }\n",
       "</style>\n",
       "<table border=\"1\" class=\"dataframe\">\n",
       "  <thead>\n",
       "    <tr style=\"text-align: right;\">\n",
       "      <th></th>\n",
       "      <th>grade</th>\n",
       "      <th>num_students</th>\n",
       "    </tr>\n",
       "  </thead>\n",
       "  <tbody>\n",
       "    <tr>\n",
       "      <th>0</th>\n",
       "      <td>A</td>\n",
       "      <td>1</td>\n",
       "    </tr>\n",
       "    <tr>\n",
       "      <th>1</th>\n",
       "      <td>B</td>\n",
       "      <td>1</td>\n",
       "    </tr>\n",
       "  </tbody>\n",
       "</table>\n",
       "</div>"
      ],
      "text/plain": [
       "  grade  num_students\n",
       "0     A             1\n",
       "1     B             1"
      ]
     },
     "metadata": {},
     "output_type": "display_data"
    }
   ],
   "source": [
    "\n",
    "df = pd.read_sql_query(\"SELECT * FROM students\", conn)\n",
    "display(df)\n",
    "\n",
    "\n",
    "df = pd.read_sql_query(\"SELECT name, grade FROM students WHERE grade = 'A'\", conn)\n",
    "display(df)\n",
    "\n",
    "\n",
    "df = pd.read_sql_query(\"SELECT * FROM students WHERE grade <> 'C' ORDER BY name DESC\", conn)\n",
    "display(df)\n",
    "\n",
    "\n",
    "df = pd.read_sql_query(\"SELECT grade, COUNT(*) as num_students FROM students GROUP BY grade\", conn)\n",
    "display(df)"
   ]
  },
  {
   "cell_type": "markdown",
   "id": "966305ae",
   "metadata": {},
   "source": [
    "```sql\n",
    "\n",
    "UPDATE students SET email = 'alice_new@email.com' WHERE name = 'Alice';\n",
    "\n",
    "UPDATE courses SET credits = 4 WHERE course_name = 'Mathematics';\n",
    "\n",
    "UPDATE enrollments SET grade = 'A' WHERE student_id = 2 AND course_id = 2;\n",
    "\n",
    "UPDATE students SET grade = 'B', email = 'bob_new@email.com' WHERE name = 'Bob';\n",
    "\n",
    "```\n"
   ]
  },
  {
   "cell_type": "code",
   "execution_count": 15,
   "id": "cadf3d98",
   "metadata": {},
   "outputs": [
    {
     "name": "stdout",
     "output_type": "stream",
     "text": [
      "Table: students\n"
     ]
    },
    {
     "data": {
      "text/html": [
       "<div>\n",
       "<style scoped>\n",
       "    .dataframe tbody tr th:only-of-type {\n",
       "        vertical-align: middle;\n",
       "    }\n",
       "\n",
       "    .dataframe tbody tr th {\n",
       "        vertical-align: top;\n",
       "    }\n",
       "\n",
       "    .dataframe thead th {\n",
       "        text-align: right;\n",
       "    }\n",
       "</style>\n",
       "<table border=\"1\" class=\"dataframe\">\n",
       "  <thead>\n",
       "    <tr style=\"text-align: right;\">\n",
       "      <th></th>\n",
       "      <th>student_id</th>\n",
       "      <th>name</th>\n",
       "      <th>grade</th>\n",
       "      <th>email</th>\n",
       "    </tr>\n",
       "  </thead>\n",
       "  <tbody>\n",
       "    <tr>\n",
       "      <th>0</th>\n",
       "      <td>1</td>\n",
       "      <td>Alice</td>\n",
       "      <td>A</td>\n",
       "      <td>alice_new@email.com</td>\n",
       "    </tr>\n",
       "    <tr>\n",
       "      <th>1</th>\n",
       "      <td>2</td>\n",
       "      <td>Bob</td>\n",
       "      <td>B</td>\n",
       "      <td>bob_new@email.com</td>\n",
       "    </tr>\n",
       "  </tbody>\n",
       "</table>\n",
       "</div>"
      ],
      "text/plain": [
       "   student_id   name grade                email\n",
       "0           1  Alice     A  alice_new@email.com\n",
       "1           2    Bob     B    bob_new@email.com"
      ]
     },
     "metadata": {},
     "output_type": "display_data"
    },
    {
     "name": "stdout",
     "output_type": "stream",
     "text": [
      "Table: courses\n"
     ]
    },
    {
     "data": {
      "text/html": [
       "<div>\n",
       "<style scoped>\n",
       "    .dataframe tbody tr th:only-of-type {\n",
       "        vertical-align: middle;\n",
       "    }\n",
       "\n",
       "    .dataframe tbody tr th {\n",
       "        vertical-align: top;\n",
       "    }\n",
       "\n",
       "    .dataframe thead th {\n",
       "        text-align: right;\n",
       "    }\n",
       "</style>\n",
       "<table border=\"1\" class=\"dataframe\">\n",
       "  <thead>\n",
       "    <tr style=\"text-align: right;\">\n",
       "      <th></th>\n",
       "      <th>course_id</th>\n",
       "      <th>course_name</th>\n",
       "      <th>credits</th>\n",
       "    </tr>\n",
       "  </thead>\n",
       "  <tbody>\n",
       "    <tr>\n",
       "      <th>0</th>\n",
       "      <td>1</td>\n",
       "      <td>Mathematics</td>\n",
       "      <td>4</td>\n",
       "    </tr>\n",
       "    <tr>\n",
       "      <th>1</th>\n",
       "      <td>2</td>\n",
       "      <td>History</td>\n",
       "      <td>2</td>\n",
       "    </tr>\n",
       "  </tbody>\n",
       "</table>\n",
       "</div>"
      ],
      "text/plain": [
       "   course_id  course_name  credits\n",
       "0          1  Mathematics        4\n",
       "1          2      History        2"
      ]
     },
     "metadata": {},
     "output_type": "display_data"
    },
    {
     "name": "stdout",
     "output_type": "stream",
     "text": [
      "Table: enrollments\n"
     ]
    },
    {
     "data": {
      "text/html": [
       "<div>\n",
       "<style scoped>\n",
       "    .dataframe tbody tr th:only-of-type {\n",
       "        vertical-align: middle;\n",
       "    }\n",
       "\n",
       "    .dataframe tbody tr th {\n",
       "        vertical-align: top;\n",
       "    }\n",
       "\n",
       "    .dataframe thead th {\n",
       "        text-align: right;\n",
       "    }\n",
       "</style>\n",
       "<table border=\"1\" class=\"dataframe\">\n",
       "  <thead>\n",
       "    <tr style=\"text-align: right;\">\n",
       "      <th></th>\n",
       "      <th>enrollment_id</th>\n",
       "      <th>student_id</th>\n",
       "      <th>course_id</th>\n",
       "      <th>semester</th>\n",
       "      <th>grade</th>\n",
       "    </tr>\n",
       "  </thead>\n",
       "  <tbody>\n",
       "    <tr>\n",
       "      <th>0</th>\n",
       "      <td>1</td>\n",
       "      <td>1</td>\n",
       "      <td>1</td>\n",
       "      <td>Fall2023</td>\n",
       "      <td>A</td>\n",
       "    </tr>\n",
       "    <tr>\n",
       "      <th>1</th>\n",
       "      <td>2</td>\n",
       "      <td>2</td>\n",
       "      <td>2</td>\n",
       "      <td>Spring2024</td>\n",
       "      <td>A</td>\n",
       "    </tr>\n",
       "  </tbody>\n",
       "</table>\n",
       "</div>"
      ],
      "text/plain": [
       "   enrollment_id  student_id  course_id    semester grade\n",
       "0              1           1          1    Fall2023     A\n",
       "1              2           2          2  Spring2024     A"
      ]
     },
     "metadata": {},
     "output_type": "display_data"
    }
   ],
   "source": [
    "\n",
    "cursor.execute(\"UPDATE students SET email = 'alice_new@email.com' WHERE name = 'Alice'\")\n",
    "\n",
    "cursor.execute(\"UPDATE courses SET credits = 4 WHERE course_name = 'Mathematics'\")\n",
    "\n",
    "\n",
    "cursor.execute(\"UPDATE enrollments SET grade = 'A' WHERE student_id = 2 AND course_id = 2\")\n",
    "\n",
    "cursor.execute(\"UPDATE students SET grade = 'B', email = 'bob_new@email.com' WHERE name = 'Bob'\")\n",
    "conn.commit()\n",
    "\n",
    "\n",
    "for table_name in [t[0] for t in tables]:\n",
    "    df = pd.read_sql_query(f\"SELECT * FROM {table_name}\", conn)\n",
    "    print(f\"Table: {table_name}\")\n",
    "    display(df)"
   ]
  },
  {
   "cell_type": "markdown",
   "id": "61c00bc0",
   "metadata": {},
   "source": [
    "```sql\n",
    "\n",
    "SELECT s.name, c.course_name, e.semester, e.grade\n",
    "FROM students s\n",
    "JOIN enrollments e ON s.student_id = e.student_id\n",
    "JOIN courses c ON e.course_id = c.course_id\n",
    "WHERE e.grade IS NOT NULL\n",
    "ORDER BY s.name, c.course_name;\n",
    "```\n"
   ]
  },
  {
   "cell_type": "code",
   "execution_count": 16,
   "id": "6a563a37",
   "metadata": {},
   "outputs": [
    {
     "data": {
      "text/html": [
       "<div>\n",
       "<style scoped>\n",
       "    .dataframe tbody tr th:only-of-type {\n",
       "        vertical-align: middle;\n",
       "    }\n",
       "\n",
       "    .dataframe tbody tr th {\n",
       "        vertical-align: top;\n",
       "    }\n",
       "\n",
       "    .dataframe thead th {\n",
       "        text-align: right;\n",
       "    }\n",
       "</style>\n",
       "<table border=\"1\" class=\"dataframe\">\n",
       "  <thead>\n",
       "    <tr style=\"text-align: right;\">\n",
       "      <th></th>\n",
       "      <th>name</th>\n",
       "      <th>course_name</th>\n",
       "      <th>semester</th>\n",
       "      <th>grade</th>\n",
       "    </tr>\n",
       "  </thead>\n",
       "  <tbody>\n",
       "    <tr>\n",
       "      <th>0</th>\n",
       "      <td>Alice</td>\n",
       "      <td>Mathematics</td>\n",
       "      <td>Fall2023</td>\n",
       "      <td>A</td>\n",
       "    </tr>\n",
       "    <tr>\n",
       "      <th>1</th>\n",
       "      <td>Bob</td>\n",
       "      <td>History</td>\n",
       "      <td>Spring2024</td>\n",
       "      <td>A</td>\n",
       "    </tr>\n",
       "  </tbody>\n",
       "</table>\n",
       "</div>"
      ],
      "text/plain": [
       "    name  course_name    semester grade\n",
       "0  Alice  Mathematics    Fall2023     A\n",
       "1    Bob      History  Spring2024     A"
      ]
     },
     "metadata": {},
     "output_type": "display_data"
    }
   ],
   "source": [
    "df = pd.read_sql_query(\"\"\"\n",
    "SELECT s.name, c.course_name, e.semester, e.grade\n",
    "FROM students s\n",
    "JOIN enrollments e ON s.student_id = e.student_id\n",
    "JOIN courses c ON e.course_id = c.course_id\n",
    "WHERE e.grade IS NOT NULL\n",
    "ORDER BY s.name, c.course_name\n",
    "\"\"\", conn)\n",
    "display(df)"
   ]
  },
  {
   "cell_type": "markdown",
   "id": "5ca70a11",
   "metadata": {},
   "source": [
    "```sql\n",
    "SELECT s.name, COUNT(e.course_id) as courses_taken\n",
    "FROM students s\n",
    "LEFT JOIN enrollments e ON s.student_id = e.student_id\n",
    "GROUP BY s.name\n",
    "HAVING courses_taken > 0;\n",
    "```\n"
   ]
  },
  {
   "cell_type": "code",
   "execution_count": 17,
   "id": "84fc5b9d",
   "metadata": {},
   "outputs": [
    {
     "data": {
      "text/html": [
       "<div>\n",
       "<style scoped>\n",
       "    .dataframe tbody tr th:only-of-type {\n",
       "        vertical-align: middle;\n",
       "    }\n",
       "\n",
       "    .dataframe tbody tr th {\n",
       "        vertical-align: top;\n",
       "    }\n",
       "\n",
       "    .dataframe thead th {\n",
       "        text-align: right;\n",
       "    }\n",
       "</style>\n",
       "<table border=\"1\" class=\"dataframe\">\n",
       "  <thead>\n",
       "    <tr style=\"text-align: right;\">\n",
       "      <th></th>\n",
       "      <th>name</th>\n",
       "      <th>courses_taken</th>\n",
       "    </tr>\n",
       "  </thead>\n",
       "  <tbody>\n",
       "    <tr>\n",
       "      <th>0</th>\n",
       "      <td>Alice</td>\n",
       "      <td>1</td>\n",
       "    </tr>\n",
       "    <tr>\n",
       "      <th>1</th>\n",
       "      <td>Bob</td>\n",
       "      <td>1</td>\n",
       "    </tr>\n",
       "  </tbody>\n",
       "</table>\n",
       "</div>"
      ],
      "text/plain": [
       "    name  courses_taken\n",
       "0  Alice              1\n",
       "1    Bob              1"
      ]
     },
     "metadata": {},
     "output_type": "display_data"
    }
   ],
   "source": [
    "df = pd.read_sql_query(\"\"\"\n",
    "SELECT s.name, COUNT(e.course_id) as courses_taken\n",
    "FROM students s\n",
    "LEFT JOIN enrollments e ON s.student_id = e.student_id\n",
    "GROUP BY s.name\n",
    "HAVING courses_taken > 0\n",
    "\"\"\", conn)\n",
    "display(df)"
   ]
  },
  {
   "cell_type": "markdown",
   "id": "fd4d750e",
   "metadata": {},
   "source": [
    "```sql\n",
    "SELECT name, (SELECT COUNT(*) FROM enrollments e WHERE e.student_id = s.student_id) as total_enrollments\n",
    "FROM students s;\n",
    "```\n"
   ]
  },
  {
   "cell_type": "code",
   "execution_count": 18,
   "id": "27920390",
   "metadata": {},
   "outputs": [
    {
     "data": {
      "text/html": [
       "<div>\n",
       "<style scoped>\n",
       "    .dataframe tbody tr th:only-of-type {\n",
       "        vertical-align: middle;\n",
       "    }\n",
       "\n",
       "    .dataframe tbody tr th {\n",
       "        vertical-align: top;\n",
       "    }\n",
       "\n",
       "    .dataframe thead th {\n",
       "        text-align: right;\n",
       "    }\n",
       "</style>\n",
       "<table border=\"1\" class=\"dataframe\">\n",
       "  <thead>\n",
       "    <tr style=\"text-align: right;\">\n",
       "      <th></th>\n",
       "      <th>name</th>\n",
       "      <th>total_enrollments</th>\n",
       "    </tr>\n",
       "  </thead>\n",
       "  <tbody>\n",
       "    <tr>\n",
       "      <th>0</th>\n",
       "      <td>Alice</td>\n",
       "      <td>1</td>\n",
       "    </tr>\n",
       "    <tr>\n",
       "      <th>1</th>\n",
       "      <td>Bob</td>\n",
       "      <td>1</td>\n",
       "    </tr>\n",
       "  </tbody>\n",
       "</table>\n",
       "</div>"
      ],
      "text/plain": [
       "    name  total_enrollments\n",
       "0  Alice                  1\n",
       "1    Bob                  1"
      ]
     },
     "metadata": {},
     "output_type": "display_data"
    }
   ],
   "source": [
    "df = pd.read_sql_query(\"\"\"\n",
    "SELECT name, (SELECT COUNT(*) FROM enrollments e WHERE e.student_id = s.student_id) as total_enrollments\n",
    "FROM students s\n",
    "\"\"\", conn)\n",
    "display(df)"
   ]
  },
  {
   "cell_type": "markdown",
   "id": "97bb5652",
   "metadata": {},
   "source": [
    "```sql\n",
    "SELECT name FROM students s\n",
    "WHERE EXISTS (\n",
    "    SELECT 1 FROM enrollments e WHERE e.student_id = s.student_id AND e.grade = 'A'\n",
    ");\n",
    "```\n"
   ]
  },
  {
   "cell_type": "code",
   "execution_count": 19,
   "id": "a90079b5",
   "metadata": {},
   "outputs": [
    {
     "data": {
      "text/html": [
       "<div>\n",
       "<style scoped>\n",
       "    .dataframe tbody tr th:only-of-type {\n",
       "        vertical-align: middle;\n",
       "    }\n",
       "\n",
       "    .dataframe tbody tr th {\n",
       "        vertical-align: top;\n",
       "    }\n",
       "\n",
       "    .dataframe thead th {\n",
       "        text-align: right;\n",
       "    }\n",
       "</style>\n",
       "<table border=\"1\" class=\"dataframe\">\n",
       "  <thead>\n",
       "    <tr style=\"text-align: right;\">\n",
       "      <th></th>\n",
       "      <th>name</th>\n",
       "    </tr>\n",
       "  </thead>\n",
       "  <tbody>\n",
       "    <tr>\n",
       "      <th>0</th>\n",
       "      <td>Alice</td>\n",
       "    </tr>\n",
       "    <tr>\n",
       "      <th>1</th>\n",
       "      <td>Bob</td>\n",
       "    </tr>\n",
       "  </tbody>\n",
       "</table>\n",
       "</div>"
      ],
      "text/plain": [
       "    name\n",
       "0  Alice\n",
       "1    Bob"
      ]
     },
     "metadata": {},
     "output_type": "display_data"
    }
   ],
   "source": [
    "df = pd.read_sql_query(\"\"\"\n",
    "SELECT name FROM students s\n",
    "WHERE EXISTS (\n",
    "    SELECT 1 FROM enrollments e WHERE e.student_id = s.student_id AND e.grade = 'A'\n",
    ")\n",
    "\"\"\", conn)\n",
    "display(df)"
   ]
  },
  {
   "cell_type": "markdown",
   "id": "2428cf47",
   "metadata": {},
   "source": [
    "```sql\n",
    "SELECT s1.name AS student1, s2.name AS student2\n",
    "FROM students s1\n",
    "JOIN students s2 ON s1.grade = s2.grade AND s1.student_id <> s2.student_id;\n",
    "```\n"
   ]
  },
  {
   "cell_type": "code",
   "execution_count": 20,
   "id": "ec2c7e26",
   "metadata": {},
   "outputs": [
    {
     "data": {
      "text/html": [
       "<div>\n",
       "<style scoped>\n",
       "    .dataframe tbody tr th:only-of-type {\n",
       "        vertical-align: middle;\n",
       "    }\n",
       "\n",
       "    .dataframe tbody tr th {\n",
       "        vertical-align: top;\n",
       "    }\n",
       "\n",
       "    .dataframe thead th {\n",
       "        text-align: right;\n",
       "    }\n",
       "</style>\n",
       "<table border=\"1\" class=\"dataframe\">\n",
       "  <thead>\n",
       "    <tr style=\"text-align: right;\">\n",
       "      <th></th>\n",
       "      <th>student1</th>\n",
       "      <th>student2</th>\n",
       "    </tr>\n",
       "  </thead>\n",
       "  <tbody>\n",
       "  </tbody>\n",
       "</table>\n",
       "</div>"
      ],
      "text/plain": [
       "Empty DataFrame\n",
       "Columns: [student1, student2]\n",
       "Index: []"
      ]
     },
     "metadata": {},
     "output_type": "display_data"
    }
   ],
   "source": [
    "df = pd.read_sql_query(\"\"\"\n",
    "SELECT s1.name AS student1, s2.name AS student2\n",
    "FROM students s1\n",
    "JOIN students s2 ON s1.grade = s2.grade AND s1.student_id <> s2.student_id\n",
    "\"\"\", conn)\n",
    "display(df)"
   ]
  },
  {
   "cell_type": "markdown",
   "id": "3f14644f",
   "metadata": {},
   "source": [
    "```sql\n",
    "SELECT name FROM students\n",
    "UNION\n",
    "SELECT course_name FROM courses;\n",
    "```\n"
   ]
  },
  {
   "cell_type": "code",
   "execution_count": 21,
   "id": "4859824c",
   "metadata": {},
   "outputs": [
    {
     "data": {
      "text/html": [
       "<div>\n",
       "<style scoped>\n",
       "    .dataframe tbody tr th:only-of-type {\n",
       "        vertical-align: middle;\n",
       "    }\n",
       "\n",
       "    .dataframe tbody tr th {\n",
       "        vertical-align: top;\n",
       "    }\n",
       "\n",
       "    .dataframe thead th {\n",
       "        text-align: right;\n",
       "    }\n",
       "</style>\n",
       "<table border=\"1\" class=\"dataframe\">\n",
       "  <thead>\n",
       "    <tr style=\"text-align: right;\">\n",
       "      <th></th>\n",
       "      <th>name</th>\n",
       "    </tr>\n",
       "  </thead>\n",
       "  <tbody>\n",
       "    <tr>\n",
       "      <th>0</th>\n",
       "      <td>Alice</td>\n",
       "    </tr>\n",
       "    <tr>\n",
       "      <th>1</th>\n",
       "      <td>Bob</td>\n",
       "    </tr>\n",
       "    <tr>\n",
       "      <th>2</th>\n",
       "      <td>History</td>\n",
       "    </tr>\n",
       "    <tr>\n",
       "      <th>3</th>\n",
       "      <td>Mathematics</td>\n",
       "    </tr>\n",
       "  </tbody>\n",
       "</table>\n",
       "</div>"
      ],
      "text/plain": [
       "          name\n",
       "0        Alice\n",
       "1          Bob\n",
       "2      History\n",
       "3  Mathematics"
      ]
     },
     "metadata": {},
     "output_type": "display_data"
    }
   ],
   "source": [
    "df = pd.read_sql_query(\"\"\"\n",
    "SELECT name FROM students\n",
    "UNION\n",
    "SELECT course_name FROM courses\n",
    "\"\"\", conn)\n",
    "display(df)"
   ]
  },
  {
   "cell_type": "markdown",
   "id": "7fb43e30",
   "metadata": {},
   "source": [
    "```sql\n",
    "SELECT name,\n",
    "    CASE\n",
    "        WHEN grade = 'A' THEN 'Excellent'\n",
    "        WHEN grade = 'B' THEN 'Good'\n",
    "        ELSE 'Needs Improvement'\n",
    "    END as performance\n",
    "FROM students;\n",
    "```\n"
   ]
  },
  {
   "cell_type": "code",
   "execution_count": 22,
   "id": "f7acb762",
   "metadata": {},
   "outputs": [
    {
     "data": {
      "text/html": [
       "<div>\n",
       "<style scoped>\n",
       "    .dataframe tbody tr th:only-of-type {\n",
       "        vertical-align: middle;\n",
       "    }\n",
       "\n",
       "    .dataframe tbody tr th {\n",
       "        vertical-align: top;\n",
       "    }\n",
       "\n",
       "    .dataframe thead th {\n",
       "        text-align: right;\n",
       "    }\n",
       "</style>\n",
       "<table border=\"1\" class=\"dataframe\">\n",
       "  <thead>\n",
       "    <tr style=\"text-align: right;\">\n",
       "      <th></th>\n",
       "      <th>name</th>\n",
       "      <th>performance</th>\n",
       "    </tr>\n",
       "  </thead>\n",
       "  <tbody>\n",
       "    <tr>\n",
       "      <th>0</th>\n",
       "      <td>Alice</td>\n",
       "      <td>Excellent</td>\n",
       "    </tr>\n",
       "    <tr>\n",
       "      <th>1</th>\n",
       "      <td>Bob</td>\n",
       "      <td>Good</td>\n",
       "    </tr>\n",
       "  </tbody>\n",
       "</table>\n",
       "</div>"
      ],
      "text/plain": [
       "    name performance\n",
       "0  Alice   Excellent\n",
       "1    Bob        Good"
      ]
     },
     "metadata": {},
     "output_type": "display_data"
    }
   ],
   "source": [
    "df = pd.read_sql_query(\"\"\"\n",
    "SELECT name,\n",
    "    CASE\n",
    "        WHEN grade = 'A' THEN 'Excellent'\n",
    "        WHEN grade = 'B' THEN 'Good'\n",
    "        ELSE 'Needs Improvement'\n",
    "    END as performance\n",
    "FROM students\n",
    "\"\"\", conn)\n",
    "display(df)"
   ]
  },
  {
   "cell_type": "markdown",
   "id": "1009da0a",
   "metadata": {},
   "source": [
    "```sql\n",
    "SELECT\n",
    "    s.name,\n",
    "    e.semester,\n",
    "    e.grade,\n",
    "    RANK() OVER (PARTITION BY s.student_id ORDER BY e.grade DESC) as grade_rank\n",
    "FROM students s\n",
    "JOIN enrollments e ON s.student_id = e.student_id;\n",
    "```\n"
   ]
  },
  {
   "cell_type": "code",
   "execution_count": 23,
   "id": "b0015860",
   "metadata": {},
   "outputs": [
    {
     "data": {
      "text/html": [
       "<div>\n",
       "<style scoped>\n",
       "    .dataframe tbody tr th:only-of-type {\n",
       "        vertical-align: middle;\n",
       "    }\n",
       "\n",
       "    .dataframe tbody tr th {\n",
       "        vertical-align: top;\n",
       "    }\n",
       "\n",
       "    .dataframe thead th {\n",
       "        text-align: right;\n",
       "    }\n",
       "</style>\n",
       "<table border=\"1\" class=\"dataframe\">\n",
       "  <thead>\n",
       "    <tr style=\"text-align: right;\">\n",
       "      <th></th>\n",
       "      <th>name</th>\n",
       "      <th>semester</th>\n",
       "      <th>grade</th>\n",
       "      <th>grade_rank</th>\n",
       "    </tr>\n",
       "  </thead>\n",
       "  <tbody>\n",
       "    <tr>\n",
       "      <th>0</th>\n",
       "      <td>Alice</td>\n",
       "      <td>Fall2023</td>\n",
       "      <td>A</td>\n",
       "      <td>1</td>\n",
       "    </tr>\n",
       "    <tr>\n",
       "      <th>1</th>\n",
       "      <td>Bob</td>\n",
       "      <td>Spring2024</td>\n",
       "      <td>A</td>\n",
       "      <td>1</td>\n",
       "    </tr>\n",
       "  </tbody>\n",
       "</table>\n",
       "</div>"
      ],
      "text/plain": [
       "    name    semester grade  grade_rank\n",
       "0  Alice    Fall2023     A           1\n",
       "1    Bob  Spring2024     A           1"
      ]
     },
     "metadata": {},
     "output_type": "display_data"
    }
   ],
   "source": [
    "df = pd.read_sql_query(\"\"\"\n",
    "SELECT\n",
    "    s.name,\n",
    "    e.semester,\n",
    "    e.grade,\n",
    "    RANK() OVER (PARTITION BY s.student_id ORDER BY e.grade DESC) as grade_rank\n",
    "FROM students s\n",
    "JOIN enrollments e ON s.student_id = e.student_id\n",
    "\"\"\", conn)\n",
    "display(df)"
   ]
  },
  {
   "cell_type": "markdown",
   "id": "e181f2fc",
   "metadata": {},
   "source": [
    "\n",
    "```sql\n",
    "DELETE FROM students WHERE name = 'Bob';\n",
    "\n",
    "DROP TABLE enrollments;\n",
    "```"
   ]
  },
  {
   "cell_type": "code",
   "execution_count": 24,
   "id": "d2fdd952",
   "metadata": {},
   "outputs": [
    {
     "name": "stdout",
     "output_type": "stream",
     "text": [
      "Tables in database: ['students', 'courses']\n",
      "Table: students\n"
     ]
    },
    {
     "data": {
      "text/html": [
       "<div>\n",
       "<style scoped>\n",
       "    .dataframe tbody tr th:only-of-type {\n",
       "        vertical-align: middle;\n",
       "    }\n",
       "\n",
       "    .dataframe tbody tr th {\n",
       "        vertical-align: top;\n",
       "    }\n",
       "\n",
       "    .dataframe thead th {\n",
       "        text-align: right;\n",
       "    }\n",
       "</style>\n",
       "<table border=\"1\" class=\"dataframe\">\n",
       "  <thead>\n",
       "    <tr style=\"text-align: right;\">\n",
       "      <th></th>\n",
       "      <th>student_id</th>\n",
       "      <th>name</th>\n",
       "      <th>grade</th>\n",
       "      <th>email</th>\n",
       "    </tr>\n",
       "  </thead>\n",
       "  <tbody>\n",
       "    <tr>\n",
       "      <th>0</th>\n",
       "      <td>1</td>\n",
       "      <td>Alice</td>\n",
       "      <td>A</td>\n",
       "      <td>alice_new@email.com</td>\n",
       "    </tr>\n",
       "  </tbody>\n",
       "</table>\n",
       "</div>"
      ],
      "text/plain": [
       "   student_id   name grade                email\n",
       "0           1  Alice     A  alice_new@email.com"
      ]
     },
     "metadata": {},
     "output_type": "display_data"
    },
    {
     "name": "stdout",
     "output_type": "stream",
     "text": [
      "Table: courses\n"
     ]
    },
    {
     "data": {
      "text/html": [
       "<div>\n",
       "<style scoped>\n",
       "    .dataframe tbody tr th:only-of-type {\n",
       "        vertical-align: middle;\n",
       "    }\n",
       "\n",
       "    .dataframe tbody tr th {\n",
       "        vertical-align: top;\n",
       "    }\n",
       "\n",
       "    .dataframe thead th {\n",
       "        text-align: right;\n",
       "    }\n",
       "</style>\n",
       "<table border=\"1\" class=\"dataframe\">\n",
       "  <thead>\n",
       "    <tr style=\"text-align: right;\">\n",
       "      <th></th>\n",
       "      <th>course_id</th>\n",
       "      <th>course_name</th>\n",
       "      <th>credits</th>\n",
       "    </tr>\n",
       "  </thead>\n",
       "  <tbody>\n",
       "    <tr>\n",
       "      <th>0</th>\n",
       "      <td>1</td>\n",
       "      <td>Mathematics</td>\n",
       "      <td>4</td>\n",
       "    </tr>\n",
       "    <tr>\n",
       "      <th>1</th>\n",
       "      <td>2</td>\n",
       "      <td>History</td>\n",
       "      <td>2</td>\n",
       "    </tr>\n",
       "  </tbody>\n",
       "</table>\n",
       "</div>"
      ],
      "text/plain": [
       "   course_id  course_name  credits\n",
       "0          1  Mathematics        4\n",
       "1          2      History        2"
      ]
     },
     "metadata": {},
     "output_type": "display_data"
    }
   ],
   "source": [
    "\n",
    "cursor.execute(\"DELETE FROM students WHERE name = 'Bob'\")\n",
    "\n",
    "cursor.execute(\"DROP TABLE enrollments\")\n",
    "conn.commit()\n",
    "\n",
    "tables = cursor.execute(\"SELECT name FROM sqlite_master WHERE type='table' and name NOT LIKE 'sqlite_%'\").fetchall()\n",
    "print(\"Tables in database:\", [t[0] for t in tables])\n",
    "for table_name in [t[0] for t in tables]:\n",
    "    df = pd.read_sql_query(f\"SELECT * FROM {table_name}\", conn)\n",
    "    print(f\"Table: {table_name}\")\n",
    "    display(df)"
   ]
  },
  {
   "cell_type": "code",
   "execution_count": 25,
   "id": "6982c2e6",
   "metadata": {},
   "outputs": [],
   "source": [
    "# when we're done, we can close the connection\n",
    "# to our sqlite database\n",
    "\n",
    "# it runs in memory, so it will be take up ram\n",
    "# if we don't close it\n",
    "# and it will not persist after we close the connection\n",
    "# which means we lose all our data\n",
    "conn.close()"
   ]
  },
  {
   "cell_type": "markdown",
   "id": "e62c1f4c",
   "metadata": {},
   "source": []
  }
 ],
 "metadata": {
  "kernelspec": {
   "display_name": "ds",
   "language": "python",
   "name": "python3"
  },
  "language_info": {
   "codemirror_mode": {
    "name": "ipython",
    "version": 3
   },
   "file_extension": ".py",
   "mimetype": "text/x-python",
   "name": "python",
   "nbconvert_exporter": "python",
   "pygments_lexer": "ipython3",
   "version": "3.12.9"
  }
 },
 "nbformat": 4,
 "nbformat_minor": 5
}
