{
 "cells": [
  {
   "cell_type": "markdown",
   "id": "a1469c9b",
   "metadata": {},
   "source": [
    "# SQL REVIEW"
   ]
  },
  {
   "cell_type": "markdown",
   "id": "10be37ba",
   "metadata": {},
   "source": [
    "### Important SQL keywords:\n",
    "\n",
    "```sql\n",
    "-- DDL (Data Definition Language)\n",
    "CREATE       -- create tables, databases\n",
    "ALTER        -- modify table structure, rename tables/columns\n",
    "DROP         -- delete tables, databases\n",
    "\n",
    "-- DML (Data Manipulation Language)\n",
    "INSERT       -- add rows\n",
    "UPDATE       -- change existing rows\n",
    "DELETE       -- remove rows\n",
    "SELECT       -- read/query data\n",
    "\n",
    "-- Other Key Clauses\n",
    "WHERE        -- filter rows\n",
    "ORDER BY     -- sort rows\n",
    "GROUP BY     -- group rows\n",
    "HAVING       -- filter groups\n",
    "JOIN         -- combine rows from other tables\n",
    "UNION        -- merge result sets\n",
    "LIMIT        -- restrict result count\n",
    "DISTINCT     -- remove duplicates\n",
    "IN, LIKE, BETWEEN, IS NULL -- special filters\n",
    "\n",
    "-- Table constraints\n",
    "PRIMARY KEY, FOREIGN KEY, UNIQUE, NOT NULL, DEFAULT, CHECK\n",
    "```"
   ]
  },
  {
   "cell_type": "markdown",
   "id": "8608e7b3",
   "metadata": {},
   "source": [
    "### Data types\n",
    "```sql\n",
    "-- Numbers\n",
    "INT / INTEGER\n",
    "FLOAT / REAL / DOUBLE\n",
    "DECIMAL(p, s)  -- exact precision (e.g., money)\n",
    "\n",
    "-- Strings\n",
    "VARCHAR(n)     -- variable length\n",
    "CHAR(n)        -- fixed length\n",
    "TEXT           -- long text\n",
    "\n",
    "-- Dates and Times\n",
    "DATE\n",
    "TIME\n",
    "TIMESTAMP\n",
    "DATETIME\n",
    "\n",
    "-- Boolean\n",
    "BOOLEAN / BOOL\n",
    "\n",
    "-- Others\n",
    "BLOB           -- binary large object\n",
    "```"
   ]
  },
  {
   "cell_type": "markdown",
   "id": "bcac9a38",
   "metadata": {},
   "source": [
    "### Creating tables\n",
    "\n",
    "```sql\n",
    "CREATE TABLE users (\n",
    "  id INT PRIMARY KEY,\n",
    "  name VARCHAR(100) NOT NULL,\n",
    "  email VARCHAR(150) UNIQUE,\n",
    "  age INT DEFAULT 18,\n",
    "  created_at TIMESTAMP DEFAULT CURRENT_TIMESTAMP\n",
    ");\n",
    "\n",
    "CREATE TABLE orders (\n",
    "  id INT PRIMARY KEY,\n",
    "  user_id INT NOT NULL,\n",
    "  product VARCHAR(100) NOT NULL,\n",
    "  quantity INT DEFAULT 1,\n",
    "  order_date TIMESTAMP DEFAULT CURRENT_TIMESTAMP,\n",
    "  FOREIGN KEY (user_id) REFERENCES users(id)\n",
    ");\n",
    "```"
   ]
  },
  {
   "cell_type": "markdown",
   "id": "c88daa99",
   "metadata": {},
   "source": [
    "### Altering Tables\n",
    "\n",
    "```sql\n",
    "-- Add column\n",
    "ALTER TABLE users ADD COLUMN phone VARCHAR(20);\n",
    "\n",
    "-- Modify column (depends on DB)\n",
    "ALTER TABLE users ALTER COLUMN age SET DEFAULT 21;\n",
    "\n",
    "-- Drop column\n",
    "ALTER TABLE users DROP COLUMN phone;\n",
    "\n",
    "-- Rename column or table\n",
    "ALTER TABLE users RENAME COLUMN name TO full_name;\n",
    "ALTER TABLE users RENAME TO members;\n",
    "```"
   ]
  },
  {
   "cell_type": "markdown",
   "id": "14e21af1",
   "metadata": {},
   "source": [
    "### Inserting data into table\n",
    "\n",
    "inserting one row\n",
    "\n",
    "```sql\n",
    "INSERT INTO users (id, name, email, age)\n",
    "VALUES (1, 'Alice', 'alice@example.com', 25);\n",
    "```\n",
    "\n",
    "bulk insert (notice the comma between values)\n",
    "```sql\n",
    "INSERT INTO users (id, name, email, age)\n",
    "VALUES \n",
    "(2, 'Bob', 'bob@example.com', 30),\n",
    "(3, 'Eve', 'eve@example.com', 22);\n",
    "```"
   ]
  },
  {
   "cell_type": "markdown",
   "id": "9b480920",
   "metadata": {},
   "source": [
    "### Selecting Data\n",
    "\n",
    "select will return rows from the table given\n",
    "\n",
    "selecting all columns:\n",
    "```sql\n",
    "SELECT * FROM users;\n",
    "```\n",
    "\n",
    "selecting specific columns:\n",
    "```sql\n",
    "SELECT name, email FROM users;\n",
    "```\n",
    "\n",
    "filtering rows while selecting:\n",
    "note: we do this when we want to filter the rows we've selected\n",
    "```sql\n",
    "SELECT * FROM users WHERE age > 25;\n",
    "SELECT * FROM users WHERE name LIKE 'A%';\n",
    "SELECT * FROM users WHERE email IS NOT NULL; -- cannot use `=` with Null;\n",
    "SELECT * FROM users WHERE age BETWEEN 18 AND 30;\n",
    "```\n",
    "\n",
    "ordering results:\n",
    "```sql\n",
    "SELECT * FROM users ORDER BY age ASC;\n",
    "SELECT * FROM users ORDER BY created_at DESC;\n",
    "```\n",
    "\n",
    "grouping with GROUP BY (this allows us to use an aggregate method):\n",
    "```sql\n",
    "SELECT age, COUNT(*) AS num_users\n",
    "FROM users\n",
    "GROUP BY age;\n",
    "```\n",
    "\n",
    "filtering by grouping using GROUP BY and HAVING:\n",
    "```sql\n",
    "SELECT age, COUNT(*) AS num_users\n",
    "FROM users\n",
    "GROUP BY age\n",
    "HAVING COUNT(*) > 1;\n",
    "```\n",
    "note: we do this when we want to filter the results of a grouping"
   ]
  },
  {
   "cell_type": "markdown",
   "id": "98edf006",
   "metadata": {},
   "source": [
    "### Joins\n",
    "\n",
    "inner joins:\n",
    "```sql\n",
    "SELECT *\n",
    "FROM orders\n",
    "INNER JOIN users ON orders.user_id = users.id;\n",
    "```\n",
    "\n",
    "left joins:\n",
    "```sql\n",
    "SELECT *\n",
    "FROM users\n",
    "LEFT JOIN orders ON users.id = orders.user_id;\n",
    "```\n",
    "right joins:\n",
    "```sql\n",
    "SELECT *\n",
    "FROM users\n",
    "RIGHT JOIN orders ON users.id = orders.user_id;\n",
    "```\n",
    "full outer joins:\n",
    "```sql\n",
    "SELECT *\n",
    "FROM users\n",
    "FULL OUTER JOIN orders ON users.id = orders.user_id;\n",
    "\n",
    "cross joins (cartesian product):\n",
    "```\n",
    "SELECT *\n",
    "FROM users\n",
    "CROSS JOIN roles;\n",
    "```sql"
   ]
  },
  {
   "cell_type": "markdown",
   "id": "2c092381",
   "metadata": {},
   "source": [
    "## 1. Import Required Libraries\n",
    "We'll use `sqlite3` for SQL and `pandas` to load the CSV."
   ]
  },
  {
   "cell_type": "code",
   "execution_count": null,
   "id": "978a649f",
   "metadata": {},
   "outputs": [],
   "source": [
    "import sqlite3\n",
    "import pandas as pd"
   ]
  },
  {
   "cell_type": "markdown",
   "id": "0e022ee0",
   "metadata": {},
   "source": [
    "## 2. Load a Simple CSV Dataset\n",
    "Let's create a tiny CSV in memory for this demo. In practice, you would use `pd.read_csv('filename.csv')`."
   ]
  },
  {
   "cell_type": "markdown",
   "id": "08e1585f",
   "metadata": {},
   "source": [
    "## Side-by-side: Pandas vs SQL with Users and Products\n",
    "We'll load users and products from CSV, then show how to do the same operations in pandas and SQL."
   ]
  },
  {
   "cell_type": "code",
   "execution_count": null,
   "id": "a6d3b700",
   "metadata": {},
   "outputs": [],
   "source": [
    "import pandas as pd\n",
    "import sqlite3\n",
    "from io import StringIO\n",
    "\n",
    "users_csv = '''id,name,email,age\n",
    "1,Alice,alice@example.com,25\n",
    "2,Bob,bob@example.com,30\n",
    "3,Eve,eve@example.com,22\n",
    "4,David,david@example.com,28\n",
    "'''\n",
    "products_csv = '''id,name,price,stock\n",
    "1,Widget,19.99,100\n",
    "2,Gadget,29.99,50\n",
    "3,Thing,9.99,200\n",
    "'''\n",
    "users_df = pd.read_csv(StringIO(users_csv))\n",
    "products_df = pd.read_csv(StringIO(products_csv))"
   ]
  },
  {
   "cell_type": "code",
   "execution_count": null,
   "id": "9e3d0131",
   "metadata": {},
   "outputs": [],
   "source": [
    "users_df"
   ]
  },
  {
   "cell_type": "code",
   "execution_count": null,
   "id": "b4b82161",
   "metadata": {},
   "outputs": [],
   "source": [
    "products_df"
   ]
  },
  {
   "cell_type": "markdown",
   "id": "b5180370",
   "metadata": {},
   "source": [
    "### Create SQLite DB, tables, and insert data"
   ]
  },
  {
   "cell_type": "code",
   "execution_count": null,
   "id": "d48f04e7",
   "metadata": {},
   "outputs": [],
   "source": [
    "import csv\n",
    "\n",
    "conn = sqlite3.connect(':memory:')\n",
    "c = conn.cursor()\n",
    "c.execute('''CREATE TABLE users (id INT PRIMARY KEY, name TEXT, email TEXT, age INT)''')\n",
    "c.execute('''CREATE TABLE products (id INT PRIMARY KEY, name TEXT, price REAL, stock INT)''')\n",
    "with open('users.csv', 'w') as f:\n",
    "    f.write(users_csv)\n",
    "\n",
    "with open('users.csv', newline='') as f:\n",
    "    reader = csv.reader(f)\n",
    "    next(reader)  # skip header row containing column names\n",
    "    for row in reader:\n",
    "        c.execute(\n",
    "            \"INSERT INTO users (id, name, email, age) VALUES (?, ?, ?, ?)\",\n",
    "            # csv.reader gives us lists so here we have to use the indices\n",
    "            (int(row[0]), row[1], row[2], int(row[3]))\n",
    "        )\n",
    "\n",
    "with open('products.csv', 'w') as f:\n",
    "    f.write(products_csv)\n",
    "\n",
    "with open('products.csv', newline='') as f:\n",
    "        # we use DictReader here to turn each row of our csv into a dictionary\n",
    "    # note using `csv.reader` would work as well but we'd need to skip the first row\n",
    "    # since it's a list of the column names. DictReader turns our column names into the key\n",
    "    # for each row's dictionary\n",
    "    reader = csv.DictReader(f)\n",
    "    for row in reader:\n",
    "        c.execute(\n",
    "            \"INSERT INTO products (id, name, price, stock) VALUES (?, ?, ?, ?)\",\n",
    "            # csv.DictReader gives us a dictionary for each row and we can refer to each column by name\n",
    "            (int(row['id']), row['name'], float(row['price']), int(row['stock']))\n",
    "        )\n",
    "\n",
    "# We could've also turned our pandas dataframes into sql tables using the following:\n",
    "# users_df.to_sql('users', conn, if_exists='replace', index=False)\n",
    "# products_df.to_sql('products', conn, if_exists='replace', index=False)"
   ]
  },
  {
   "cell_type": "markdown",
   "id": "cb238af7",
   "metadata": {},
   "source": [
    "### Select all users/products (Pandas vs SQL)"
   ]
  },
  {
   "cell_type": "code",
   "execution_count": null,
   "id": "7c8baac0",
   "metadata": {},
   "outputs": [],
   "source": [
    "# Pandas\n",
    "users_df"
   ]
  },
  {
   "cell_type": "code",
   "execution_count": null,
   "id": "84b8f549",
   "metadata": {},
   "outputs": [],
   "source": [
    "products_df"
   ]
  },
  {
   "cell_type": "code",
   "execution_count": null,
   "id": "f022bd13",
   "metadata": {},
   "outputs": [],
   "source": [
    "# this command allows us to select from an sql db \n",
    "# and gives us back the results as a dataframe!\n",
    "pd.read_sql_query('SELECT * FROM users', conn)"
   ]
  },
  {
   "cell_type": "markdown",
   "id": "95df531a",
   "metadata": {},
   "source": [
    "### SELECT specific columns: name and age from users"
   ]
  },
  {
   "cell_type": "code",
   "execution_count": null,
   "id": "a4653fbc",
   "metadata": {},
   "outputs": [],
   "source": [
    "users_df[[\"name\", \"age\"]]"
   ]
  },
  {
   "cell_type": "code",
   "execution_count": null,
   "id": "0e74a134",
   "metadata": {},
   "outputs": [],
   "source": [
    "# Pandas\n",
    "pd.read_sql_query('SELECT name, age FROM users', conn)"
   ]
  },
  {
   "cell_type": "code",
   "execution_count": null,
   "id": "cc7b3f04",
   "metadata": {},
   "outputs": [],
   "source": [
    "# Pure Python\n",
    "c.execute('SELECT name, age FROM users')\n",
    "print(c.fetchall())"
   ]
  },
  {
   "cell_type": "markdown",
   "id": "74496786",
   "metadata": {},
   "source": [
    "### Filter users age > 25 (Pandas vs SQL)"
   ]
  },
  {
   "cell_type": "code",
   "execution_count": null,
   "id": "3bbc3059",
   "metadata": {},
   "outputs": [],
   "source": [
    "# Pandas\n",
    "users_df[users_df['age'] > 25]"
   ]
  },
  {
   "cell_type": "code",
   "execution_count": null,
   "id": "502f2bd8",
   "metadata": {},
   "outputs": [],
   "source": [
    "# SQL\n",
    "pd.read_sql_query('SELECT * FROM users WHERE age > 25', conn)"
   ]
  },
  {
   "cell_type": "code",
   "execution_count": null,
   "id": "ffa8d4ab",
   "metadata": {},
   "outputs": [],
   "source": [
    "# Pure Python\n",
    "c.execute('SELECT * FROM users WHERE Age > 25')\n",
    "print(c.fetchall())"
   ]
  },
  {
   "cell_type": "markdown",
   "id": "e51f8d5e",
   "metadata": {},
   "source": [
    "### SELECT with ORDER BY and LIMIT: top 2 oldest users"
   ]
  },
  {
   "cell_type": "code",
   "execution_count": null,
   "id": "2201a7a1",
   "metadata": {},
   "outputs": [],
   "source": [
    "users_df.sort_values('age', ascending=False).head(2)"
   ]
  },
  {
   "cell_type": "code",
   "execution_count": null,
   "id": "fa82676f",
   "metadata": {},
   "outputs": [],
   "source": [
    "pd.read_sql_query('SELECT * FROM users ORDER BY age DESC LIMIT 2', conn)"
   ]
  },
  {
   "cell_type": "code",
   "execution_count": null,
   "id": "2f459028",
   "metadata": {},
   "outputs": [],
   "source": [
    "c.execute('SELECT * FROM users ORDER BY age DESC LIMIT 2')\n",
    "print(c.fetchall())"
   ]
  },
  {
   "cell_type": "markdown",
   "id": "e645bcd6",
   "metadata": {},
   "source": [
    "### WHERE with multiple conditions: users age > 22 and name starts with 'A' or 'D'"
   ]
  },
  {
   "cell_type": "code",
   "execution_count": null,
   "id": "2730ec0d",
   "metadata": {},
   "outputs": [],
   "source": [
    "users_df[(users_df['age'] > 22) & (users_df['name'].str.startswith(('A', 'D')))]"
   ]
  },
  {
   "cell_type": "code",
   "execution_count": null,
   "id": "dc680ccd",
   "metadata": {},
   "outputs": [],
   "source": [
    "pd.read_sql_query(\"SELECT * FROM users WHERE age > 22 AND (name LIKE 'A%' OR name LIKE 'D%')\", conn)"
   ]
  },
  {
   "cell_type": "code",
   "execution_count": null,
   "id": "d4a3aaee",
   "metadata": {},
   "outputs": [],
   "source": [
    "c.execute(\"SELECT * FROM users WHERE age > 22 AND (name LIKE 'A%' OR name LIKE 'D%')\")\n",
    "print(c.fetchall())"
   ]
  },
  {
   "cell_type": "markdown",
   "id": "3b72ef14",
   "metadata": {},
   "source": [
    "### WHERE with IN, BETWEEN, IS NULL (add a row with NULL age for demo)"
   ]
  },
  {
   "cell_type": "code",
   "execution_count": null,
   "id": "61ede84a",
   "metadata": {},
   "outputs": [],
   "source": [
    "c.execute(\"INSERT INTO users (id, name, email, age) VALUES (?, ?, ?, ?)\", (5, 'NullGuy', 'nullguy@example.com', None))\n",
    "conn.commit()"
   ]
  },
  {
   "cell_type": "code",
   "execution_count": null,
   "id": "dc38cb3e",
   "metadata": {},
   "outputs": [],
   "source": [
    "# IN\n",
    "pd.read_sql_query(\"SELECT * FROM users WHERE name IN ('Alice', 'Eve')\", conn)"
   ]
  },
  {
   "cell_type": "code",
   "execution_count": null,
   "id": "83060aca",
   "metadata": {},
   "outputs": [],
   "source": [
    "# BETWEEN\n",
    "pd.read_sql_query(\"SELECT * FROM users WHERE age BETWEEN 23 AND 29\", conn)"
   ]
  },
  {
   "cell_type": "code",
   "execution_count": null,
   "id": "c8173e83",
   "metadata": {},
   "outputs": [],
   "source": [
    "# IS NULL\n",
    "pd.read_sql_query(\"SELECT * FROM users WHERE age IS NULL\", conn)"
   ]
  },
  {
   "cell_type": "code",
   "execution_count": null,
   "id": "dde2a4b7",
   "metadata": {},
   "outputs": [],
   "source": [
    "# Pure Python for IS NULL\n",
    "c.execute(\"SELECT * FROM users WHERE age IS NULL\")\n",
    "print(c.fetchall())"
   ]
  },
  {
   "cell_type": "markdown",
   "id": "f3b71ff7",
   "metadata": {},
   "source": [
    "### Group by: count users by age (Pandas vs SQL)"
   ]
  },
  {
   "cell_type": "code",
   "execution_count": null,
   "id": "4a9254b6",
   "metadata": {},
   "outputs": [],
   "source": [
    "# Pandas\n",
    "users_df.groupby('age').size().reset_index(name='num_users')"
   ]
  },
  {
   "cell_type": "code",
   "execution_count": null,
   "id": "c1a61c7f",
   "metadata": {},
   "outputs": [],
   "source": [
    "# SQL\n",
    "pd.read_sql_query('SELECT age, COUNT(*) as num_users FROM users GROUP BY age', conn)"
   ]
  },
  {
   "cell_type": "code",
   "execution_count": null,
   "id": "57004dda",
   "metadata": {},
   "outputs": [],
   "source": [
    "# Pure Python\n",
    "c.execute('SELECT age, COUNT(*) as num_users FROM users GROUP BY age')\n",
    "print(c.fetchall())"
   ]
  },
  {
   "cell_type": "markdown",
   "id": "21251f26",
   "metadata": {},
   "source": [
    "### GROUP BY with Aggregate Methods and HAVING"
   ]
  },
  {
   "cell_type": "code",
   "execution_count": null,
   "id": "341e02e1",
   "metadata": {},
   "outputs": [],
   "source": [
    "# Pure Python GROUP BY COUNT\n",
    "c.execute('SELECT age, COUNT(*) as num_users FROM users GROUP BY age')\n",
    "print(c.fetchall())"
   ]
  },
  {
   "cell_type": "code",
   "execution_count": null,
   "id": "7b66c5d6",
   "metadata": {},
   "outputs": [],
   "source": [
    "# COUNT\n",
    "pd.read_sql_query('SELECT age, COUNT(*) as num_users FROM users GROUP BY age', conn)"
   ]
  },
  {
   "cell_type": "code",
   "execution_count": null,
   "id": "e5d300ca",
   "metadata": {},
   "outputs": [],
   "source": [
    "# SUM and AVG on products\n",
    "pd.read_sql_query('SELECT SUM(price) as total_price, AVG(price) as avg_price FROM products', conn)"
   ]
  },
  {
   "cell_type": "code",
   "execution_count": null,
   "id": "e1a8343a",
   "metadata": {},
   "outputs": [],
   "source": [
    "# HAVING\n",
    "pd.read_sql_query('SELECT age, COUNT(*) as num_users FROM users GROUP BY age HAVING num_users > 1', conn)"
   ]
  },
  {
   "cell_type": "markdown",
   "id": "09cd9edf",
   "metadata": {},
   "source": [
    "#### Examples of Joins"
   ]
  },
  {
   "cell_type": "markdown",
   "id": "c2648738",
   "metadata": {},
   "source": [
    "## Examples of Joins Between Users and Products (Pandas, SQL via Pandas, Pure Python)"
   ]
  },
  {
   "cell_type": "markdown",
   "id": "d2e2848e",
   "metadata": {},
   "source": [
    "### INNER JOIN: users and products on id (Pandas)"
   ]
  },
  {
   "cell_type": "code",
   "execution_count": null,
   "id": "8176613a",
   "metadata": {},
   "outputs": [],
   "source": [
    "pd.merge(users_df, products_df, left_on='id', right_on='id', how='inner')"
   ]
  },
  {
   "cell_type": "markdown",
   "id": "82bf499b",
   "metadata": {},
   "source": [
    "### INNER JOIN: users and products on id (SQL via Pandas)"
   ]
  },
  {
   "cell_type": "code",
   "execution_count": null,
   "id": "862530de",
   "metadata": {},
   "outputs": [],
   "source": [
    "pd.read_sql_query('SELECT users.*, products.name as product_name, products.price FROM users INNER JOIN products ON users.id = products.id', conn)"
   ]
  },
  {
   "cell_type": "markdown",
   "id": "e33ecd55",
   "metadata": {},
   "source": [
    "### INNER JOIN: users and products on id (Pure Python)"
   ]
  },
  {
   "cell_type": "code",
   "execution_count": null,
   "id": "1195aa61",
   "metadata": {},
   "outputs": [],
   "source": [
    "c.execute('SELECT users.*, products.name, products.price FROM users INNER JOIN products ON users.id = products.id')\n",
    "print(c.fetchall())"
   ]
  },
  {
   "cell_type": "markdown",
   "id": "2325e189",
   "metadata": {},
   "source": [
    "### LEFT JOIN: all users and their product if exists (Pandas)"
   ]
  },
  {
   "cell_type": "code",
   "execution_count": null,
   "id": "9db94cab",
   "metadata": {},
   "outputs": [],
   "source": [
    "pd.merge(users_df, products_df, left_on='id', right_on='id', how='left')"
   ]
  },
  {
   "cell_type": "markdown",
   "id": "e1a70f6b",
   "metadata": {},
   "source": [
    "### LEFT JOIN: all users and their product if exists (SQL via Pandas)"
   ]
  },
  {
   "cell_type": "code",
   "execution_count": null,
   "id": "45a433b1",
   "metadata": {},
   "outputs": [],
   "source": [
    "pd.read_sql_query('SELECT users.*, products.name as product_name, products.price FROM users LEFT JOIN products ON users.id = products.id', conn)"
   ]
  },
  {
   "cell_type": "markdown",
   "id": "78e6663f",
   "metadata": {},
   "source": [
    "### LEFT JOIN: all users and their product if exists (Pure Python)"
   ]
  },
  {
   "cell_type": "code",
   "execution_count": null,
   "id": "bfd6fae8",
   "metadata": {},
   "outputs": [],
   "source": [
    "c.execute('SELECT users.*, products.name, products.price FROM users LEFT JOIN products ON users.id = products.id')\n",
    "print(c.fetchall())"
   ]
  },
  {
   "cell_type": "markdown",
   "id": "7d6e8bc2",
   "metadata": {},
   "source": [
    "### Close the SQLite connection\n",
    "\n",
    "After our work, we still have an open database connection that we must close."
   ]
  },
  {
   "cell_type": "code",
   "execution_count": null,
   "id": "60e40338",
   "metadata": {},
   "outputs": [],
   "source": [
    "conn.close()"
   ]
  }
 ],
 "metadata": {
  "kernelspec": {
   "display_name": "ds",
   "language": "python",
   "name": "python3"
  },
  "language_info": {
   "codemirror_mode": {
    "name": "ipython",
    "version": 3
   },
   "file_extension": ".py",
   "mimetype": "text/x-python",
   "name": "python",
   "nbconvert_exporter": "python",
   "pygments_lexer": "ipython3",
   "version": "3.12.9"
  }
 },
 "nbformat": 4,
 "nbformat_minor": 5
}
