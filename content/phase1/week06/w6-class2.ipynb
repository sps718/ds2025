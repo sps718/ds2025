{
 "cells": [
  {
   "cell_type": "code",
   "execution_count": 146,
   "id": "af38748b",
   "metadata": {},
   "outputs": [
    {
     "name": "stdout",
     "output_type": "stream",
     "text": [
      "The Zen of Python, by Tim Peters\n",
      "\n",
      "Beautiful is better than ugly.\n",
      "Explicit is better than implicit.\n",
      "Simple is better than complex.\n",
      "Complex is better than complicated.\n",
      "Flat is better than nested.\n",
      "Sparse is better than dense.\n",
      "Readability counts.\n",
      "Special cases aren't special enough to break the rules.\n",
      "Although practicality beats purity.\n",
      "Errors should never pass silently.\n",
      "Unless explicitly silenced.\n",
      "In the face of ambiguity, refuse the temptation to guess.\n",
      "There should be one-- and preferably only one --obvious way to do it.\n",
      "Although that way may not be obvious at first unless you're Dutch.\n",
      "Now is better than never.\n",
      "Although never is often better than *right* now.\n",
      "If the implementation is hard to explain, it's a bad idea.\n",
      "If the implementation is easy to explain, it may be a good idea.\n",
      "Namespaces are one honking great idea -- let's do more of those!\n"
     ]
    }
   ],
   "source": [
    "import this"
   ]
  },
  {
   "cell_type": "code",
   "execution_count": 148,
   "id": "190f06c3",
   "metadata": {},
   "outputs": [],
   "source": [
    "import antigravity"
   ]
  },
  {
   "cell_type": "code",
   "execution_count": 159,
   "id": "4a602606",
   "metadata": {},
   "outputs": [
    {
     "name": "stdout",
     "output_type": "stream",
     "text": [
      "A    1\n",
      "B    2\n",
      "C    3\n",
      "D    4\n",
      "dtype: int64\n"
     ]
    },
    {
     "data": {
      "text/plain": [
       "np.int64(1)"
      ]
     },
     "execution_count": 159,
     "metadata": {},
     "output_type": "execute_result"
    }
   ],
   "source": [
    "import pandas as pd\n",
    "\n",
    "# Dictionary to create a Series\n",
    "data = {\"A\": 1, 'B': 2, 'C': 3, 'D': 4}\n",
    "\n",
    "# Create the Series\n",
    "series = pd.Series(data)\n",
    "\n",
    "# Display the Series\n",
    "print(series)\n",
    "\n",
    "series.loc[\"A\"] # here we're indexing by the label that was set\n",
    "series.iloc[0] # here we're indexing by the actual numerical index "
   ]
  },
  {
   "cell_type": "code",
   "execution_count": null,
   "id": "0df22ff2",
   "metadata": {},
   "outputs": [],
   "source": [
    "import pandas as pd\n",
    "\n",
    "# Dictionary to create a Series\n",
    "data = {'A': 1, 'B': 2, 'C': 3, 'D': 4}\n",
    "\n",
    "# Create the Series with dictionary data\n",
    "# Each key becomes an index label in the Series\n",
    "series = pd.Series(data,)\n",
    "\n",
    "# Display the Series\n",
    "print(series)"
   ]
  },
  {
   "cell_type": "code",
   "execution_count": 155,
   "id": "909f736d",
   "metadata": {},
   "outputs": [
    {
     "name": "stdout",
     "output_type": "stream",
     "text": [
      "      Name  Age         City\n",
      "0    Alice   25     New York\n",
      "1      Bob   30  Los Angeles\n",
      "2  Charlie   35      Chicago\n",
      "3    David   40      Houston\n"
     ]
    }
   ],
   "source": [
    "import pandas as pd\n",
    "from io import StringIO\n",
    "\n",
    "# Fake CSV data (as a string)\n",
    "csv_data = \"\"\"\n",
    "Name,Age,City\n",
    "Alice,25,New York\n",
    "Bob,30,Los Angeles\n",
    "Charlie,35,Chicago\n",
    "David,40,Houston\n",
    "\"\"\"\n",
    "\n",
    "# Use StringIO to simulate a CSV file\n",
    "fake_csv = StringIO(csv_data)\n",
    "\n",
    "# Read the fake CSV data into a DataFrame\n",
    "df_csv = pd.read_csv(fake_csv)\n",
    "\n",
    "# Display the DataFrame\n",
    "print(df_csv)\n"
   ]
  },
  {
   "cell_type": "code",
   "execution_count": 154,
   "id": "57a8812d",
   "metadata": {},
   "outputs": [
    {
     "name": "stdout",
     "output_type": "stream",
     "text": [
      "      Name  Age         City\n",
      "0    Alice   25     New York\n",
      "1      Bob   30  Los Angeles\n",
      "2  Charlie   35      Chicago\n",
      "3    David   40      Houston \n",
      "\n",
      "     Name  Age         City\n",
      "0  Alice   25     New York\n",
      "1    Bob   30  Los Angeles \n",
      "\n",
      "       Name  Age     City\n",
      "2  Charlie   35  Chicago\n",
      "3    David   40  Houston\n"
     ]
    }
   ],
   "source": [
    "import pandas as pd\n",
    "\n",
    "# Dictionary to create a DataFrame\n",
    "data = {\n",
    "    'Name': ['Alice', 'Bob', 'Charlie', 'David'],\n",
    "    'Age': [25, 30, 35, 40],\n",
    "    'City': ['New York', 'Los Angeles', 'Chicago', 'Houston']\n",
    "}\n",
    "\n",
    "# Create the DataFrame\n",
    "df = pd.DataFrame(data)\n",
    "\n",
    "# Display the DataFrame\n",
    "\n",
    "print(df, \"\\n\\n\", df.head(2), \"\\n\\n\", df.tail(2))"
   ]
  },
  {
   "cell_type": "code",
   "execution_count": 156,
   "id": "82bad9b4",
   "metadata": {},
   "outputs": [
    {
     "data": {
      "text/plain": [
       "Name    object\n",
       "Age      int64\n",
       "City    object\n",
       "dtype: object"
      ]
     },
     "execution_count": 156,
     "metadata": {},
     "output_type": "execute_result"
    }
   ],
   "source": [
    "df.dtypes"
   ]
  },
  {
   "cell_type": "code",
   "execution_count": 165,
   "id": "0a753b62",
   "metadata": {},
   "outputs": [
    {
     "data": {
      "text/html": [
       "<div>\n",
       "<style scoped>\n",
       "    .dataframe tbody tr th:only-of-type {\n",
       "        vertical-align: middle;\n",
       "    }\n",
       "\n",
       "    .dataframe tbody tr th {\n",
       "        vertical-align: top;\n",
       "    }\n",
       "\n",
       "    .dataframe thead th {\n",
       "        text-align: right;\n",
       "    }\n",
       "</style>\n",
       "<table border=\"1\" class=\"dataframe\">\n",
       "  <thead>\n",
       "    <tr style=\"text-align: right;\">\n",
       "      <th></th>\n",
       "      <th>Name</th>\n",
       "      <th>Age</th>\n",
       "      <th>City</th>\n",
       "    </tr>\n",
       "  </thead>\n",
       "  <tbody>\n",
       "    <tr>\n",
       "      <th>0</th>\n",
       "      <td>Alice</td>\n",
       "      <td>25</td>\n",
       "      <td>New York</td>\n",
       "    </tr>\n",
       "    <tr>\n",
       "      <th>1</th>\n",
       "      <td>Bob</td>\n",
       "      <td>30</td>\n",
       "      <td>Los Angeles</td>\n",
       "    </tr>\n",
       "    <tr>\n",
       "      <th>2</th>\n",
       "      <td>Charlie</td>\n",
       "      <td>35</td>\n",
       "      <td>Chicago</td>\n",
       "    </tr>\n",
       "  </tbody>\n",
       "</table>\n",
       "</div>"
      ],
      "text/plain": [
       "      Name  Age         City\n",
       "0    Alice   25     New York\n",
       "1      Bob   30  Los Angeles\n",
       "2  Charlie   35      Chicago"
      ]
     },
     "execution_count": 165,
     "metadata": {},
     "output_type": "execute_result"
    }
   ],
   "source": [
    "# this will give us descriptive statistics\n",
    "\n",
    "df.describe()\n",
    "\n",
    "df.iloc[:3]"
   ]
  },
  {
   "cell_type": "code",
   "execution_count": 158,
   "id": "24cec8db",
   "metadata": {},
   "outputs": [
    {
     "name": "stdout",
     "output_type": "stream",
     "text": [
      "<class 'pandas.core.frame.DataFrame'>\n",
      "RangeIndex: 4 entries, 0 to 3\n",
      "Data columns (total 3 columns):\n",
      " #   Column  Non-Null Count  Dtype \n",
      "---  ------  --------------  ----- \n",
      " 0   Name    4 non-null      object\n",
      " 1   Age     4 non-null      int64 \n",
      " 2   City    4 non-null      object\n",
      "dtypes: int64(1), object(2)\n",
      "memory usage: 228.0+ bytes\n"
     ]
    }
   ],
   "source": [
    "# to get info about the dataframe\n",
    "\n",
    "df.info()"
   ]
  },
  {
   "cell_type": "code",
   "execution_count": 166,
   "id": "6845ce2d",
   "metadata": {},
   "outputs": [
    {
     "name": "stdout",
     "output_type": "stream",
     "text": [
      "      Name  Age         City\n",
      "3    David   40      Houston\n",
      "2  Charlie   35      Chicago\n",
      "1      Bob   30  Los Angeles\n",
      "0    Alice   25     New York\n"
     ]
    }
   ],
   "source": [
    "df_sorted = df.sort_values('Age', ascending=False)\n",
    "\n",
    "print(df_sorted)"
   ]
  },
  {
   "cell_type": "code",
   "execution_count": 167,
   "id": "b802d4f0",
   "metadata": {},
   "outputs": [
    {
     "name": "stdout",
     "output_type": "stream",
     "text": [
      "      Name   Age         City\n",
      "0    Alice  25.0     New York\n",
      "1      Bob  30.0  Los Angeles\n",
      "2  Charlie   NaN      Chicago\n",
      "3     None  40.0      Houston \n",
      "\n",
      "    Name   Age         City\n",
      "0  Alice  25.0     New York\n",
      "1    Bob  30.0  Los Angeles\n"
     ]
    }
   ],
   "source": [
    "df_with_nan = pd.DataFrame({\n",
    "    'Name': ['Alice', 'Bob', 'Charlie', None],\n",
    "    'Age': [25, 30, None, 40],\n",
    "    'City': ['New York', 'Los Angeles', 'Chicago', 'Houston']\n",
    "})\n",
    "\n",
    "print(df_with_nan, \"\\n\")\n",
    "\n",
    "# Drop rows with any NaN values\n",
    "df_dropped = df_with_nan.dropna()\n",
    "print(df_dropped)"
   ]
  },
  {
   "cell_type": "code",
   "execution_count": 168,
   "id": "41b5fea7",
   "metadata": {},
   "outputs": [
    {
     "name": "stdout",
     "output_type": "stream",
     "text": [
      "      Name   Age         City\n",
      "0    Alice  25.0     New York\n",
      "1      Bob  30.0  Los Angeles\n",
      "2  Charlie   0.0      Chicago\n",
      "3        0  40.0      Houston\n"
     ]
    }
   ],
   "source": [
    "df_filled = df_with_nan.fillna(0)\n",
    "print(df_filled)"
   ]
  },
  {
   "cell_type": "code",
   "execution_count": 171,
   "id": "4cc37729",
   "metadata": {},
   "outputs": [
    {
     "name": "stdout",
     "output_type": "stream",
     "text": [
      "0      Alice\n",
      "1        Bob\n",
      "2    Charlie\n",
      "3     noname\n",
      "Name: Name, dtype: object\n"
     ]
    }
   ],
   "source": [
    "df_stored = df_with_nan[\"Name\"].fillna(\"noname\")\n",
    "\n",
    "print(df_stored)"
   ]
  },
  {
   "cell_type": "code",
   "execution_count": 172,
   "id": "e0049715",
   "metadata": {},
   "outputs": [
    {
     "name": "stdout",
     "output_type": "stream",
     "text": [
      "      Name  Age      City\n",
      "0    Alice   25  New York\n",
      "2  Charlie   35   Chicago\n",
      "3    David   40   Houston \n",
      "\n",
      "      Name  Age      City\n",
      "0    Alice   25  New York\n",
      "2  Charlie   35   Chicago\n",
      "3    David   40   Houston \n",
      "\n",
      "      Name  Age\n",
      "0    Alice   25\n",
      "1      Bob   30\n",
      "2  Charlie   35\n",
      "3    David   40\n"
     ]
    }
   ],
   "source": [
    "data = {\n",
    "    'Name': ['Alice', 'Bob', 'Charlie', 'David'],\n",
    "    'Age': [25, 30, 35, 40],\n",
    "    'City': ['New York', 'Los Angeles', 'Chicago', 'Houston']\n",
    "}\n",
    "\n",
    "# Create the DataFrame\n",
    "df = pd.DataFrame(data)\n",
    "\n",
    "df_dropped_row = df.drop(1)\n",
    "print(df_dropped_row, \"\\n\")\n",
    "\n",
    "# Could also do it like this\n",
    "df_dropped_row = df.drop(1, axis=0)\n",
    "print(df_dropped_row, \"\\n\")\n",
    "\n",
    "# Drop the 'City' column\n",
    "df_dropped_column = df.drop('City', axis=1)\n",
    "print(df_dropped_column)"
   ]
  },
  {
   "cell_type": "code",
   "execution_count": 177,
   "id": "52c894b0",
   "metadata": {},
   "outputs": [
    {
     "name": "stdout",
     "output_type": "stream",
     "text": [
      "     Name  Age         City\n",
      "0   Alice   25     New York\n",
      "1  Robert   30  Los Angeles\n",
      "2  Robert   35      Chicago\n",
      "3   David   40      Houston\n"
     ]
    }
   ],
   "source": [
    "data = {\n",
    "    'Name': ['Alice', 'Bob', 'Bob', 'David'],\n",
    "    'Age': [25, 30, 35, 40],\n",
    "    'City': ['New York', 'Los Angeles', 'Chicago', 'Houston']\n",
    "}\n",
    "\n",
    "# Create the DataFrame\n",
    "df = pd.DataFrame(data)\n",
    "\n",
    "df_replaced = df.replace({'Name': {'Bob': 'Robert'}})\n",
    "print(df_replaced)"
   ]
  },
  {
   "cell_type": "code",
   "execution_count": 180,
   "id": "078b1882",
   "metadata": {},
   "outputs": [
    {
     "name": "stdout",
     "output_type": "stream",
     "text": [
      "      Name  Age         City\n",
      "0    Alice   25     New York\n",
      "1      Bob   30  Los Angeles\n",
      "2  Charlie   35      Chicago\n",
      "3    David   40      Houston \n",
      "\n",
      "Alice \n",
      "\n",
      "    Name  Age\n",
      "0  Alice   25\n",
      "1    Bob   30\n"
     ]
    }
   ],
   "source": [
    "data = {\n",
    "    'Name': ['Alice', 'Bob', 'Charlie', 'David'],\n",
    "    'Age': [25, 30, 35, 40],\n",
    "    'City': ['New York', 'Los Angeles', 'Chicago', 'Houston']\n",
    "}\n",
    "\n",
    "# Create the DataFrame\n",
    "df = pd.DataFrame(data)\n",
    "print(df, \"\\n\")\n",
    "\n",
    "# Access the first row and first column using iloc\n",
    "print(df.iloc[0, 0], \"\\n\")  # First row, first column (Alice)\n",
    "\n",
    "# Access the first 2 rows and all columns\n",
    "print(df.iloc[0:2, :2])"
   ]
  },
  {
   "cell_type": "code",
   "execution_count": null,
   "id": "b271951e",
   "metadata": {},
   "outputs": [
    {
     "name": "stdout",
     "output_type": "stream",
     "text": [
      "      Name  Age         City\n",
      "0    Alice   25     New York\n",
      "1      Bob   30  Los Angeles\n",
      "2  Charlie   35      Chicago\n",
      "3    David   40      Houston \n",
      "\n",
      "      Name  Age         City\n",
      "A    Alice   25     New York\n",
      "B      Bob   30  Los Angeles\n",
      "C  Charlie   35      Chicago\n",
      "D    David   40      Houston \n",
      "\n",
      "df.loc['B', 'Age'] =  30 \n",
      "\n",
      "df.loc[0:1, :] returns \n",
      "    Name  Age      City\n",
      "A  Alice   25  New York\n"
     ]
    }
   ],
   "source": [
    "data = {\n",
    "    'Name': ['Alice', 'Bob', 'Charlie', 'David'],\n",
    "    'Age': [25, 30, 35, 40],\n",
    "    'City': ['New York', 'Los Angeles', 'Chicago', 'Houston']\n",
    "}\n",
    "\n",
    "# Create the DataFrame\n",
    "df = pd.DataFrame(data)\n",
    "print(df, \"\\n\")\n",
    "\n",
    "# First set the index to letter labels A, B, C, D\n",
    "df.index = ['A', 'B', 'C', 'D']\n",
    "print(df, \"\\n\")\n",
    "\n",
    "# Access data for row 'B' and column 'Age' using loc\n",
    "print(\"df.loc['B', 'Age'] = \", df.loc['B', 'Age'], \"\\n\")  # Row 'B', column 'Age'\n",
    "\n",
    "# Access the first two rows and all columns\n",
    "# this should fail\n",
    "print(\"df.iloc[0:1, :] returns \")\n",
    "print(df.iloc[0:1, :])"
   ]
  },
  {
   "cell_type": "code",
   "execution_count": 185,
   "id": "16dc6f20",
   "metadata": {},
   "outputs": [
    {
     "data": {
      "text/html": [
       "<div>\n",
       "<style scoped>\n",
       "    .dataframe tbody tr th:only-of-type {\n",
       "        vertical-align: middle;\n",
       "    }\n",
       "\n",
       "    .dataframe tbody tr th {\n",
       "        vertical-align: top;\n",
       "    }\n",
       "\n",
       "    .dataframe thead th {\n",
       "        text-align: right;\n",
       "    }\n",
       "</style>\n",
       "<table border=\"1\" class=\"dataframe\">\n",
       "  <thead>\n",
       "    <tr style=\"text-align: right;\">\n",
       "      <th></th>\n",
       "      <th>Employee_ID</th>\n",
       "      <th>Name</th>\n",
       "      <th>Age</th>\n",
       "      <th>Salary</th>\n",
       "      <th>Department</th>\n",
       "      <th>City</th>\n",
       "    </tr>\n",
       "  </thead>\n",
       "  <tbody>\n",
       "    <tr>\n",
       "      <th>0</th>\n",
       "      <td>101</td>\n",
       "      <td>Alice</td>\n",
       "      <td>25.0</td>\n",
       "      <td>55000</td>\n",
       "      <td>HR</td>\n",
       "      <td>New York</td>\n",
       "    </tr>\n",
       "    <tr>\n",
       "      <th>1</th>\n",
       "      <td>102</td>\n",
       "      <td>Bob</td>\n",
       "      <td>30.0</td>\n",
       "      <td>70000</td>\n",
       "      <td>IT</td>\n",
       "      <td>Los Angeles</td>\n",
       "    </tr>\n",
       "    <tr>\n",
       "      <th>2</th>\n",
       "      <td>103</td>\n",
       "      <td>Charlie</td>\n",
       "      <td>35.0</td>\n",
       "      <td>80000</td>\n",
       "      <td>Finance</td>\n",
       "      <td>Chicago</td>\n",
       "    </tr>\n",
       "    <tr>\n",
       "      <th>3</th>\n",
       "      <td>104</td>\n",
       "      <td>David</td>\n",
       "      <td>NaN</td>\n",
       "      <td>60000</td>\n",
       "      <td>Marketing</td>\n",
       "      <td>Houston</td>\n",
       "    </tr>\n",
       "    <tr>\n",
       "      <th>4</th>\n",
       "      <td>105</td>\n",
       "      <td>Eva</td>\n",
       "      <td>40.0</td>\n",
       "      <td>120000</td>\n",
       "      <td>IT</td>\n",
       "      <td>New York</td>\n",
       "    </tr>\n",
       "  </tbody>\n",
       "</table>\n",
       "</div>"
      ],
      "text/plain": [
       "   Employee_ID     Name   Age  Salary Department         City\n",
       "0          101    Alice  25.0   55000         HR     New York\n",
       "1          102      Bob  30.0   70000         IT  Los Angeles\n",
       "2          103  Charlie  35.0   80000    Finance      Chicago\n",
       "3          104    David   NaN   60000  Marketing      Houston\n",
       "4          105      Eva  40.0  120000         IT     New York"
      ]
     },
     "execution_count": 185,
     "metadata": {},
     "output_type": "execute_result"
    }
   ],
   "source": [
    "import pandas as pd\n",
    "import numpy as np\n",
    "\n",
    "# Creating a DataFrame with employee data\n",
    "data = {\n",
    "    'Employee_ID': [101, 102, 103, 104, 105],\n",
    "    'Name': ['Alice', 'Bob', 'Charlie', 'David', 'Eva'],\n",
    "    'Age': [25, 30, 35, np.nan, 40],\n",
    "    'Salary': [55000, 70000, 80000, 60000, 120000],\n",
    "    'Department': ['HR', 'IT', 'Finance', 'Marketing', 'IT'],\n",
    "    'City': ['New York', 'Los Angeles', 'Chicago', 'Houston', 'New York']\n",
    "}\n",
    "\n",
    "df = pd.DataFrame(data)\n",
    "df"
   ]
  },
  {
   "cell_type": "code",
   "execution_count": 187,
   "id": "b0eb4db1",
   "metadata": {},
   "outputs": [
    {
     "name": "stdout",
     "output_type": "stream",
     "text": [
      "   Employee_ID Name   Age  Salary Department         City\n",
      "1          102  Bob  30.0   70000         IT  Los Angeles\n",
      "4          105  Eva  40.0  120000         IT     New York\n"
     ]
    }
   ],
   "source": [
    "df_it = df[df['Department'] == 'IT']\n",
    "print(df_it)\n",
    "\n",
    "# print(df['Department'] == 'IT')"
   ]
  },
  {
   "cell_type": "code",
   "execution_count": 188,
   "id": "fe0e8ad1",
   "metadata": {},
   "outputs": [
    {
     "name": "stdout",
     "output_type": "stream",
     "text": [
      "   Employee_ID   Name  Age  Salary Department     City\n",
      "3          104  David  NaN   60000  Marketing  Houston\n"
     ]
    }
   ],
   "source": [
    "df_nan_age = df[df['Age'].isna()]\n",
    "print(df_nan_age)"
   ]
  },
  {
   "cell_type": "code",
   "execution_count": 189,
   "id": "363fc5a1",
   "metadata": {},
   "outputs": [
    {
     "name": "stdout",
     "output_type": "stream",
     "text": [
      "   Employee_ID     Name   Age  Salary Department      City\n",
      "2          103  Charlie  35.0   80000    Finance   Chicago\n",
      "4          105      Eva  40.0  120000         IT  New York\n"
     ]
    }
   ],
   "source": [
    "df_age_30_plus = df[df['Age'] > 30]\n",
    "print(df_age_30_plus)"
   ]
  },
  {
   "cell_type": "code",
   "execution_count": 194,
   "id": "d589d5e3",
   "metadata": {},
   "outputs": [
    {
     "name": "stdout",
     "output_type": "stream",
     "text": [
      "   Employee_ID Name   Age  Salary Department         City\n",
      "1          102  Bob  30.0   70000         IT  Los Angeles\n",
      "4          105  Eva  40.0  120000         IT     New York\n"
     ]
    }
   ],
   "source": [
    "df_it_high_salary = df[(df['Salary'] > 60000) & (df['Department'] == 'IT')]\n",
    "print(df_it_high_salary)"
   ]
  },
  {
   "cell_type": "code",
   "execution_count": 196,
   "id": "05af63c6",
   "metadata": {},
   "outputs": [
    {
     "name": "stdout",
     "output_type": "stream",
     "text": [
      "   Employee_ID     Name   Age  Salary Department         City\n",
      "0          101    Alice  25.0   55000         HR     New York\n",
      "1          102      Bob  30.0   70000         IT  Los Angeles\n",
      "2          103  Charlie  35.0   80000    Finance      Chicago\n",
      "3          104    David   NaN   60000  Marketing      Houston\n",
      "4          105      Eva  40.0  120000         IT     New York\n"
     ]
    }
   ],
   "source": [
    "df_it_or_high_salary = df[(df['Department'] == 'IT') | (df['Salary'] < 90000)]\n",
    "print(df_it_or_high_salary)"
   ]
  },
  {
   "cell_type": "code",
   "execution_count": 197,
   "id": "46f51660",
   "metadata": {},
   "outputs": [
    {
     "name": "stdout",
     "output_type": "stream",
     "text": [
      "   Employee_ID   Name   Age  Salary Department      City\n",
      "0          101  Alice  25.0   55000         HR  New York\n",
      "4          105    Eva  40.0  120000         IT  New York\n"
     ]
    }
   ],
   "source": [
    "df_new_city = df[df['City'].str.contains('New', na=False)]\n",
    "print(df_new_city)"
   ]
  },
  {
   "cell_type": "code",
   "execution_count": 198,
   "id": "ec759896",
   "metadata": {},
   "outputs": [
    {
     "name": "stdout",
     "output_type": "stream",
     "text": [
      "   Employee_ID   Name  Age  Salary Department     City\n",
      "3          104  David  NaN   60000  Marketing  Houston\n"
     ]
    }
   ],
   "source": [
    "df_nan_age = df[df['Age'].isna()]\n",
    "print(df_nan_age)"
   ]
  },
  {
   "cell_type": "code",
   "execution_count": 199,
   "id": "5a218048",
   "metadata": {},
   "outputs": [
    {
     "name": "stdout",
     "output_type": "stream",
     "text": [
      "Department\n",
      "Finance      80000.0\n",
      "HR           55000.0\n",
      "IT           95000.0\n",
      "Marketing    60000.0\n",
      "Name: Salary, dtype: float64\n"
     ]
    }
   ],
   "source": [
    "df_dept_avg_salary = df.groupby('Department')['Salary'].mean()\n",
    "\n",
    "print(df_dept_avg_salary)"
   ]
  },
  {
   "cell_type": "code",
   "execution_count": 200,
   "id": "42e9cbfd",
   "metadata": {},
   "outputs": [
    {
     "data": {
      "text/html": [
       "<div>\n",
       "<style scoped>\n",
       "    .dataframe tbody tr th:only-of-type {\n",
       "        vertical-align: middle;\n",
       "    }\n",
       "\n",
       "    .dataframe tbody tr th {\n",
       "        vertical-align: top;\n",
       "    }\n",
       "\n",
       "    .dataframe thead th {\n",
       "        text-align: right;\n",
       "    }\n",
       "</style>\n",
       "<table border=\"1\" class=\"dataframe\">\n",
       "  <thead>\n",
       "    <tr style=\"text-align: right;\">\n",
       "      <th></th>\n",
       "      <th>Employee_ID</th>\n",
       "      <th>Name</th>\n",
       "      <th>Employee_Age</th>\n",
       "      <th>Annual_Salary</th>\n",
       "      <th>Department</th>\n",
       "      <th>City</th>\n",
       "    </tr>\n",
       "  </thead>\n",
       "  <tbody>\n",
       "    <tr>\n",
       "      <th>0</th>\n",
       "      <td>101</td>\n",
       "      <td>Alice</td>\n",
       "      <td>25.0</td>\n",
       "      <td>55000</td>\n",
       "      <td>HR</td>\n",
       "      <td>New York</td>\n",
       "    </tr>\n",
       "    <tr>\n",
       "      <th>1</th>\n",
       "      <td>102</td>\n",
       "      <td>Bob</td>\n",
       "      <td>30.0</td>\n",
       "      <td>70000</td>\n",
       "      <td>IT</td>\n",
       "      <td>Los Angeles</td>\n",
       "    </tr>\n",
       "    <tr>\n",
       "      <th>2</th>\n",
       "      <td>103</td>\n",
       "      <td>Charlie</td>\n",
       "      <td>35.0</td>\n",
       "      <td>80000</td>\n",
       "      <td>Finance</td>\n",
       "      <td>Chicago</td>\n",
       "    </tr>\n",
       "    <tr>\n",
       "      <th>3</th>\n",
       "      <td>104</td>\n",
       "      <td>David</td>\n",
       "      <td>NaN</td>\n",
       "      <td>60000</td>\n",
       "      <td>Marketing</td>\n",
       "      <td>Houston</td>\n",
       "    </tr>\n",
       "    <tr>\n",
       "      <th>4</th>\n",
       "      <td>105</td>\n",
       "      <td>Eva</td>\n",
       "      <td>40.0</td>\n",
       "      <td>120000</td>\n",
       "      <td>IT</td>\n",
       "      <td>New York</td>\n",
       "    </tr>\n",
       "  </tbody>\n",
       "</table>\n",
       "</div>"
      ],
      "text/plain": [
       "   Employee_ID     Name  Employee_Age  Annual_Salary Department         City\n",
       "0          101    Alice          25.0          55000         HR     New York\n",
       "1          102      Bob          30.0          70000         IT  Los Angeles\n",
       "2          103  Charlie          35.0          80000    Finance      Chicago\n",
       "3          104    David           NaN          60000  Marketing      Houston\n",
       "4          105      Eva          40.0         120000         IT     New York"
      ]
     },
     "metadata": {},
     "output_type": "display_data"
    }
   ],
   "source": [
    "from IPython.display import display\n",
    "\n",
    "df_renamed = df.rename(columns={'Age': 'Employee_Age', 'Salary': 'Annual_Salary'})\n",
    "\n",
    "display(df_renamed)"
   ]
  },
  {
   "cell_type": "code",
   "execution_count": 204,
   "id": "da988727",
   "metadata": {},
   "outputs": [
    {
     "data": {
      "text/plain": [
       "<Axes: xlabel='Department'>"
      ]
     },
     "execution_count": 204,
     "metadata": {},
     "output_type": "execute_result"
    },
    {
     "data": {
      "image/png": "[encoded data removed]",
      "text/plain": [
       "<Figure size 640x480 with 1 Axes>"
      ]
     },
     "metadata": {},
     "output_type": "display_data"
    }
   ],
   "source": [
    "\n",
    "\n",
    "# Plot a bar chart of average salary by department\n",
    "df.groupby('Department')['Salary'].mean().plot(kind='bar')"
   ]
  },
  {
   "cell_type": "code",
   "execution_count": null,
   "id": "4157b6e0",
   "metadata": {},
   "outputs": [],
   "source": []
  }
 ],
 "metadata": {
  "kernelspec": {
   "display_name": "ds",
   "language": "python",
   "name": "python3"
  },
  "language_info": {
   "codemirror_mode": {
    "name": "ipython",
    "version": 3
   },
   "file_extension": ".py",
   "mimetype": "text/x-python",
   "name": "python",
   "nbconvert_exporter": "python",
   "pygments_lexer": "ipython3",
   "version": "3.12.9"
  }
 },
 "nbformat": 4,
 "nbformat_minor": 5
}
