{
 "cells": [
  {
   "cell_type": "code",
   "execution_count": 1,
   "metadata": {},
   "outputs": [
    {
     "name": "stdout",
     "output_type": "stream",
     "text": [
      "[{'c': 'red', 's': 'small'}]\n"
     ]
    }
   ],
   "source": [
    "class BoxManager:\n",
    "    def __init__(self):\n",
    "        self.boxes = []  # list of dicts\n",
    "\n",
    "    def add_box(self, color, size):\n",
    "        self.boxes.append({\"c\": color, \"s\": size})\n",
    "\n",
    "    def find(self, key, value):\n",
    "        result = []\n",
    "        for box in self.boxes:\n",
    "            if box.get(key) == value:\n",
    "                result.append(box)\n",
    "        return result\n",
    "\n",
    "# Usage\n",
    "bm = BoxManager()\n",
    "bm.add_box(\"red\", \"small\")\n",
    "bm.add_box(\"blue\", \"large\")\n",
    "print(bm.find(\"c\", \"red\"))  # unclear keys!\n"
   ]
  },
  {
   "cell_type": "code",
   "execution_count": null,
   "metadata": {},
   "outputs": [
    {
     "name": "stdout",
     "output_type": "stream",
     "text": [
      "[<__main__.Box object at 0x106184f80>]\n"
     ]
    }
   ],
   "source": [
    "class Box:\n",
    "    def __init__(self, color, size):\n",
    "        self.color = color\n",
    "        self.size = size\n",
    "\n",
    "    def __repr__(self):\n",
    "        return f\"Box(color={self.color}, size={self.size})\"\n",
    "\n",
    "class BoxManager:\n",
    "    def __init__(self):\n",
    "        self.boxes = []\n",
    "\n",
    "    def add_box(self, box):\n",
    "        self.boxes.append(box)\n",
    "\n",
    "    def find_by_color(self, color):\n",
    "        result = []\n",
    "        for box in self.boxes:\n",
    "            if box.color == color:\n",
    "                result.append(box)\n",
    "        return result\n",
    "\n",
    "# Usage\n",
    "bm = BoxManager()\n",
    "bm.add_box(Box(\"red\", \"small\"))\n",
    "bm.add_box(Box(\"blue\", \"large\"))\n",
    "print(bm.find_by_color(\"red\"))  # clear and readable\n"
   ]
  }
 ],
 "metadata": {
  "kernelspec": {
   "display_name": "ds",
   "language": "python",
   "name": "python3"
  },
  "language_info": {
   "codemirror_mode": {
    "name": "ipython",
    "version": 3
   },
   "file_extension": ".py",
   "mimetype": "text/x-python",
   "name": "python",
   "nbconvert_exporter": "python",
   "pygments_lexer": "ipython3",
   "version": "3.12.9"
  }
 },
 "nbformat": 4,
 "nbformat_minor": 2
}
