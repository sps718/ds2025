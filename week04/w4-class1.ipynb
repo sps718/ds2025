{
 "cells": [
  {
   "cell_type": "code",
   "execution_count": null,
   "metadata": {},
   "outputs": [],
   "source": []
  },
  {
   "cell_type": "markdown",
   "metadata": {},
   "source": [
    "# Title\n",
    "\n",
    "## smaller title\n",
    "\n",
    "paragraph of text "
   ]
  },
  {
   "cell_type": "markdown",
   "metadata": {},
   "source": []
  },
  {
   "cell_type": "code",
   "execution_count": 22,
   "metadata": {},
   "outputs": [
    {
     "ename": "SyntaxError",
     "evalue": "incomplete input (2939837866.py, line 1)",
     "output_type": "error",
     "traceback": [
      "\u001b[0;36m  Cell \u001b[0;32mIn[22], line 1\u001b[0;36m\u001b[0m\n\u001b[0;31m    print(\"hello people\"\u001b[0m\n\u001b[0m                        ^\u001b[0m\n\u001b[0;31mSyntaxError\u001b[0m\u001b[0;31m:\u001b[0m incomplete input\n"
     ]
    }
   ],
   "source": [
    "print(\"hello people\""
   ]
  },
  {
   "cell_type": "code",
   "execution_count": null,
   "metadata": {},
   "outputs": [
    {
     "name": "stdout",
     "output_type": "stream",
     "text": [
      "Welcome to the Pokémon Battle Simulator!\n",
      "\n",
      "Pikachu - Type: Electric, Level: 5, HP: 100\n",
      "\n",
      "Charmander - Type: Fire, Level: 6, HP: 95\n",
      "\n",
      "Pikachu attacks Charmander!\n",
      "Charmander now has 85 HP.\n",
      "\n",
      "Charmander attacks Pikachu!\n",
      "Pikachu now has 90 HP.\n",
      "\n"
     ]
    }
   ],
   "source": [
    "from dataclasses import dataclass\n",
    "\n",
    "# Our data model (like what an API would return)\n",
    "@dataclass\n",
    "class Pokemon:\n",
    "    name: str\n",
    "    type: str\n",
    "    level: int\n",
    "    hp: int\n",
    "\n",
    "    def summary(self):\n",
    "        print(f\"{self.name} - Type: {self.type}, Level: {self.level}, HP: {self.hp}\\n\")\n",
    "\n",
    "    def attack(self, other):\n",
    "        print(f\"{self.name} attacks {other.name}!\")\n",
    "        other.hp -= 10\n",
    "        print(f\"{other.name} now has {other.hp} HP.\\n\")\n",
    "\n",
    "# Simulate getting data from an API\n",
    "def get_pokemon(name):\n",
    "    fake_api_data = {\n",
    "        \"pikachu\": {\"name\": \"Pikachu\", \"type\": \"Electric\", \"level\": 5, \"hp\": 100},\n",
    "        \"charmander\": {\"name\": \"Charmander\", \"type\": \"Fire\", \"level\": 6, \"hp\": 95},\n",
    "    }\n",
    "\n",
    "    data = fake_api_data.get(name.lower())\n",
    "    if data:\n",
    "        return Pokemon(**data)\n",
    "        #return Pokemon(data[\"name\"], data[\"type\"], data[\"level\"], data[\"hp\"])\n",
    "    else:\n",
    "        print(\"Sorry, that Pokémon isn't available.\")\n",
    "        return None\n",
    "    \n",
    "print(\"Welcome to the Pokémon Battle Simulator!\\n\")\n",
    "\n",
    "# Try it out\n",
    "p1 = get_pokemon(\"Pikachu\")\n",
    "p2 = get_pokemon(\"Charmander\")\n",
    "\n",
    "if p1 and p2:\n",
    "    p1.summary()\n",
    "    p2.summary()\n",
    "\n",
    "    p1.attack(p2)\n",
    "    p2.attack(p1)"
   ]
  },
  {
   "cell_type": "code",
   "execution_count": null,
   "metadata": {},
   "outputs": [],
   "source": [
    "import numpy as np\n",
    "import pandas as pd\n",
    "import matplotlib.pyplot as plt\n",
    "import seaborn as sns\n",
    "import sklearn"
   ]
  },
  {
   "cell_type": "code",
   "execution_count": null,
   "metadata": {},
   "outputs": [
    {
     "name": "stdout",
     "output_type": "stream",
     "text": [
      "hello world\n",
      "hello world\n"
     ]
    }
   ],
   "source": [
    "print(\"hello world\")\n",
    "print(\"hello world\")\n",
    "\n",
    "variable = \"hello\""
   ]
  },
  {
   "cell_type": "code",
   "execution_count": null,
   "metadata": {},
   "outputs": [
    {
     "name": "stdout",
     "output_type": "stream",
     "text": [
      "hello\n"
     ]
    }
   ],
   "source": []
  },
  {
   "cell_type": "markdown",
   "metadata": {},
   "source": [
    "# 4 pillars of OOP\n",
    "\n",
    "1. encapsulation\n",
    "\n"
   ]
  },
  {
   "cell_type": "code",
   "execution_count": 25,
   "metadata": {},
   "outputs": [
    {
     "data": {
      "text/plain": [
       "1100"
      ]
     },
     "execution_count": 25,
     "metadata": {},
     "output_type": "execute_result"
    }
   ],
   "source": [
    "from dataclasses import dataclass\n",
    "\"\"\"\"\n",
    "class BankAccount:\n",
    "    # we call this by calling BankAccount(1000)\n",
    "    # this is a constructor\n",
    "    def __init__(self, balance):\n",
    "        self.__balance = balance\n",
    "\n",
    "    def deposit(self, amount):\n",
    "        self.__balance += amount\n",
    "\n",
    "    def get_balance(self):\n",
    "        return self.__balance\n",
    "\"\"\"\n",
    "\n",
    "\n",
    "@dataclass\n",
    "class BankAccount:\n",
    "    __balance: float  # double underscore still \"mangles\" the name\n",
    "\n",
    "    def deposit(self, amount):\n",
    "        self.__balance += amount\n",
    "\n",
    "    def get_balance(self):\n",
    "        return self.__balance\n",
    "\n",
    "\n",
    "bankaccount = BankAccount(1000)\n",
    "bankaccount.deposit(100)\n",
    "bankaccount.get_balance()"
   ]
  },
  {
   "cell_type": "code",
   "execution_count": null,
   "metadata": {},
   "outputs": [
    {
     "data": {
      "text/plain": [
       "BankAccount(_BankAccount__balance=1000)"
      ]
     },
     "execution_count": 24,
     "metadata": {},
     "output_type": "execute_result"
    }
   ],
   "source": []
  },
  {
   "cell_type": "code",
   "execution_count": null,
   "metadata": {},
   "outputs": [],
   "source": [
    "from dataclasses import dataclass\n",
    "\"\"\"\n",
    "class CoffeeMachine:\n",
    "    def __init__(self, brand):\n",
    "        self.brand = brand\n",
    "\n",
    "    def make_coffee(self):\n",
    "        self.__grind()\n",
    "        self.__brew()\n",
    "        print(\"Coffee ready!\")\n",
    "\n",
    "    def __grind(self): print(\"Grinding...\")\n",
    "    def __brew(self): print(\"Brewing...\")\n",
    "\"\"\"\n",
    "\n",
    "\n",
    "@dataclass\n",
    "class CoffeeMachine:\n",
    "    brand: str\n",
    "\n",
    "    def make_coffee(self):\n",
    "        self.__grind()\n",
    "        self.__brew()\n",
    "        print(f\"{self.brand} made your coffee!\")\n",
    "\n",
    "    def __grind(self): print(\"Grinding...\")\n",
    "    def __brew(self): print(\"Brewing...\")\n",
    "\n",
    "coffee_machine = CoffeeMachine(\"Nespresso\")\n",
    "coffee_machine.make_coffee()"
   ]
  },
  {
   "cell_type": "code",
   "execution_count": null,
   "metadata": {},
   "outputs": [
    {
     "name": "stdout",
     "output_type": "stream",
     "text": [
      "Woof!\n"
     ]
    }
   ],
   "source": [
    "from dataclasses import dataclass\n",
    "\n",
    "@dataclass\n",
    "class Animal:\n",
    "    name: str\n",
    "\n",
    "    def speak(self):\n",
    "        print(\"animal speaking\")\n",
    "\n",
    "@dataclass\n",
    "class Dog(Animal):\n",
    "    def another_speak(self):\n",
    "        print(\"Woof!\")\n",
    "\n",
    "dog = Dog(\"Buddy\")\n",
    "dog.speak()"
   ]
  },
  {
   "cell_type": "code",
   "execution_count": null,
   "metadata": {},
   "outputs": [],
   "source": []
  }
 ],
 "metadata": {
  "kernelspec": {
   "display_name": "ds",
   "language": "python",
   "name": "python3"
  },
  "language_info": {
   "codemirror_mode": {
    "name": "ipython",
    "version": 3
   },
   "file_extension": ".py",
   "mimetype": "text/x-python",
   "name": "python",
   "nbconvert_exporter": "python",
   "pygments_lexer": "ipython3",
   "version": "3.12.9"
  }
 },
 "nbformat": 4,
 "nbformat_minor": 2
}
